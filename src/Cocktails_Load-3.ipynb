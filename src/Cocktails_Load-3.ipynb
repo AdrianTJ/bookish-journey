{
 "cells": [
  {
   "cell_type": "code",
   "execution_count": 2,
   "id": "2577f8b3-6379-4210-afef-54417f329b7e",
   "metadata": {},
   "outputs": [],
   "source": [
    "# Import libraries \n",
    "\n",
    "import yaml\n",
    "import string\n",
    "import requests"
   ]
  },
  {
   "cell_type": "code",
   "execution_count": 3,
   "id": "4a310f62-043a-47f8-952d-fbeca975bcb8",
   "metadata": {},
   "outputs": [],
   "source": [
    "# Recall from the APIs for Data lab that including passwords in code is a terrible practice. \n",
    "# So we include a yaml file.\n",
    "\n",
    "config_file = open('cocktails.yaml', 'r')\n",
    "config = yaml.safe_load(config_file)"
   ]
  },
  {
   "cell_type": "code",
   "execution_count": 8,
   "id": "6ab4bacf-d5e8-401f-9a02-5e5127c072c0",
   "metadata": {},
   "outputs": [],
   "source": [
    "# ascii_lowercase is a pre-initialized string used as string constant\n",
    "alphabet_string = string.ascii_lowercase\n",
    "\n",
    "# Generate a list  with the alphabet\n",
    "alphabet_list = list(alphabet_string)\n"
   ]
  },
  {
   "cell_type": "code",
   "execution_count": 16,
   "id": "a5a0a38a-457c-47bb-8c9e-a4908857a54e",
   "metadata": {},
   "outputs": [],
   "source": [
    "#  Instantiate a new connection with your config information from above. In this case, API Methods using the developer test key '1' as the API key\n",
    "cocktails_key = config['cocktails_key']\n",
    "\n",
    "#  Write our API Request Payloads \n",
    "base_url = \"https://www.thecocktaildb.com/api/\"\n",
    "json_api = 'json/v1/'\n",
    "auth = f'{cocktails_key}'\n",
    "\n",
    "\n",
    "\n",
    "# Start by generating our request bodies. \n",
    "# The following code creates a list with the letter of all cocktails, it makes API calls for the compleate endpoint.\n",
    "request_bodies = []\n",
    "\n",
    "# Append to the request_bodies list an API call body for each letter in your letters dict. \n",
    "\n",
    "\n",
    "for letter in alphabet_list:\n",
    "    request_bodies.append(base_url + json_api + auth + f\"/search.php?f={letter}\")"
   ]
  },
  {
   "cell_type": "code",
   "execution_count": 18,
   "id": "45057153-0561-46c1-a578-1b6eab1e5d9a",
   "metadata": {},
   "outputs": [],
   "source": [
    "# Loop through each request body\n",
    "# Make a get request\n",
    "# Convert the request payload to a dict using the .json() method\n",
    "\n",
    "data = []\n",
    "\n",
    "for request in request_bodies:\n",
    "    data.append(requests.get(request).json())"
   ]
  },
  {
   "cell_type": "code",
   "execution_count": 23,
   "id": "548df8ba-310b-4daf-a8f5-642263fdbe3d",
   "metadata": {},
   "outputs": [
    {
     "data": {
      "text/plain": [
       "['https://www.thecocktaildb.com/api/json/v1/1/search.php?f=a',\n",
       " 'https://www.thecocktaildb.com/api/json/v1/1/search.php?f=b',\n",
       " 'https://www.thecocktaildb.com/api/json/v1/1/search.php?f=c',\n",
       " 'https://www.thecocktaildb.com/api/json/v1/1/search.php?f=d',\n",
       " 'https://www.thecocktaildb.com/api/json/v1/1/search.php?f=e',\n",
       " 'https://www.thecocktaildb.com/api/json/v1/1/search.php?f=f',\n",
       " 'https://www.thecocktaildb.com/api/json/v1/1/search.php?f=g',\n",
       " 'https://www.thecocktaildb.com/api/json/v1/1/search.php?f=h',\n",
       " 'https://www.thecocktaildb.com/api/json/v1/1/search.php?f=i',\n",
       " 'https://www.thecocktaildb.com/api/json/v1/1/search.php?f=j',\n",
       " 'https://www.thecocktaildb.com/api/json/v1/1/search.php?f=k',\n",
       " 'https://www.thecocktaildb.com/api/json/v1/1/search.php?f=l',\n",
       " 'https://www.thecocktaildb.com/api/json/v1/1/search.php?f=m',\n",
       " 'https://www.thecocktaildb.com/api/json/v1/1/search.php?f=n',\n",
       " 'https://www.thecocktaildb.com/api/json/v1/1/search.php?f=o',\n",
       " 'https://www.thecocktaildb.com/api/json/v1/1/search.php?f=p',\n",
       " 'https://www.thecocktaildb.com/api/json/v1/1/search.php?f=q',\n",
       " 'https://www.thecocktaildb.com/api/json/v1/1/search.php?f=r',\n",
       " 'https://www.thecocktaildb.com/api/json/v1/1/search.php?f=s',\n",
       " 'https://www.thecocktaildb.com/api/json/v1/1/search.php?f=t',\n",
       " 'https://www.thecocktaildb.com/api/json/v1/1/search.php?f=u',\n",
       " 'https://www.thecocktaildb.com/api/json/v1/1/search.php?f=v',\n",
       " 'https://www.thecocktaildb.com/api/json/v1/1/search.php?f=w',\n",
       " 'https://www.thecocktaildb.com/api/json/v1/1/search.php?f=x',\n",
       " 'https://www.thecocktaildb.com/api/json/v1/1/search.php?f=y',\n",
       " 'https://www.thecocktaildb.com/api/json/v1/1/search.php?f=z']"
      ]
     },
     "execution_count": 23,
     "metadata": {},
     "output_type": "execute_result"
    }
   ],
   "source": [
    "request_bodies"
   ]
  },
  {
   "cell_type": "code",
   "execution_count": 20,
   "id": "dd5674ee-8321-460c-8361-a2c127663e83",
   "metadata": {
    "tags": []
   },
   "outputs": [],
   "source": [
    "# Because some of the keys in our dict has a \"-\", we can`t upload the payload to bigquery, so we change the key:\n",
    "# \"strInstructionsZH-HANS\", for \"strInstructionsZH_HANS\" and \n",
    "# \"strInstructionsZH-HANT\" for \"strInstructionsZH_HANT\"\n",
    "\n",
    "# Also because there are no cocktails that start with the letter u, we get this message {\"drinks\":null}\n",
    "# So we add a if letter['drinks'] != None: to skip this problem.\n",
    "\n",
    "# Now that we have our payloads, we need to once again parse them into the next jason level. \n",
    "drink = []\n",
    "\n",
    "for letter in data:\n",
    "    if letter['drinks'] != None: \n",
    "        for drinks in letter['drinks']:\n",
    "            id= drinks['idDrink']\n",
    "            dato=[id,drinks]\n",
    "            drink_jaison = dato[1]\n",
    "            drink_jaison[\"strInstructionsZH_HANS\"] = drink_jaison[\"strInstructionsZH-HANS\"]\n",
    "            drink_jaison[\"strInstructionsZH_HANT\"] = drink_jaison[\"strInstructionsZH-HANT\"]\n",
    "            del drink_jaison[\"strInstructionsZH-HANS\"]\n",
    "            del drink_jaison[\"strInstructionsZH-HANT\"]\n",
    "            dato[1] = drink_jaison\n",
    "            drink.append(dato)\n",
    "            "
   ]
  },
  {
   "cell_type": "code",
   "execution_count": 25,
   "id": "546beb15-4630-43e0-b35e-05337839e8cb",
   "metadata": {},
   "outputs": [],
   "source": [
    "# Imports the Google Cloud client library\n",
    "from google.cloud import storage\n",
    "\n",
    "bucket = config['bucket']"
   ]
  },
  {
   "cell_type": "code",
   "execution_count": 26,
   "id": "753b8cad-0b4c-4539-bbbf-afa7f455f096",
   "metadata": {},
   "outputs": [],
   "source": [
    "# Instantiates a client\n",
    "# Now  that we have a service account created and JSON file loaded somewhere, we need to create a client object\n",
    "client = storage.Client()"
   ]
  },
  {
   "cell_type": "code",
   "execution_count": 27,
   "id": "82460c23-5f69-4005-b205-45c5dceea22a",
   "metadata": {},
   "outputs": [],
   "source": [
    "# Retrieve an existing bucket\n",
    "gcs_bucket = client.get_bucket(bucket)"
   ]
  },
  {
   "cell_type": "code",
   "execution_count": 29,
   "id": "309ad82a-9c36-485d-80d8-ebcaf237fb5d",
   "metadata": {},
   "outputs": [],
   "source": [
    "# Define the path within your bucket and the file name\n",
    "# The blob method create the new file, also an object.\n",
    "# Now we get a many folders each with an id, names  and ingridients, and store them into a Google cloud bucket in jason format.\n",
    "import json\n",
    "\n",
    "for letter in drink:\n",
    "    path = f\"cocktails/{letter[0]}/ingredients.json\"\n",
    "    blob = gcs_bucket.blob(path)\n",
    "    with blob.open(mode = 'w') as file:\n",
    "        json.dump(letter[1], file)"
   ]
  }
 ],
 "metadata": {
  "environment": {
   "kernel": "python3",
   "name": "common-cpu.m90",
   "type": "gcloud",
   "uri": "gcr.io/deeplearning-platform-release/base-cpu:m90"
  },
  "kernelspec": {
   "display_name": "Python 3",
   "language": "python",
   "name": "python3"
  },
  "language_info": {
   "codemirror_mode": {
    "name": "ipython",
    "version": 3
   },
   "file_extension": ".py",
   "mimetype": "text/x-python",
   "name": "python",
   "nbconvert_exporter": "python",
   "pygments_lexer": "ipython3",
   "version": "3.7.12"
  }
 },
 "nbformat": 4,
 "nbformat_minor": 5
}
