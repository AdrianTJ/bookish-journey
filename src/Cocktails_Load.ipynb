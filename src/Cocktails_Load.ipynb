{
 "cells": [
  {
   "cell_type": "code",
   "execution_count": 1,
   "id": "2577f8b3-6379-4210-afef-54417f329b7e",
   "metadata": {},
   "outputs": [],
   "source": [
    "import yaml\n",
    "import string\n",
    "import requests"
   ]
  },
  {
   "cell_type": "code",
   "execution_count": 2,
   "id": "4a310f62-043a-47f8-952d-fbeca975bcb8",
   "metadata": {},
   "outputs": [],
   "source": [
    "config_file = open('cocktails.yaml', 'r')\n",
    "config = yaml.safe_load(config_file)"
   ]
  },
  {
   "cell_type": "code",
   "execution_count": 3,
   "id": "6ab4bacf-d5e8-401f-9a02-5e5127c072c0",
   "metadata": {},
   "outputs": [],
   "source": [
    "alphabet_string = string.ascii_lowercase\n",
    "alphabet_list = list(alphabet_string)"
   ]
  },
  {
   "cell_type": "code",
   "execution_count": 4,
   "id": "a5a0a38a-457c-47bb-8c9e-a4908857a54e",
   "metadata": {},
   "outputs": [],
   "source": [
    "cocktails_key = config['cocktails_key']\n",
    "\n",
    "base_url = \"https://www.thecocktaildb.com/api/\"\n",
    "json_api = 'json/v1/'\n",
    "auth = f'{cocktails_key}'\n",
    "\n",
    "request_bodies = []\n",
    "\n",
    "for letter in alphabet_list:\n",
    "    request_bodies.append(base_url + json_api + auth + f\"/search.php?f={letter}\")"
   ]
  },
  {
   "cell_type": "code",
   "execution_count": 1,
   "id": "67cdeb5b-3f36-46f6-922f-7d03fc6cdda3",
   "metadata": {},
   "outputs": [],
   "source": [
    "#request_bodies"
   ]
  },
  {
   "cell_type": "code",
   "execution_count": 7,
   "id": "45057153-0561-46c1-a578-1b6eab1e5d9a",
   "metadata": {},
   "outputs": [],
   "source": [
    "data = []\n",
    "\n",
    "for request in request_bodies:\n",
    "    data.append(requests.get(request).json())"
   ]
  },
  {
   "cell_type": "code",
   "execution_count": 8,
   "id": "dd5674ee-8321-460c-8361-a2c127663e83",
   "metadata": {},
   "outputs": [],
   "source": [
    "drink = []\n",
    "\n",
    "for letter in data:\n",
    "    if letter['drinks'] != None: \n",
    "        for drinks in letter['drinks']:\n",
    "            id= drinks['idDrink']\n",
    "            dato=[id,drinks]\n",
    "            drink_jaison = dato[2]\n",
    "            drink_jaison[\"strInstructionsZH_HANS\"] = drink_jaison[\"strInstructionsZH-HANS\"]\n",
    "            drink_jaison[\"strInstructionsZH_HANT\"] = drink_jaison[\"strInstructionsZH-HANT\"]\n",
    "            del drink_jaison[\"strInstructionsZH-HANS\"]\n",
    "            del drink_jaison[\"strInstructionsZH-HANT\"]\n",
    "            dato[1] = drink_jaison\n",
    "            drink.append(dato)"
   ]
  },
  {
   "cell_type": "code",
   "execution_count": null,
   "id": "5c055fce-22e4-41e7-855c-170e0d02412b",
   "metadata": {},
   "outputs": [],
   "source": []
  },
  {
   "cell_type": "code",
   "execution_count": null,
   "id": "a6dbd7db-2581-43af-a1f7-3fa4379f2a86",
   "metadata": {},
   "outputs": [],
   "source": []
  },
  {
   "cell_type": "code",
   "execution_count": null,
   "id": "57632410-4842-4e18-b5b2-216f4def2180",
   "metadata": {},
   "outputs": [],
   "source": []
  },
  {
   "cell_type": "code",
   "execution_count": null,
   "id": "de2ffec5-5c8f-45e3-8170-f462f61f0a43",
   "metadata": {},
   "outputs": [],
   "source": []
  },
  {
   "cell_type": "code",
   "execution_count": 11,
   "id": "546beb15-4630-43e0-b35e-05337839e8cb",
   "metadata": {},
   "outputs": [],
   "source": [
    "from google.cloud import storage\n",
    "\n",
    "# bucket = config['bucket']\n",
    "bucket = \"cocktails-itam\""
   ]
  },
  {
   "cell_type": "code",
   "execution_count": 12,
   "id": "753b8cad-0b4c-4539-bbbf-afa7f455f096",
   "metadata": {},
   "outputs": [],
   "source": [
    "client = storage.Client()"
   ]
  },
  {
   "cell_type": "code",
   "execution_count": 13,
   "id": "82460c23-5f69-4005-b205-45c5dceea22a",
   "metadata": {},
   "outputs": [],
   "source": [
    "gcs_bucket = client.get_bucket(bucket)"
   ]
  },
  {
   "cell_type": "code",
   "execution_count": 14,
   "id": "acc863a1-56b7-41a5-8126-77d155b37b4a",
   "metadata": {},
   "outputs": [],
   "source": [
    "import json"
   ]
  },
  {
   "cell_type": "code",
   "execution_count": 22,
   "id": "309ad82a-9c36-485d-80d8-ebcaf237fb5d",
   "metadata": {},
   "outputs": [],
   "source": [
    "for letter in drink:\n",
    "    path = f\"cocktails/{letter[0]}/ingredients.json\"\n",
    "    blob = gcs_bucket.blob(path)\n",
    "    with blob.open(mode = 'w') as file:\n",
    "        json.dump(letter[1], file)"
   ]
  }
 ],
 "metadata": {
  "environment": {
   "kernel": "python3",
   "name": "common-cpu.m90",
   "type": "gcloud",
   "uri": "gcr.io/deeplearning-platform-release/base-cpu:m90"
  },
  "kernelspec": {
   "display_name": "Python 3 (ipykernel)",
   "language": "python",
   "name": "python3"
  },
  "language_info": {
   "codemirror_mode": {
    "name": "ipython",
    "version": 3
   },
   "file_extension": ".py",
   "mimetype": "text/x-python",
   "name": "python",
   "nbconvert_exporter": "python",
   "pygments_lexer": "ipython3",
   "version": "3.9.7"
  }
 },
 "nbformat": 4,
 "nbformat_minor": 5
}
