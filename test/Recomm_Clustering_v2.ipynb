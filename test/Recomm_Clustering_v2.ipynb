{
 "cells": [
  {
   "cell_type": "markdown",
   "metadata": {},
   "source": [
    "# Recommendation System"
   ]
  },
  {
   "cell_type": "markdown",
   "metadata": {},
   "source": [
    "These recommendation system is a system that recommends users new cocktails among 425 unique cocktails.\n",
    "\n",
    "There are hundreds of cocktails yet most people know only the famous ones. Additionally, it can be difficult for many people to try new cocktails they think they will love. Most of the people might hesitate to try something new when it comes to the cocktails, because there are many options with different ingredients. Our cocktail recommender system encourages people to try new flavours by utilizing data science and various cocktails in the database"
   ]
  },
  {
   "cell_type": "code",
   "execution_count": 1,
   "metadata": {
    "id": "JSSIS6_C8Vp7"
   },
   "outputs": [],
   "source": [
    "# Importing Libraries\n",
    "\n",
    "\n",
    "import pandas as pd\n",
    "import numpy as np\n",
    "import matplotlib.pyplot as plt\n",
    "import seaborn as sns"
   ]
  },
  {
   "cell_type": "code",
   "execution_count": 2,
   "metadata": {
    "id": "oRO46mZL-Nog"
   },
   "outputs": [],
   "source": [
    "# From sklearn importing DictVectorizer: Transforms lists of feature-value mappings to vectors.\n",
    "# Importing KernelPCA: Kernel Principal component analysis (KPCA).\n",
    "# Importing itertools provides various functions that work on iterators. \n",
    "\n",
    "from sklearn.feature_extraction import DictVectorizer\n",
    "from sklearn.decomposition import KernelPCA\n",
    "import itertools"
   ]
  },
  {
   "cell_type": "markdown",
   "metadata": {},
   "source": [
    "## Feature Engineering "
   ]
  },
  {
   "cell_type": "markdown",
   "metadata": {},
   "source": [
    "Using **Bigquery** we select the ingredients from de database, the id (idDrink) and the name of the Drink (srtDrink)"
   ]
  },
  {
   "cell_type": "code",
   "execution_count": 3,
   "metadata": {},
   "outputs": [
    {
     "name": "stderr",
     "output_type": "stream",
     "text": [
      "Query complete after 0.00s: 100%|██████████| 1/1 [00:00<00:00, 707.18query/s] \n",
      "Downloading: 100%|██████████| 425/425 [00:00<00:00, 589.90rows/s]\n"
     ]
    }
   ],
   "source": [
    "%%bigquery base\n",
    "\n",
    "SELECT \n",
    "    idDrink,\n",
    "    strDrink,\n",
    "    strIngredient1,\n",
    "    strIngredient2,\n",
    "    strIngredient3,\n",
    "    strIngredient4,\n",
    "    strIngredient5,\n",
    "    strIngredient6,\n",
    "    strIngredient7,\n",
    "    strIngredient8,\n",
    "    strIngredient9,\n",
    "    strIngredient10,\n",
    "    strIngredient11,\n",
    "    strIngredient12,\n",
    "    strIngredient13,\n",
    "    strIngredient14,\n",
    "    strIngredient15\n",
    "FROM `bookish-journey-343419.cocktails_dataset.cocktails-table`"
   ]
  },
  {
   "cell_type": "code",
   "execution_count": 4,
   "metadata": {
    "colab": {
     "base_uri": "https://localhost:8080/",
     "height": 514
    },
    "id": "7oDv5n5e8csg",
    "outputId": "11473004-bc82-4d5d-b040-a421813b622f"
   },
   "outputs": [
    {
     "name": "stdout",
     "output_type": "stream",
     "text": [
      "(425, 17)\n"
     ]
    },
    {
     "data": {
      "text/html": [
       "<div>\n",
       "<style scoped>\n",
       "    .dataframe tbody tr th:only-of-type {\n",
       "        vertical-align: middle;\n",
       "    }\n",
       "\n",
       "    .dataframe tbody tr th {\n",
       "        vertical-align: top;\n",
       "    }\n",
       "\n",
       "    .dataframe thead th {\n",
       "        text-align: right;\n",
       "    }\n",
       "</style>\n",
       "<table border=\"1\" class=\"dataframe\">\n",
       "  <thead>\n",
       "    <tr style=\"text-align: right;\">\n",
       "      <th></th>\n",
       "      <th>idDrink</th>\n",
       "      <th>strDrink</th>\n",
       "      <th>strIngredient1</th>\n",
       "      <th>strIngredient2</th>\n",
       "      <th>strIngredient3</th>\n",
       "      <th>strIngredient4</th>\n",
       "      <th>strIngredient5</th>\n",
       "      <th>strIngredient6</th>\n",
       "      <th>strIngredient7</th>\n",
       "      <th>strIngredient8</th>\n",
       "      <th>strIngredient9</th>\n",
       "      <th>strIngredient10</th>\n",
       "      <th>strIngredient11</th>\n",
       "      <th>strIngredient12</th>\n",
       "      <th>strIngredient13</th>\n",
       "      <th>strIngredient14</th>\n",
       "      <th>strIngredient15</th>\n",
       "    </tr>\n",
       "  </thead>\n",
       "  <tbody>\n",
       "    <tr>\n",
       "      <th>0</th>\n",
       "      <td>11009</td>\n",
       "      <td>Moscow Mule</td>\n",
       "      <td>Vodka</td>\n",
       "      <td>Lime juice</td>\n",
       "      <td>Ginger ale</td>\n",
       "      <td>None</td>\n",
       "      <td>None</td>\n",
       "      <td>None</td>\n",
       "      <td>None</td>\n",
       "      <td>None</td>\n",
       "      <td>None</td>\n",
       "      <td>None</td>\n",
       "      <td>None</td>\n",
       "      <td>None</td>\n",
       "      <td>None</td>\n",
       "      <td>None</td>\n",
       "      <td>None</td>\n",
       "    </tr>\n",
       "    <tr>\n",
       "      <th>1</th>\n",
       "      <td>11023</td>\n",
       "      <td>Almeria</td>\n",
       "      <td>Dark rum</td>\n",
       "      <td>Kahlua</td>\n",
       "      <td>Egg white</td>\n",
       "      <td>None</td>\n",
       "      <td>None</td>\n",
       "      <td>None</td>\n",
       "      <td>None</td>\n",
       "      <td>None</td>\n",
       "      <td>None</td>\n",
       "      <td>None</td>\n",
       "      <td>None</td>\n",
       "      <td>None</td>\n",
       "      <td>None</td>\n",
       "      <td>None</td>\n",
       "      <td>None</td>\n",
       "    </tr>\n",
       "    <tr>\n",
       "      <th>2</th>\n",
       "      <td>11106</td>\n",
       "      <td>Blackthorn</td>\n",
       "      <td>Sweet Vermouth</td>\n",
       "      <td>Sloe gin</td>\n",
       "      <td>Lemon peel</td>\n",
       "      <td>None</td>\n",
       "      <td>None</td>\n",
       "      <td>None</td>\n",
       "      <td>None</td>\n",
       "      <td>None</td>\n",
       "      <td>None</td>\n",
       "      <td>None</td>\n",
       "      <td>None</td>\n",
       "      <td>None</td>\n",
       "      <td>None</td>\n",
       "      <td>None</td>\n",
       "      <td>None</td>\n",
       "    </tr>\n",
       "    <tr>\n",
       "      <th>3</th>\n",
       "      <td>11046</td>\n",
       "      <td>Applecar</td>\n",
       "      <td>Applejack</td>\n",
       "      <td>Triple sec</td>\n",
       "      <td>Lemon juice</td>\n",
       "      <td>None</td>\n",
       "      <td>None</td>\n",
       "      <td>None</td>\n",
       "      <td>None</td>\n",
       "      <td>None</td>\n",
       "      <td>None</td>\n",
       "      <td>None</td>\n",
       "      <td>None</td>\n",
       "      <td>None</td>\n",
       "      <td>None</td>\n",
       "      <td>None</td>\n",
       "      <td>None</td>\n",
       "    </tr>\n",
       "    <tr>\n",
       "      <th>4</th>\n",
       "      <td>11007</td>\n",
       "      <td>Margarita</td>\n",
       "      <td>Tequila</td>\n",
       "      <td>Triple sec</td>\n",
       "      <td>Lime juice</td>\n",
       "      <td>Salt</td>\n",
       "      <td>None</td>\n",
       "      <td>None</td>\n",
       "      <td>None</td>\n",
       "      <td>None</td>\n",
       "      <td>None</td>\n",
       "      <td>None</td>\n",
       "      <td>None</td>\n",
       "      <td>None</td>\n",
       "      <td>None</td>\n",
       "      <td>None</td>\n",
       "      <td>None</td>\n",
       "    </tr>\n",
       "    <tr>\n",
       "      <th>5</th>\n",
       "      <td>11014</td>\n",
       "      <td>Alexander</td>\n",
       "      <td>Gin</td>\n",
       "      <td>Creme de Cacao</td>\n",
       "      <td>Light cream</td>\n",
       "      <td>Nutmeg</td>\n",
       "      <td>None</td>\n",
       "      <td>None</td>\n",
       "      <td>None</td>\n",
       "      <td>None</td>\n",
       "      <td>None</td>\n",
       "      <td>None</td>\n",
       "      <td>None</td>\n",
       "      <td>None</td>\n",
       "      <td>None</td>\n",
       "      <td>None</td>\n",
       "      <td>None</td>\n",
       "    </tr>\n",
       "    <tr>\n",
       "      <th>6</th>\n",
       "      <td>11055</td>\n",
       "      <td>Artillery</td>\n",
       "      <td>Sweet Vermouth</td>\n",
       "      <td>Gin</td>\n",
       "      <td>Bitters</td>\n",
       "      <td>None</td>\n",
       "      <td>None</td>\n",
       "      <td>None</td>\n",
       "      <td>None</td>\n",
       "      <td>None</td>\n",
       "      <td>None</td>\n",
       "      <td>None</td>\n",
       "      <td>None</td>\n",
       "      <td>None</td>\n",
       "      <td>None</td>\n",
       "      <td>None</td>\n",
       "      <td>None</td>\n",
       "    </tr>\n",
       "    <tr>\n",
       "      <th>7</th>\n",
       "      <td>11060</td>\n",
       "      <td>Balmoral</td>\n",
       "      <td>Scotch</td>\n",
       "      <td>Sweet Vermouth</td>\n",
       "      <td>Dry Vermouth</td>\n",
       "      <td>Bitters</td>\n",
       "      <td>None</td>\n",
       "      <td>None</td>\n",
       "      <td>None</td>\n",
       "      <td>None</td>\n",
       "      <td>None</td>\n",
       "      <td>None</td>\n",
       "      <td>None</td>\n",
       "      <td>None</td>\n",
       "      <td>None</td>\n",
       "      <td>None</td>\n",
       "      <td>None</td>\n",
       "    </tr>\n",
       "    <tr>\n",
       "      <th>8</th>\n",
       "      <td>11008</td>\n",
       "      <td>Manhattan</td>\n",
       "      <td>Sweet Vermouth</td>\n",
       "      <td>Bourbon</td>\n",
       "      <td>Angostura bitters</td>\n",
       "      <td>Ice</td>\n",
       "      <td>Maraschino cherry</td>\n",
       "      <td>Orange peel</td>\n",
       "      <td>None</td>\n",
       "      <td>None</td>\n",
       "      <td>None</td>\n",
       "      <td>None</td>\n",
       "      <td>None</td>\n",
       "      <td>None</td>\n",
       "      <td>None</td>\n",
       "      <td>None</td>\n",
       "      <td>None</td>\n",
       "    </tr>\n",
       "    <tr>\n",
       "      <th>9</th>\n",
       "      <td>11004</td>\n",
       "      <td>Whiskey Sour</td>\n",
       "      <td>Blended whiskey</td>\n",
       "      <td>Lemon</td>\n",
       "      <td>Powdered sugar</td>\n",
       "      <td>Cherry</td>\n",
       "      <td>Lemon</td>\n",
       "      <td>None</td>\n",
       "      <td>None</td>\n",
       "      <td>None</td>\n",
       "      <td>None</td>\n",
       "      <td>None</td>\n",
       "      <td>None</td>\n",
       "      <td>None</td>\n",
       "      <td>None</td>\n",
       "      <td>None</td>\n",
       "      <td>None</td>\n",
       "    </tr>\n",
       "  </tbody>\n",
       "</table>\n",
       "</div>"
      ],
      "text/plain": [
       "   idDrink      strDrink   strIngredient1  strIngredient2     strIngredient3  \\\n",
       "0    11009   Moscow Mule            Vodka      Lime juice         Ginger ale   \n",
       "1    11023       Almeria         Dark rum          Kahlua          Egg white   \n",
       "2    11106    Blackthorn   Sweet Vermouth        Sloe gin         Lemon peel   \n",
       "3    11046      Applecar        Applejack      Triple sec        Lemon juice   \n",
       "4    11007     Margarita          Tequila      Triple sec         Lime juice   \n",
       "5    11014     Alexander              Gin  Creme de Cacao        Light cream   \n",
       "6    11055     Artillery   Sweet Vermouth             Gin            Bitters   \n",
       "7    11060      Balmoral           Scotch  Sweet Vermouth       Dry Vermouth   \n",
       "8    11008     Manhattan   Sweet Vermouth         Bourbon  Angostura bitters   \n",
       "9    11004  Whiskey Sour  Blended whiskey           Lemon     Powdered sugar   \n",
       "\n",
       "  strIngredient4     strIngredient5 strIngredient6 strIngredient7  \\\n",
       "0           None               None           None           None   \n",
       "1           None               None           None           None   \n",
       "2           None               None           None           None   \n",
       "3           None               None           None           None   \n",
       "4           Salt               None           None           None   \n",
       "5         Nutmeg               None           None           None   \n",
       "6           None               None           None           None   \n",
       "7        Bitters               None           None           None   \n",
       "8            Ice  Maraschino cherry    Orange peel           None   \n",
       "9         Cherry              Lemon           None           None   \n",
       "\n",
       "  strIngredient8 strIngredient9 strIngredient10 strIngredient11  \\\n",
       "0           None           None            None            None   \n",
       "1           None           None            None            None   \n",
       "2           None           None            None            None   \n",
       "3           None           None            None            None   \n",
       "4           None           None            None            None   \n",
       "5           None           None            None            None   \n",
       "6           None           None            None            None   \n",
       "7           None           None            None            None   \n",
       "8           None           None            None            None   \n",
       "9           None           None            None            None   \n",
       "\n",
       "  strIngredient12 strIngredient13 strIngredient14 strIngredient15  \n",
       "0            None            None            None            None  \n",
       "1            None            None            None            None  \n",
       "2            None            None            None            None  \n",
       "3            None            None            None            None  \n",
       "4            None            None            None            None  \n",
       "5            None            None            None            None  \n",
       "6            None            None            None            None  \n",
       "7            None            None            None            None  \n",
       "8            None            None            None            None  \n",
       "9            None            None            None            None  "
      ]
     },
     "execution_count": 4,
     "metadata": {},
     "output_type": "execute_result"
    }
   ],
   "source": [
    "# Print the first 10 rows of the database\n",
    "print(base.shape)\n",
    "base.head(10)"
   ]
  },
  {
   "cell_type": "code",
   "execution_count": 5,
   "metadata": {
    "colab": {
     "base_uri": "https://localhost:8080/"
    },
    "id": "2s2YbKo8831F",
    "outputId": "febe3b08-046d-4a36-e66d-0af4c7d9ce52"
   },
   "outputs": [
    {
     "name": "stdout",
     "output_type": "stream",
     "text": [
      "<class 'pandas.core.frame.DataFrame'>\n",
      "RangeIndex: 425 entries, 0 to 424\n",
      "Data columns (total 17 columns):\n",
      " #   Column           Non-Null Count  Dtype \n",
      "---  ------           --------------  ----- \n",
      " 0   idDrink          425 non-null    int64 \n",
      " 1   strDrink         425 non-null    object\n",
      " 2   strIngredient1   425 non-null    object\n",
      " 3   strIngredient2   425 non-null    object\n",
      " 4   strIngredient3   361 non-null    object\n",
      " 5   strIngredient4   237 non-null    object\n",
      " 6   strIngredient5   154 non-null    object\n",
      " 7   strIngredient6   83 non-null     object\n",
      " 8   strIngredient7   45 non-null     object\n",
      " 9   strIngredient8   4 non-null      object\n",
      " 10  strIngredient9   2 non-null      object\n",
      " 11  strIngredient10  1 non-null      object\n",
      " 12  strIngredient11  1 non-null      object\n",
      " 13  strIngredient12  0 non-null      object\n",
      " 14  strIngredient13  0 non-null      object\n",
      " 15  strIngredient14  0 non-null      object\n",
      " 16  strIngredient15  0 non-null      object\n",
      "dtypes: int64(1), object(16)\n",
      "memory usage: 56.6+ KB\n"
     ]
    }
   ],
   "source": [
    "# Show the type of every column, you can see that from strIngredient12 to strIngredient15 are empty columns.\n",
    "base.info()"
   ]
  },
  {
   "cell_type": "code",
   "execution_count": 6,
   "metadata": {
    "id": "vk2KTMaD849S"
   },
   "outputs": [],
   "source": [
    "# Drop empty columns\n",
    "base = base.drop(['strIngredient12','strIngredient13','strIngredient14','strIngredient15'],axis=1)"
   ]
  },
  {
   "cell_type": "code",
   "execution_count": 7,
   "metadata": {
    "id": "xVJnt2tF9Gta"
   },
   "outputs": [],
   "source": [
    "# Replace NaN with \"\"\n",
    "\n",
    "base = base.replace(np.nan,\"\")"
   ]
  },
  {
   "cell_type": "code",
   "execution_count": 8,
   "metadata": {
    "colab": {
     "base_uri": "https://localhost:8080/"
    },
    "id": "MrbI8X198-04",
    "outputId": "42660c47-fb3e-4255-f89d-71e92ec43e3d"
   },
   "outputs": [
    {
     "data": {
      "text/plain": [
       "0                    Vodka,Lime juice,Ginger ale,,,,,,,,\n",
       "1                      Dark rum,Kahlua,Egg white,,,,,,,,\n",
       "2             Sweet Vermouth,Sloe gin,Lemon peel,,,,,,,,\n",
       "3               Applejack,Triple sec,Lemon juice,,,,,,,,\n",
       "4              Tequila,Triple sec,Lime juice,Salt,,,,,,,\n",
       "                             ...                        \n",
       "420      Vodka,Raspberry Liqueur,pineapple juice,,,,,,,,\n",
       "421    Rum,Vodka,Tequila,Gin,Triple sec,Chambord rasp...\n",
       "422     Baileys irish cream,Grand Marnier,Kahlua,,,,,,,,\n",
       "423    Orange Bitters,Green Chartreuse,Gin,Sweet Verm...\n",
       "424    Everclear,Vodka,Mountain Dew,Surge,Lemon juice...\n",
       "Name: ingredients, Length: 425, dtype: object"
      ]
     },
     "execution_count": 8,
     "metadata": {},
     "output_type": "execute_result"
    }
   ],
   "source": [
    "# Join all ingredients into one single row.\n",
    "base['ingredients'] = base[['strIngredient1','strIngredient2','strIngredient3','strIngredient4','strIngredient5',\n",
    "        'strIngredient6','strIngredient7','strIngredient8','strIngredient9','strIngredient10','strIngredient11']].agg(','.join, axis=1)\n",
    "base.ingredients"
   ]
  },
  {
   "cell_type": "code",
   "execution_count": 9,
   "metadata": {
    "colab": {
     "base_uri": "https://localhost:8080/"
    },
    "id": "lPVrYJs29u6V",
    "outputId": "22e9df46-e3f1-43a7-a665-da0edb8b8846"
   },
   "outputs": [
    {
     "data": {
      "text/plain": [
       "0                    vodka,lime juice,ginger ale,,,,,,,,\n",
       "1                      dark rum,kahlua,egg white,,,,,,,,\n",
       "2             sweet vermouth,sloe gin,lemon peel,,,,,,,,\n",
       "3               applejack,triple sec,lemon juice,,,,,,,,\n",
       "4              tequila,triple sec,lime juice,salt,,,,,,,\n",
       "                             ...                        \n",
       "420      vodka,raspberry liqueur,pineapple juice,,,,,,,,\n",
       "421    rum,vodka,tequila,gin,triple sec,chambord rasp...\n",
       "422     baileys irish cream,grand marnier,kahlua,,,,,,,,\n",
       "423    orange bitters,green chartreuse,gin,sweet verm...\n",
       "424    everclear,vodka,mountain dew,surge,lemon juice...\n",
       "Name: ingredients, Length: 425, dtype: object"
      ]
     },
     "execution_count": 9,
     "metadata": {},
     "output_type": "execute_result"
    }
   ],
   "source": [
    "# Function to transform letters to lowercase.\n",
    "\n",
    "def lower(text):\n",
    "    text=text.lower()\n",
    "    return text\n",
    "\n",
    "# Pass all words throw the funtion and append them\n",
    "ingredients_low=[]\n",
    "for i in base.ingredients:\n",
    "    il=lower(i)\n",
    "    ingredients_low.append(il)\n",
    "\n",
    "base['ingredients']=ingredients_low\n",
    "base.ingredients"
   ]
  },
  {
   "cell_type": "code",
   "execution_count": 10,
   "metadata": {
    "id": "9GsiXBo29XwT"
   },
   "outputs": [],
   "source": [
    "# This function convert a list of ingredients into a dictionary, note: every ingredient gets a 1.\n",
    "# this mean that the value of every key is 1. key:value\n",
    "\n",
    "def convert_to_dict(lst):\n",
    "    d = {} #empty dict\n",
    "    for ingre in lst:\n",
    "        d[ingre] = 1\n",
    "    return d"
   ]
  },
  {
   "cell_type": "code",
   "execution_count": 11,
   "metadata": {
    "colab": {
     "base_uri": "https://localhost:8080/"
    },
    "id": "4npcbvhw9ZFu",
    "outputId": "b0b26419-2fbc-4d13-ceba-d1fb5ae14ea1"
   },
   "outputs": [
    {
     "name": "stdout",
     "output_type": "stream",
     "text": [
      "0      {'vodka': 1, 'lime juice': 1, 'ginger ale': 1,...\n",
      "1      {'dark rum': 1, 'kahlua': 1, 'egg white': 1, '...\n",
      "2      {'sweet vermouth': 1, 'sloe gin': 1, 'lemon pe...\n",
      "3      {'applejack': 1, 'triple sec': 1, 'lemon juice...\n",
      "4      {'tequila': 1, 'triple sec': 1, 'lime juice': ...\n",
      "                             ...                        \n",
      "420    {'vodka': 1, 'raspberry liqueur': 1, 'pineappl...\n",
      "421    {'rum': 1, 'vodka': 1, 'tequila': 1, 'gin': 1,...\n",
      "422    {'baileys irish cream': 1, 'grand marnier': 1,...\n",
      "423    {'orange bitters': 1, 'green chartreuse': 1, '...\n",
      "424    {'everclear': 1, 'vodka': 1, 'mountain dew': 1...\n",
      "Name: bagofwords, Length: 425, dtype: object\n"
     ]
    }
   ],
   "source": [
    "# We use the function to convert every row into a dictionary. \n",
    "# 'vodka': 1, 'lime juice': 1... this will help us later to create a one hot encoding.\n",
    "base['bagofwords'] = base.ingredients.str.split(',').apply(convert_to_dict)\n",
    "print(base.bagofwords)"
   ]
  },
  {
   "cell_type": "code",
   "execution_count": 12,
   "metadata": {
    "id": "T3wG2Xz0-FZw"
   },
   "outputs": [],
   "source": [
    "# One Hot Encoding\n",
    "# DictVectorizer:This transformer turns lists of mappings (dict-like objects) of feature names to feature values into Numpy arrays or scipy.sparse matrices for use with scikit-learn estimators.\n",
    "# sparse, default=True. Whether transform should produce scipy.sparse matrices. In this case we set it as False.\n",
    "\n",
    "vector_dict = DictVectorizer(sparse = False)\n",
    "\n",
    "# fit_transform() is used on the training data so that we can scale the training data and also learn the scaling parameters of that data. \n",
    "#The fit method is calculating the mean and variance of each of the features present in our data. \n",
    "#The transform method is transforming all the features using the respective mean and variance.\n",
    "# We past every dictionary into a list.\n",
    "X = vector_dict.fit_transform(base[\"bagofwords\"].tolist())\n",
    "\n",
    "# We select the column strDrink(name of the drink) from de dataset\n",
    "y = base.strDrink"
   ]
  },
  {
   "cell_type": "markdown",
   "metadata": {},
   "source": [
    "## KPCA Method"
   ]
  },
  {
   "cell_type": "markdown",
   "metadata": {},
   "source": [
    "Kernel Principal Component Analysis (KPCA) is a non-linear dimensionality reduction technique. It is an extension of Principal Component Analysis (PCA) - which is a linear dimensionality reduction technique - using kernel methods."
   ]
  },
  {
   "cell_type": "code",
   "execution_count": 13,
   "metadata": {
    "colab": {
     "base_uri": "https://localhost:8080/"
    },
    "id": "N4Xbesu3-h_x",
    "outputId": "61207332-2f54-4a42-9b6b-a53b07093001"
   },
   "outputs": [
    {
     "data": {
      "text/plain": [
       "(425, 2)"
      ]
     },
     "execution_count": 13,
     "metadata": {},
     "output_type": "execute_result"
    }
   ],
   "source": [
    "# Using Kernel PCA\n",
    "kpca = KernelPCA(n_components=2,kernel=\"cosine\", n_jobs=2)\n",
    "\n",
    "# Using the transform method we can use the same mean and variance as it is calculated from our training data to transform our test data. \n",
    "#Thus, the parameters learned by our model using the training data will help us to transform our test data.\n",
    "x_pca = kpca.fit_transform(X)\n",
    "x_pca.shape"
   ]
  },
  {
   "cell_type": "code",
   "execution_count": 14,
   "metadata": {
    "colab": {
     "base_uri": "https://localhost:8080/",
     "height": 441
    },
    "id": "2X3APRmb_ECd",
    "outputId": "65a637db-d28e-4aef-ff6d-8000104dbde8"
   },
   "outputs": [
    {
     "name": "stderr",
     "output_type": "stream",
     "text": [
      "/opt/conda/lib/python3.7/site-packages/seaborn/_decorators.py:43: FutureWarning: Pass the following variables as keyword args: x, y. From version 0.12, the only valid positional argument will be `data`, and passing other arguments without an explicit keyword will result in an error or misinterpretation.\n",
      "  FutureWarning\n"
     ]
    },
    {
     "data": {
      "text/plain": [
       "<seaborn.axisgrid.FacetGrid at 0x7f31ef0b5f10>"
      ]
     },
     "execution_count": 14,
     "metadata": {},
     "output_type": "execute_result"
    },
    {
     "data": {
      "image/png": "[encoded data removed]",
      "text/plain": [
       "<Figure size 360x360 with 1 Axes>"
      ]
     },
     "metadata": {
      "needs_background": "light"
     },
     "output_type": "display_data"
    }
   ],
   "source": [
    "# Plotting the clusters\n",
    "plot_pca = pd.DataFrame(data = x_pca[:,:2], columns = [\"PC1\",\"PC2\"])\n",
    "sns.lmplot(\"PC1\", \"PC2\", data = plot_pca, palette = \"Paired\",legend=True, fit_reg = False)"
   ]
  },
  {
   "cell_type": "code",
   "execution_count": 15,
   "metadata": {
    "colab": {
     "base_uri": "https://localhost:8080/"
    },
    "id": "3PdnwHAv_xau",
    "outputId": "450ba138-6621-4211-a4fd-309cf29bfa61"
   },
   "outputs": [
    {
     "data": {
      "text/plain": [
       "array([0, 1, 1, 1, 1, 2, 2, 1, 1, 3, 2, 3, 1, 0, 2, 2, 3, 1, 2, 2, 1, 1,\n",
       "       3, 3, 1, 3, 2, 0, 3, 2, 2, 3, 2, 1, 2, 2, 2, 3, 3, 2, 2, 1, 2, 3,\n",
       "       2, 2, 3, 2, 2, 2, 0, 2, 2, 0, 0, 1, 1, 3, 1, 1, 1, 1, 1, 1, 1, 2,\n",
       "       3, 2, 1, 2, 3, 1, 2, 0, 1, 3, 2, 2, 2, 1, 1, 0, 2, 3, 3, 1, 2, 1,\n",
       "       2, 3, 2, 1, 1, 1, 2, 3, 3, 3, 3, 2, 3, 3, 1, 1, 1, 1, 0, 3, 1, 2,\n",
       "       1, 1, 1, 2, 3, 2, 1, 1, 2, 1, 1, 0, 2, 0, 2, 1, 3, 1, 1, 1, 1, 2,\n",
       "       3, 1, 3, 1, 1, 1, 3, 0, 1, 1, 1, 3, 3, 3, 3, 3, 3, 2, 1, 1, 1, 3,\n",
       "       3, 1, 1, 1, 1, 1, 0, 1, 1, 1, 0, 0, 3, 2, 3, 3, 1, 1, 3, 1, 1, 0,\n",
       "       1, 3, 3, 3, 0, 3, 1, 1, 1, 3, 0, 1, 3, 1, 0, 3, 1, 0, 1, 1, 3, 1,\n",
       "       1, 3, 3, 3, 1, 3, 0, 1, 1, 1, 1, 0, 0, 1, 1, 3, 1, 1, 3, 1, 1, 1,\n",
       "       3, 1, 1, 1, 1, 1, 3, 1, 1, 1, 0, 1, 1, 1, 1, 3, 1, 1, 1, 1, 1, 1,\n",
       "       0, 1, 1, 1, 1, 0, 1, 1, 1, 1, 3, 1, 1, 0, 0, 1, 0, 1, 1, 0, 1, 1,\n",
       "       1, 2, 1, 1, 1, 1, 0, 0, 3, 1, 1, 1, 2, 1, 0, 0, 1, 1, 1, 0, 0, 0,\n",
       "       1, 1, 0, 0, 1, 1, 2, 1, 1, 2, 1, 1, 1, 1, 1, 2, 3, 1, 1, 1, 1, 1,\n",
       "       1, 0, 2, 1, 1, 1, 0, 0, 1, 1, 2, 0, 1, 1, 0, 1, 1, 2, 1, 1, 1, 1,\n",
       "       0, 2, 1, 1, 2, 1, 3, 2, 0, 1, 1, 1, 1, 1, 1, 1, 1, 0, 1, 1, 0, 2,\n",
       "       2, 2, 1, 1, 1, 2, 1, 1, 1, 1, 1, 2, 1, 1, 1, 3, 2, 0, 1, 1, 3, 1,\n",
       "       0, 1, 1, 1, 3, 0, 1, 0, 2, 1, 0, 3, 1, 1, 1, 2, 1, 2, 2, 3, 2, 2,\n",
       "       2, 1, 2, 1, 1, 0, 1, 1, 1, 1, 2, 2, 0, 1, 1, 1, 2, 3, 1, 2, 1, 2,\n",
       "       1, 2, 0, 0, 1, 2, 0], dtype=int32)"
      ]
     },
     "execution_count": 15,
     "metadata": {},
     "output_type": "execute_result"
    }
   ],
   "source": [
    "from sklearn.cluster import KMeans\n",
    "import numpy as np\n",
    "kmeans = KMeans(n_clusters=4, random_state=42).fit(x_pca)\n",
    "kmeans.labels_"
   ]
  },
  {
   "cell_type": "code",
   "execution_count": 16,
   "metadata": {
    "id": "ZV1FbSCyCUPR"
   },
   "outputs": [],
   "source": [
    "label = kmeans.fit_predict(x_pca)"
   ]
  },
  {
   "cell_type": "code",
   "execution_count": 17,
   "metadata": {
    "colab": {
     "base_uri": "https://localhost:8080/",
     "height": 265
    },
    "id": "SQ7pUlP6h-Ri",
    "outputId": "faadb0bc-e7a1-4016-f66c-f343ee67d23e"
   },
   "outputs": [
    {
     "data": {
      "image/png": "[encoded data removed]",
      "text/plain": [
       "<Figure size 432x288 with 1 Axes>"
      ]
     },
     "metadata": {
      "needs_background": "light"
     },
     "output_type": "display_data"
    }
   ],
   "source": [
    "#Getting unique labels\n",
    " \n",
    "u_labels = np.unique(label)\n",
    " \n",
    "#plotting the results:\n",
    " \n",
    "for i in u_labels:\n",
    "    plt.scatter(x_pca[label == i , 0] , x_pca[label == i , 1] , label = i)\n",
    "plt.legend()\n",
    "plt.show()"
   ]
  },
  {
   "cell_type": "code",
   "execution_count": 18,
   "metadata": {
    "id": "MZQdi54xkS9s"
   },
   "outputs": [],
   "source": [
    "def get_cosine_distance(objective,n_return = 5):\n",
    "  values = []\n",
    "  for i in range(len(X)):\n",
    "    values.append(1 - spatial.distance.cosine(objective, X[i]))\n",
    "  ind = np.argpartition(values, -1 * n_return)[-1 * n_return:]\n",
    "  top_n = y[ind]\n",
    "  return top_n"
   ]
  },
  {
   "cell_type": "code",
   "execution_count": 19,
   "metadata": {
    "colab": {
     "base_uri": "https://localhost:8080/"
    },
    "id": "3uWQV6Mgkoql",
    "outputId": "bb790b77-32f2-4ff2-a726-72adebe0018d"
   },
   "outputs": [
    {
     "ename": "NameError",
     "evalue": "name 'spatial' is not defined",
     "output_type": "error",
     "traceback": [
      "\u001b[0;31m---------------------------------------------------------------------------\u001b[0m",
      "\u001b[0;31mNameError\u001b[0m                                 Traceback (most recent call last)",
      "\u001b[0;32m/tmp/ipykernel_1424/2993328954.py\u001b[0m in \u001b[0;36m<module>\u001b[0;34m\u001b[0m\n\u001b[0;32m----> 1\u001b[0;31m \u001b[0mget_cosine_distance\u001b[0m\u001b[0;34m(\u001b[0m\u001b[0mX\u001b[0m\u001b[0;34m[\u001b[0m\u001b[0;36m4\u001b[0m\u001b[0;34m]\u001b[0m\u001b[0;34m)\u001b[0m\u001b[0;34m\u001b[0m\u001b[0;34m\u001b[0m\u001b[0m\n\u001b[0m",
      "\u001b[0;32m/tmp/ipykernel_1424/1964434756.py\u001b[0m in \u001b[0;36mget_cosine_distance\u001b[0;34m(objective, n_return)\u001b[0m\n\u001b[1;32m      2\u001b[0m   \u001b[0mvalues\u001b[0m \u001b[0;34m=\u001b[0m \u001b[0;34m[\u001b[0m\u001b[0;34m]\u001b[0m\u001b[0;34m\u001b[0m\u001b[0;34m\u001b[0m\u001b[0m\n\u001b[1;32m      3\u001b[0m   \u001b[0;32mfor\u001b[0m \u001b[0mi\u001b[0m \u001b[0;32min\u001b[0m \u001b[0mrange\u001b[0m\u001b[0;34m(\u001b[0m\u001b[0mlen\u001b[0m\u001b[0;34m(\u001b[0m\u001b[0mX\u001b[0m\u001b[0;34m)\u001b[0m\u001b[0;34m)\u001b[0m\u001b[0;34m:\u001b[0m\u001b[0;34m\u001b[0m\u001b[0;34m\u001b[0m\u001b[0m\n\u001b[0;32m----> 4\u001b[0;31m     \u001b[0mvalues\u001b[0m\u001b[0;34m.\u001b[0m\u001b[0mappend\u001b[0m\u001b[0;34m(\u001b[0m\u001b[0;36m1\u001b[0m \u001b[0;34m-\u001b[0m \u001b[0mspatial\u001b[0m\u001b[0;34m.\u001b[0m\u001b[0mdistance\u001b[0m\u001b[0;34m.\u001b[0m\u001b[0mcosine\u001b[0m\u001b[0;34m(\u001b[0m\u001b[0mobjective\u001b[0m\u001b[0;34m,\u001b[0m \u001b[0mX\u001b[0m\u001b[0;34m[\u001b[0m\u001b[0mi\u001b[0m\u001b[0;34m]\u001b[0m\u001b[0;34m)\u001b[0m\u001b[0;34m)\u001b[0m\u001b[0;34m\u001b[0m\u001b[0;34m\u001b[0m\u001b[0m\n\u001b[0m\u001b[1;32m      5\u001b[0m   \u001b[0mind\u001b[0m \u001b[0;34m=\u001b[0m \u001b[0mnp\u001b[0m\u001b[0;34m.\u001b[0m\u001b[0margpartition\u001b[0m\u001b[0;34m(\u001b[0m\u001b[0mvalues\u001b[0m\u001b[0;34m,\u001b[0m \u001b[0;34m-\u001b[0m\u001b[0;36m1\u001b[0m \u001b[0;34m*\u001b[0m \u001b[0mn_return\u001b[0m\u001b[0;34m)\u001b[0m\u001b[0;34m[\u001b[0m\u001b[0;34m-\u001b[0m\u001b[0;36m1\u001b[0m \u001b[0;34m*\u001b[0m \u001b[0mn_return\u001b[0m\u001b[0;34m:\u001b[0m\u001b[0;34m]\u001b[0m\u001b[0;34m\u001b[0m\u001b[0;34m\u001b[0m\u001b[0m\n\u001b[1;32m      6\u001b[0m   \u001b[0mtop_n\u001b[0m \u001b[0;34m=\u001b[0m \u001b[0my\u001b[0m\u001b[0;34m[\u001b[0m\u001b[0mind\u001b[0m\u001b[0;34m]\u001b[0m\u001b[0;34m\u001b[0m\u001b[0;34m\u001b[0m\u001b[0m\n",
      "\u001b[0;31mNameError\u001b[0m: name 'spatial' is not defined"
     ]
    }
   ],
   "source": [
    "get_cosine_distance(X[4])"
   ]
  },
  {
   "cell_type": "code",
   "execution_count": null,
   "metadata": {},
   "outputs": [],
   "source": []
  },
  {
   "cell_type": "code",
   "execution_count": 34,
   "metadata": {},
   "outputs": [
    {
     "ename": "FileNotFoundError",
     "evalue": "[Errno 2] No such file or directory: 'cocktails/cockteles_PCA.csv'",
     "output_type": "error",
     "traceback": [
      "\u001b[0;31m---------------------------------------------------------------------------\u001b[0m",
      "\u001b[0;31mFileNotFoundError\u001b[0m                         Traceback (most recent call last)",
      "\u001b[0;32m/tmp/ipykernel_2055/2360370868.py\u001b[0m in \u001b[0;36m<module>\u001b[0;34m\u001b[0m\n\u001b[0;32m----> 1\u001b[0;31m \u001b[0mnp\u001b[0m\u001b[0;34m.\u001b[0m\u001b[0msavetxt\u001b[0m\u001b[0;34m(\u001b[0m\u001b[0;34m\"cocktails/cockteles_PCA.csv\"\u001b[0m\u001b[0;34m,\u001b[0m \u001b[0mx_pca\u001b[0m\u001b[0;34m,\u001b[0m \u001b[0mdelimiter\u001b[0m\u001b[0;34m=\u001b[0m\u001b[0;34m\",\"\u001b[0m\u001b[0;34m)\u001b[0m\u001b[0;34m\u001b[0m\u001b[0;34m\u001b[0m\u001b[0m\n\u001b[0m",
      "\u001b[0;32m<__array_function__ internals>\u001b[0m in \u001b[0;36msavetxt\u001b[0;34m(*args, **kwargs)\u001b[0m\n",
      "\u001b[0;32m/opt/conda/lib/python3.7/site-packages/numpy/lib/npyio.py\u001b[0m in \u001b[0;36msavetxt\u001b[0;34m(fname, X, fmt, delimiter, newline, header, footer, comments, encoding)\u001b[0m\n\u001b[1;32m   1355\u001b[0m     \u001b[0;32mif\u001b[0m \u001b[0m_is_string_like\u001b[0m\u001b[0;34m(\u001b[0m\u001b[0mfname\u001b[0m\u001b[0;34m)\u001b[0m\u001b[0;34m:\u001b[0m\u001b[0;34m\u001b[0m\u001b[0;34m\u001b[0m\u001b[0m\n\u001b[1;32m   1356\u001b[0m         \u001b[0;31m# datasource doesn't support creating a new file ...\u001b[0m\u001b[0;34m\u001b[0m\u001b[0;34m\u001b[0m\u001b[0;34m\u001b[0m\u001b[0m\n\u001b[0;32m-> 1357\u001b[0;31m         \u001b[0mopen\u001b[0m\u001b[0;34m(\u001b[0m\u001b[0mfname\u001b[0m\u001b[0;34m,\u001b[0m \u001b[0;34m'wt'\u001b[0m\u001b[0;34m)\u001b[0m\u001b[0;34m.\u001b[0m\u001b[0mclose\u001b[0m\u001b[0;34m(\u001b[0m\u001b[0;34m)\u001b[0m\u001b[0;34m\u001b[0m\u001b[0;34m\u001b[0m\u001b[0m\n\u001b[0m\u001b[1;32m   1358\u001b[0m         \u001b[0mfh\u001b[0m \u001b[0;34m=\u001b[0m \u001b[0mnp\u001b[0m\u001b[0;34m.\u001b[0m\u001b[0mlib\u001b[0m\u001b[0;34m.\u001b[0m\u001b[0m_datasource\u001b[0m\u001b[0;34m.\u001b[0m\u001b[0mopen\u001b[0m\u001b[0;34m(\u001b[0m\u001b[0mfname\u001b[0m\u001b[0;34m,\u001b[0m \u001b[0;34m'wt'\u001b[0m\u001b[0;34m,\u001b[0m \u001b[0mencoding\u001b[0m\u001b[0;34m=\u001b[0m\u001b[0mencoding\u001b[0m\u001b[0;34m)\u001b[0m\u001b[0;34m\u001b[0m\u001b[0;34m\u001b[0m\u001b[0m\n\u001b[1;32m   1359\u001b[0m         \u001b[0mown_fh\u001b[0m \u001b[0;34m=\u001b[0m \u001b[0;32mTrue\u001b[0m\u001b[0;34m\u001b[0m\u001b[0;34m\u001b[0m\u001b[0m\n",
      "\u001b[0;31mFileNotFoundError\u001b[0m: [Errno 2] No such file or directory: 'cocktails/cockteles_PCA.csv'"
     ]
    }
   ],
   "source": [
    "np.savetxt(\"cocktails/cockteles_PCA.csv\", x_pca, delimiter=\",\")"
   ]
  },
  {
   "cell_type": "code",
   "execution_count": 18,
   "metadata": {},
   "outputs": [
    {
     "name": "stderr",
     "output_type": "stream",
     "text": [
      "Query complete after 0.00s: 100%|██████████| 3/3 [00:00<00:00, 1880.29query/s]                        \n"
     ]
    },
    {
     "data": {
      "text/html": [
       "<div>\n",
       "<style scoped>\n",
       "    .dataframe tbody tr th:only-of-type {\n",
       "        vertical-align: middle;\n",
       "    }\n",
       "\n",
       "    .dataframe tbody tr th {\n",
       "        vertical-align: top;\n",
       "    }\n",
       "\n",
       "    .dataframe thead th {\n",
       "        text-align: right;\n",
       "    }\n",
       "</style>\n",
       "<table border=\"1\" class=\"dataframe\">\n",
       "  <thead>\n",
       "    <tr style=\"text-align: right;\">\n",
       "      <th></th>\n",
       "    </tr>\n",
       "  </thead>\n",
       "  <tbody>\n",
       "  </tbody>\n",
       "</table>\n",
       "</div>"
      ],
      "text/plain": [
       "Empty DataFrame\n",
       "Columns: []\n",
       "Index: []"
      ]
     },
     "execution_count": 18,
     "metadata": {},
     "output_type": "execute_result"
    }
   ],
   "source": [
    "%%bigquery \n",
    "\n",
    "CREATE OR REPLACE MODEL\n",
    "  cocktails_dataset.model_kmeans_cocktail OPTIONS(model_type='kmeans',\n",
    "    num_clusters=4) AS\n",
    "SELECT * FROM `bookish-journey-343419.cocktails_dataset.cocktail_PCA` "
   ]
  },
  {
   "cell_type": "code",
   "execution_count": 19,
   "metadata": {},
   "outputs": [
    {
     "name": "stderr",
     "output_type": "stream",
     "text": [
      "Query complete after 0.00s: 100%|██████████| 8/8 [00:00<00:00, 1907.04query/s]                        \n",
      "Downloading: 100%|██████████| 425/425 [00:00<00:00, 454.71rows/s]\n"
     ]
    }
   ],
   "source": [
    "%%bigquery label2\n",
    "\n",
    "SELECT * FROM ML.PREDICT(MODEL `bookish-journey-343419.cocktails_dataset.model_kmeans_cocktail`,\n",
    "(SELECT * FROM `bookish-journey-343419.cocktails_dataset.cocktail_PCA` ) )"
   ]
  },
  {
   "cell_type": "code",
   "execution_count": 21,
   "metadata": {},
   "outputs": [
    {
     "data": {
      "text/plain": [
       "array([0, 1, 1, 1, 1, 2, 2, 1, 1, 3, 2, 3, 1, 0, 2, 2, 3, 1, 2, 2, 1, 1,\n",
       "       3, 3, 1, 3, 2, 0, 3, 2, 2, 3, 2, 1, 2, 2, 2, 3, 3, 2, 2, 1, 2, 3,\n",
       "       2, 2, 3, 2, 2, 2, 0, 2, 2, 0, 0, 1, 1, 3, 1, 1, 1, 1, 1, 1, 1, 2,\n",
       "       3, 2, 1, 2, 3, 1, 2, 0, 1, 3, 2, 2, 2, 1, 1, 0, 2, 3, 3, 1, 2, 1,\n",
       "       2, 3, 2, 1, 1, 1, 2, 3, 3, 3, 3, 2, 3, 3, 1, 1, 1, 1, 0, 3, 1, 2,\n",
       "       1, 1, 1, 2, 3, 2, 1, 1, 2, 1, 1, 0, 2, 0, 2, 1, 3, 1, 1, 1, 1, 2,\n",
       "       3, 1, 3, 1, 1, 1, 3, 0, 1, 1, 1, 3, 3, 3, 3, 3, 3, 2, 1, 1, 1, 3,\n",
       "       3, 1, 1, 1, 1, 1, 0, 1, 1, 1, 0, 0, 3, 2, 3, 3, 1, 1, 3, 1, 1, 0,\n",
       "       1, 3, 3, 3, 0, 3, 1, 1, 1, 3, 0, 1, 3, 1, 0, 3, 1, 0, 1, 1, 3, 1,\n",
       "       1, 3, 3, 3, 1, 3, 0, 1, 1, 1, 1, 0, 0, 1, 1, 3, 1, 1, 3, 1, 1, 1,\n",
       "       3, 1, 1, 1, 1, 1, 3, 1, 1, 1, 0, 1, 1, 1, 1, 3, 1, 1, 1, 1, 1, 1,\n",
       "       0, 1, 1, 1, 1, 0, 1, 1, 1, 1, 3, 1, 1, 0, 0, 1, 0, 1, 1, 0, 1, 1,\n",
       "       1, 2, 1, 1, 1, 1, 0, 0, 3, 1, 1, 1, 2, 1, 0, 0, 1, 1, 1, 0, 0, 0,\n",
       "       1, 1, 0, 0, 1, 1, 2, 1, 1, 2, 1, 1, 1, 1, 1, 2, 3, 1, 1, 1, 1, 1,\n",
       "       1, 0, 2, 1, 1, 1, 0, 0, 1, 1, 2, 0, 1, 1, 0, 1, 1, 2, 1, 1, 1, 1,\n",
       "       0, 2, 1, 1, 2, 1, 3, 2, 0, 1, 1, 1, 1, 1, 1, 1, 1, 0, 1, 1, 0, 2,\n",
       "       2, 2, 1, 1, 1, 2, 1, 1, 1, 1, 1, 2, 1, 1, 1, 3, 2, 0, 1, 1, 3, 1,\n",
       "       0, 1, 1, 1, 3, 0, 1, 0, 2, 1, 0, 3, 1, 1, 1, 2, 1, 2, 2, 3, 2, 2,\n",
       "       2, 1, 2, 1, 1, 0, 1, 1, 1, 1, 2, 2, 0, 1, 1, 1, 2, 3, 1, 2, 1, 2,\n",
       "       1, 2, 0, 0, 1, 2, 0], dtype=int32)"
      ]
     },
     "execution_count": 21,
     "metadata": {},
     "output_type": "execute_result"
    }
   ],
   "source": [
    "label"
   ]
  },
  {
   "cell_type": "code",
   "execution_count": 22,
   "metadata": {},
   "outputs": [
    {
     "data": {
      "text/html": [
       "<div>\n",
       "<style scoped>\n",
       "    .dataframe tbody tr th:only-of-type {\n",
       "        vertical-align: middle;\n",
       "    }\n",
       "\n",
       "    .dataframe tbody tr th {\n",
       "        vertical-align: top;\n",
       "    }\n",
       "\n",
       "    .dataframe thead th {\n",
       "        text-align: right;\n",
       "    }\n",
       "</style>\n",
       "<table border=\"1\" class=\"dataframe\">\n",
       "  <thead>\n",
       "    <tr style=\"text-align: right;\">\n",
       "      <th></th>\n",
       "      <th>CENTROID_ID</th>\n",
       "      <th>NEAREST_CENTROIDS_DISTANCE</th>\n",
       "      <th>double_field_0</th>\n",
       "      <th>double_field_1</th>\n",
       "    </tr>\n",
       "  </thead>\n",
       "  <tbody>\n",
       "    <tr>\n",
       "      <th>0</th>\n",
       "      <td>4</td>\n",
       "      <td>[{'CENTROID_ID': 4, 'DISTANCE': 0.219229804456...</td>\n",
       "      <td>-0.053085</td>\n",
       "      <td>-0.060194</td>\n",
       "    </tr>\n",
       "    <tr>\n",
       "      <th>1</th>\n",
       "      <td>1</td>\n",
       "      <td>[{'CENTROID_ID': 1, 'DISTANCE': 0.494423412187...</td>\n",
       "      <td>0.387715</td>\n",
       "      <td>0.171609</td>\n",
       "    </tr>\n",
       "    <tr>\n",
       "      <th>2</th>\n",
       "      <td>4</td>\n",
       "      <td>[{'CENTROID_ID': 4, 'DISTANCE': 0.530632568818...</td>\n",
       "      <td>-0.132017</td>\n",
       "      <td>-0.037934</td>\n",
       "    </tr>\n",
       "    <tr>\n",
       "      <th>3</th>\n",
       "      <td>4</td>\n",
       "      <td>[{'CENTROID_ID': 4, 'DISTANCE': 0.257461736544...</td>\n",
       "      <td>-0.060826</td>\n",
       "      <td>-0.054037</td>\n",
       "    </tr>\n",
       "    <tr>\n",
       "      <th>4</th>\n",
       "      <td>4</td>\n",
       "      <td>[{'CENTROID_ID': 4, 'DISTANCE': 0.122367182377...</td>\n",
       "      <td>-0.063378</td>\n",
       "      <td>-0.079182</td>\n",
       "    </tr>\n",
       "    <tr>\n",
       "      <th>...</th>\n",
       "      <td>...</td>\n",
       "      <td>...</td>\n",
       "      <td>...</td>\n",
       "      <td>...</td>\n",
       "    </tr>\n",
       "    <tr>\n",
       "      <th>420</th>\n",
       "      <td>4</td>\n",
       "      <td>[{'CENTROID_ID': 4, 'DISTANCE': 0.557849814723...</td>\n",
       "      <td>0.027153</td>\n",
       "      <td>-0.032151</td>\n",
       "    </tr>\n",
       "    <tr>\n",
       "      <th>421</th>\n",
       "      <td>4</td>\n",
       "      <td>[{'CENTROID_ID': 4, 'DISTANCE': 0.560951083004...</td>\n",
       "      <td>-0.094220</td>\n",
       "      <td>-0.189521</td>\n",
       "    </tr>\n",
       "    <tr>\n",
       "      <th>422</th>\n",
       "      <td>4</td>\n",
       "      <td>[{'CENTROID_ID': 4, 'DISTANCE': 0.937829454434...</td>\n",
       "      <td>0.051387</td>\n",
       "      <td>0.036494</td>\n",
       "    </tr>\n",
       "    <tr>\n",
       "      <th>423</th>\n",
       "      <td>4</td>\n",
       "      <td>[{'CENTROID_ID': 4, 'DISTANCE': 0.506523716539...</td>\n",
       "      <td>-0.022951</td>\n",
       "      <td>-0.182921</td>\n",
       "    </tr>\n",
       "    <tr>\n",
       "      <th>424</th>\n",
       "      <td>1</td>\n",
       "      <td>[{'CENTROID_ID': 1, 'DISTANCE': 0.228827205274...</td>\n",
       "      <td>0.397444</td>\n",
       "      <td>0.122460</td>\n",
       "    </tr>\n",
       "  </tbody>\n",
       "</table>\n",
       "<p>425 rows × 4 columns</p>\n",
       "</div>"
      ],
      "text/plain": [
       "     CENTROID_ID                         NEAREST_CENTROIDS_DISTANCE  \\\n",
       "0              4  [{'CENTROID_ID': 4, 'DISTANCE': 0.219229804456...   \n",
       "1              1  [{'CENTROID_ID': 1, 'DISTANCE': 0.494423412187...   \n",
       "2              4  [{'CENTROID_ID': 4, 'DISTANCE': 0.530632568818...   \n",
       "3              4  [{'CENTROID_ID': 4, 'DISTANCE': 0.257461736544...   \n",
       "4              4  [{'CENTROID_ID': 4, 'DISTANCE': 0.122367182377...   \n",
       "..           ...                                                ...   \n",
       "420            4  [{'CENTROID_ID': 4, 'DISTANCE': 0.557849814723...   \n",
       "421            4  [{'CENTROID_ID': 4, 'DISTANCE': 0.560951083004...   \n",
       "422            4  [{'CENTROID_ID': 4, 'DISTANCE': 0.937829454434...   \n",
       "423            4  [{'CENTROID_ID': 4, 'DISTANCE': 0.506523716539...   \n",
       "424            1  [{'CENTROID_ID': 1, 'DISTANCE': 0.228827205274...   \n",
       "\n",
       "     double_field_0  double_field_1  \n",
       "0         -0.053085       -0.060194  \n",
       "1          0.387715        0.171609  \n",
       "2         -0.132017       -0.037934  \n",
       "3         -0.060826       -0.054037  \n",
       "4         -0.063378       -0.079182  \n",
       "..              ...             ...  \n",
       "420        0.027153       -0.032151  \n",
       "421       -0.094220       -0.189521  \n",
       "422        0.051387        0.036494  \n",
       "423       -0.022951       -0.182921  \n",
       "424        0.397444        0.122460  \n",
       "\n",
       "[425 rows x 4 columns]"
      ]
     },
     "execution_count": 22,
     "metadata": {},
     "output_type": "execute_result"
    }
   ],
   "source": [
    "label2"
   ]
  },
  {
   "cell_type": "code",
   "execution_count": 20,
   "metadata": {},
   "outputs": [
    {
     "ename": "TypeError",
     "evalue": "'<' not supported between instances of 'dict' and 'int'",
     "output_type": "error",
     "traceback": [
      "\u001b[0;31m---------------------------------------------------------------------------\u001b[0m",
      "\u001b[0;31mTypeError\u001b[0m                                 Traceback (most recent call last)",
      "\u001b[0;32m/tmp/ipykernel_1497/590816939.py\u001b[0m in \u001b[0;36m<module>\u001b[0;34m\u001b[0m\n\u001b[1;32m      1\u001b[0m \u001b[0;31m#Getting unique labels\u001b[0m\u001b[0;34m\u001b[0m\u001b[0;34m\u001b[0m\u001b[0;34m\u001b[0m\u001b[0m\n\u001b[1;32m      2\u001b[0m \u001b[0;34m\u001b[0m\u001b[0m\n\u001b[0;32m----> 3\u001b[0;31m \u001b[0mu_labels2\u001b[0m \u001b[0;34m=\u001b[0m \u001b[0mnp\u001b[0m\u001b[0;34m.\u001b[0m\u001b[0munique\u001b[0m\u001b[0;34m(\u001b[0m\u001b[0mlabel2\u001b[0m\u001b[0;34m)\u001b[0m\u001b[0;34m\u001b[0m\u001b[0;34m\u001b[0m\u001b[0m\n\u001b[0m\u001b[1;32m      4\u001b[0m \u001b[0;34m\u001b[0m\u001b[0m\n\u001b[1;32m      5\u001b[0m \u001b[0;31m#plotting the results:\u001b[0m\u001b[0;34m\u001b[0m\u001b[0;34m\u001b[0m\u001b[0;34m\u001b[0m\u001b[0m\n",
      "\u001b[0;32m<__array_function__ internals>\u001b[0m in \u001b[0;36munique\u001b[0;34m(*args, **kwargs)\u001b[0m\n",
      "\u001b[0;32m/opt/conda/lib/python3.7/site-packages/numpy/lib/arraysetops.py\u001b[0m in \u001b[0;36munique\u001b[0;34m(ar, return_index, return_inverse, return_counts, axis)\u001b[0m\n\u001b[1;32m    259\u001b[0m     \u001b[0mar\u001b[0m \u001b[0;34m=\u001b[0m \u001b[0mnp\u001b[0m\u001b[0;34m.\u001b[0m\u001b[0masanyarray\u001b[0m\u001b[0;34m(\u001b[0m\u001b[0mar\u001b[0m\u001b[0;34m)\u001b[0m\u001b[0;34m\u001b[0m\u001b[0;34m\u001b[0m\u001b[0m\n\u001b[1;32m    260\u001b[0m     \u001b[0;32mif\u001b[0m \u001b[0maxis\u001b[0m \u001b[0;32mis\u001b[0m \u001b[0;32mNone\u001b[0m\u001b[0;34m:\u001b[0m\u001b[0;34m\u001b[0m\u001b[0;34m\u001b[0m\u001b[0m\n\u001b[0;32m--> 261\u001b[0;31m         \u001b[0mret\u001b[0m \u001b[0;34m=\u001b[0m \u001b[0m_unique1d\u001b[0m\u001b[0;34m(\u001b[0m\u001b[0mar\u001b[0m\u001b[0;34m,\u001b[0m \u001b[0mreturn_index\u001b[0m\u001b[0;34m,\u001b[0m \u001b[0mreturn_inverse\u001b[0m\u001b[0;34m,\u001b[0m \u001b[0mreturn_counts\u001b[0m\u001b[0;34m)\u001b[0m\u001b[0;34m\u001b[0m\u001b[0;34m\u001b[0m\u001b[0m\n\u001b[0m\u001b[1;32m    262\u001b[0m         \u001b[0;32mreturn\u001b[0m \u001b[0m_unpack_tuple\u001b[0m\u001b[0;34m(\u001b[0m\u001b[0mret\u001b[0m\u001b[0;34m)\u001b[0m\u001b[0;34m\u001b[0m\u001b[0;34m\u001b[0m\u001b[0m\n\u001b[1;32m    263\u001b[0m \u001b[0;34m\u001b[0m\u001b[0m\n",
      "\u001b[0;32m/opt/conda/lib/python3.7/site-packages/numpy/lib/arraysetops.py\u001b[0m in \u001b[0;36m_unique1d\u001b[0;34m(ar, return_index, return_inverse, return_counts)\u001b[0m\n\u001b[1;32m    320\u001b[0m         \u001b[0maux\u001b[0m \u001b[0;34m=\u001b[0m \u001b[0mar\u001b[0m\u001b[0;34m[\u001b[0m\u001b[0mperm\u001b[0m\u001b[0;34m]\u001b[0m\u001b[0;34m\u001b[0m\u001b[0;34m\u001b[0m\u001b[0m\n\u001b[1;32m    321\u001b[0m     \u001b[0;32melse\u001b[0m\u001b[0;34m:\u001b[0m\u001b[0;34m\u001b[0m\u001b[0;34m\u001b[0m\u001b[0m\n\u001b[0;32m--> 322\u001b[0;31m         \u001b[0mar\u001b[0m\u001b[0;34m.\u001b[0m\u001b[0msort\u001b[0m\u001b[0;34m(\u001b[0m\u001b[0;34m)\u001b[0m\u001b[0;34m\u001b[0m\u001b[0;34m\u001b[0m\u001b[0m\n\u001b[0m\u001b[1;32m    323\u001b[0m         \u001b[0maux\u001b[0m \u001b[0;34m=\u001b[0m \u001b[0mar\u001b[0m\u001b[0;34m\u001b[0m\u001b[0;34m\u001b[0m\u001b[0m\n\u001b[1;32m    324\u001b[0m     \u001b[0mmask\u001b[0m \u001b[0;34m=\u001b[0m \u001b[0mnp\u001b[0m\u001b[0;34m.\u001b[0m\u001b[0mempty\u001b[0m\u001b[0;34m(\u001b[0m\u001b[0maux\u001b[0m\u001b[0;34m.\u001b[0m\u001b[0mshape\u001b[0m\u001b[0;34m,\u001b[0m \u001b[0mdtype\u001b[0m\u001b[0;34m=\u001b[0m\u001b[0mnp\u001b[0m\u001b[0;34m.\u001b[0m\u001b[0mbool_\u001b[0m\u001b[0;34m)\u001b[0m\u001b[0;34m\u001b[0m\u001b[0;34m\u001b[0m\u001b[0m\n",
      "\u001b[0;31mTypeError\u001b[0m: '<' not supported between instances of 'dict' and 'int'"
     ]
    }
   ],
   "source": [
    "#Getting unique labels\n",
    " \n",
    "u_labels2 = np.unique(label2)\n",
    " \n",
    "#plotting the results:\n",
    " \n",
    "for i in u_labels2:\n",
    "    plt.scatter(x_pca[label2 == i , 0] , x_pca[label2 == i , 1] , label2 = i)\n",
    "plt.legend()\n",
    "plt.show()"
   ]
  },
  {
   "cell_type": "markdown",
   "metadata": {
    "id": "dlSdscMOiIeg"
   },
   "source": [
    "# References\n",
    "\n",
    "https://plotly.com/python/pca-visualization/\n",
    "\n",
    "https://programminghistorian.org/en/lessons/clustering-with-scikit-learn-in-python\n",
    "\n",
    "https://medium.com/web-mining-is688-spring-2021/how-dishes-are-clustered-together-based-on-the-ingredients-3b357ac02b26\n",
    "\n",
    "https://scikit-learn.org/stable/modules/generated/sklearn.cluster.KMeans.html\n",
    "\n",
    "https://www.askpython.com/python/examples/plot-k-means-clusters-python\n",
    "\n",
    "https://numpy.org/doc/stable/reference/generated/numpy.argpartition.html"
   ]
  },
  {
   "cell_type": "code",
   "execution_count": 36,
   "metadata": {},
   "outputs": [],
   "source": [
    "import yaml\n",
    "import string\n",
    "import requests\n",
    "\n",
    "# Recall from the APIs for Data lab that including passwords in code is a terrible practice. \n",
    "# So we include a yaml file.\n",
    "\n",
    "config_file = open('cocktails.yaml', 'r')\n",
    "config = yaml.safe_load(config_file)"
   ]
  },
  {
   "cell_type": "code",
   "execution_count": 37,
   "metadata": {},
   "outputs": [],
   "source": [
    "# Imports the Google Cloud client library\n",
    "from google.cloud import storage\n",
    "\n",
    "bucket = config['bucket']\n",
    "\n",
    "# Instantiates a client\n",
    "# Now  that we have a service account created and JSON file loaded somewhere, we need to create a client object\n",
    "client = storage.Client()\n",
    "\n",
    "# Retrieve an existing bucket\n",
    "gcs_bucket = client.get_bucket(bucket)"
   ]
  },
  {
   "cell_type": "code",
   "execution_count": 42,
   "metadata": {},
   "outputs": [],
   "source": [
    "blob = gcs_bucket.blob(\"cocktails/\")\n",
    "with blob.open(mode = 'w') as file:\n",
    "    np.savetxt(\"cocktails_PCA.csv\", x_pca, delimiter=\",\")"
   ]
  },
  {
   "cell_type": "code",
   "execution_count": null,
   "metadata": {},
   "outputs": [],
   "source": []
  }
 ],
 "metadata": {
  "colab": {
   "collapsed_sections": [],
   "name": "Recomm_Clustering.ipynb",
   "provenance": [],
   "toc_visible": true
  },
  "environment": {
   "kernel": "python3",
   "name": "common-cpu.m90",
   "type": "gcloud",
   "uri": "gcr.io/deeplearning-platform-release/base-cpu:m90"
  },
  "kernelspec": {
   "display_name": "Python 3",
   "language": "python",
   "name": "python3"
  },
  "language_info": {
   "codemirror_mode": {
    "name": "ipython",
    "version": 3
   },
   "file_extension": ".py",
   "mimetype": "text/x-python",
   "name": "python",
   "nbconvert_exporter": "python",
   "pygments_lexer": "ipython3",
   "version": "3.7.12"
  }
 },
 "nbformat": 4,
 "nbformat_minor": 4
}
