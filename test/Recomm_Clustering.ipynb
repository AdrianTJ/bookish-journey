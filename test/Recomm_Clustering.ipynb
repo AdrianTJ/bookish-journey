{
  "nbformat": 4,
  "nbformat_minor": 0,
  "metadata": {
    "colab": {
      "name": "Recomm_Clustering.ipynb",
      "provenance": [],
      "collapsed_sections": [],
      "toc_visible": true
    },
    "kernelspec": {
      "name": "python3",
      "display_name": "Python 3"
    },
    "language_info": {
      "name": "python"
    }
  },
  "cells": [
    {
      "cell_type": "code",
      "execution_count": 37,
      "metadata": {
        "id": "JSSIS6_C8Vp7"
      },
      "outputs": [],
      "source": [
        "import pandas as pd\n",
        "import numpy as np\n",
        "import matplotlib.pyplot as plt\n",
        "import seaborn as sns"
      ]
    },
    {
      "cell_type": "code",
      "source": [
        "from sklearn.feature_extraction import DictVectorizer\n",
        "from sklearn.decomposition import KernelPCA\n",
        "#from sklearn.manifold import TSNEfrom IPython.display \n",
        "import itertools"
      ],
      "metadata": {
        "id": "oRO46mZL-Nog"
      },
      "execution_count": 26,
      "outputs": []
    },
    {
      "cell_type": "code",
      "source": [
        "base = pd.read_csv('/content/ingredientes.csv')\n",
        "print(base.shape)\n",
        "base.head(10)"
      ],
      "metadata": {
        "colab": {
          "base_uri": "https://localhost:8080/",
          "height": 514
        },
        "id": "7oDv5n5e8csg",
        "outputId": "11473004-bc82-4d5d-b040-a421813b622f"
      },
      "execution_count": 14,
      "outputs": [
        {
          "output_type": "stream",
          "name": "stdout",
          "text": [
            "(425, 17)\n"
          ]
        },
        {
          "output_type": "execute_result",
          "data": {
            "text/plain": [
              "   idDrink         strDrink   strIngredient1     strIngredient2  \\\n",
              "0    11002  Long Island Tea            Vodka          Light rum   \n",
              "1    11000           Mojito        Light rum               Lime   \n",
              "2    11001    Old Fashioned          Bourbon  Angostura bitters   \n",
              "3    11003          Negroni              Gin            Campari   \n",
              "4    11004     Whiskey Sour  Blended whiskey              Lemon   \n",
              "5    11007        Margarita          Tequila         Triple sec   \n",
              "6    11006         Daiquiri        Light rum               Lime   \n",
              "7    11005      Dry Martini              Gin       Dry Vermouth   \n",
              "8    11008        Manhattan   Sweet Vermouth            Bourbon   \n",
              "9    11020        Algonquin  Blended whiskey       Dry Vermouth   \n",
              "\n",
              "      strIngredient3 strIngredient4     strIngredient5 strIngredient6  \\\n",
              "0                Gin        Tequila              Lemon      Coca-Cola   \n",
              "1              Sugar           Mint         Soda water            NaN   \n",
              "2              Sugar          Water                NaN            NaN   \n",
              "3     Sweet Vermouth            NaN                NaN            NaN   \n",
              "4     Powdered sugar         Cherry              Lemon            NaN   \n",
              "5         Lime juice           Salt                NaN            NaN   \n",
              "6     Powdered sugar            NaN                NaN            NaN   \n",
              "7              Olive            NaN                NaN            NaN   \n",
              "8  Angostura bitters            Ice  Maraschino cherry    Orange peel   \n",
              "9    Pineapple juice            NaN                NaN            NaN   \n",
              "\n",
              "  strIngredient7 strIngredient8 strIngredient9 strIngredient10  \\\n",
              "0            NaN            NaN            NaN             NaN   \n",
              "1            NaN            NaN            NaN             NaN   \n",
              "2            NaN            NaN            NaN             NaN   \n",
              "3            NaN            NaN            NaN             NaN   \n",
              "4            NaN            NaN            NaN             NaN   \n",
              "5            NaN            NaN            NaN             NaN   \n",
              "6            NaN            NaN            NaN             NaN   \n",
              "7            NaN            NaN            NaN             NaN   \n",
              "8            NaN            NaN            NaN             NaN   \n",
              "9            NaN            NaN            NaN             NaN   \n",
              "\n",
              "  strIngredient11  strIngredient12  strIngredient13  strIngredient14  \\\n",
              "0             NaN              NaN              NaN              NaN   \n",
              "1             NaN              NaN              NaN              NaN   \n",
              "2             NaN              NaN              NaN              NaN   \n",
              "3             NaN              NaN              NaN              NaN   \n",
              "4             NaN              NaN              NaN              NaN   \n",
              "5             NaN              NaN              NaN              NaN   \n",
              "6             NaN              NaN              NaN              NaN   \n",
              "7             NaN              NaN              NaN              NaN   \n",
              "8             NaN              NaN              NaN              NaN   \n",
              "9             NaN              NaN              NaN              NaN   \n",
              "\n",
              "   strIngredient15  \n",
              "0              NaN  \n",
              "1              NaN  \n",
              "2              NaN  \n",
              "3              NaN  \n",
              "4              NaN  \n",
              "5              NaN  \n",
              "6              NaN  \n",
              "7              NaN  \n",
              "8              NaN  \n",
              "9              NaN  "
            ],
            "text/html": [
              "\n",
              "  <div id=\"df-297357ee-5439-4273-8ade-e94b78e6a048\">\n",
              "    <div class=\"colab-df-container\">\n",
              "      <div>\n",
              "<style scoped>\n",
              "    .dataframe tbody tr th:only-of-type {\n",
              "        vertical-align: middle;\n",
              "    }\n",
              "\n",
              "    .dataframe tbody tr th {\n",
              "        vertical-align: top;\n",
              "    }\n",
              "\n",
              "    .dataframe thead th {\n",
              "        text-align: right;\n",
              "    }\n",
              "</style>\n",
              "<table border=\"1\" class=\"dataframe\">\n",
              "  <thead>\n",
              "    <tr style=\"text-align: right;\">\n",
              "      <th></th>\n",
              "      <th>idDrink</th>\n",
              "      <th>strDrink</th>\n",
              "      <th>strIngredient1</th>\n",
              "      <th>strIngredient2</th>\n",
              "      <th>strIngredient3</th>\n",
              "      <th>strIngredient4</th>\n",
              "      <th>strIngredient5</th>\n",
              "      <th>strIngredient6</th>\n",
              "      <th>strIngredient7</th>\n",
              "      <th>strIngredient8</th>\n",
              "      <th>strIngredient9</th>\n",
              "      <th>strIngredient10</th>\n",
              "      <th>strIngredient11</th>\n",
              "      <th>strIngredient12</th>\n",
              "      <th>strIngredient13</th>\n",
              "      <th>strIngredient14</th>\n",
              "      <th>strIngredient15</th>\n",
              "    </tr>\n",
              "  </thead>\n",
              "  <tbody>\n",
              "    <tr>\n",
              "      <th>0</th>\n",
              "      <td>11002</td>\n",
              "      <td>Long Island Tea</td>\n",
              "      <td>Vodka</td>\n",
              "      <td>Light rum</td>\n",
              "      <td>Gin</td>\n",
              "      <td>Tequila</td>\n",
              "      <td>Lemon</td>\n",
              "      <td>Coca-Cola</td>\n",
              "      <td>NaN</td>\n",
              "      <td>NaN</td>\n",
              "      <td>NaN</td>\n",
              "      <td>NaN</td>\n",
              "      <td>NaN</td>\n",
              "      <td>NaN</td>\n",
              "      <td>NaN</td>\n",
              "      <td>NaN</td>\n",
              "      <td>NaN</td>\n",
              "    </tr>\n",
              "    <tr>\n",
              "      <th>1</th>\n",
              "      <td>11000</td>\n",
              "      <td>Mojito</td>\n",
              "      <td>Light rum</td>\n",
              "      <td>Lime</td>\n",
              "      <td>Sugar</td>\n",
              "      <td>Mint</td>\n",
              "      <td>Soda water</td>\n",
              "      <td>NaN</td>\n",
              "      <td>NaN</td>\n",
              "      <td>NaN</td>\n",
              "      <td>NaN</td>\n",
              "      <td>NaN</td>\n",
              "      <td>NaN</td>\n",
              "      <td>NaN</td>\n",
              "      <td>NaN</td>\n",
              "      <td>NaN</td>\n",
              "      <td>NaN</td>\n",
              "    </tr>\n",
              "    <tr>\n",
              "      <th>2</th>\n",
              "      <td>11001</td>\n",
              "      <td>Old Fashioned</td>\n",
              "      <td>Bourbon</td>\n",
              "      <td>Angostura bitters</td>\n",
              "      <td>Sugar</td>\n",
              "      <td>Water</td>\n",
              "      <td>NaN</td>\n",
              "      <td>NaN</td>\n",
              "      <td>NaN</td>\n",
              "      <td>NaN</td>\n",
              "      <td>NaN</td>\n",
              "      <td>NaN</td>\n",
              "      <td>NaN</td>\n",
              "      <td>NaN</td>\n",
              "      <td>NaN</td>\n",
              "      <td>NaN</td>\n",
              "      <td>NaN</td>\n",
              "    </tr>\n",
              "    <tr>\n",
              "      <th>3</th>\n",
              "      <td>11003</td>\n",
              "      <td>Negroni</td>\n",
              "      <td>Gin</td>\n",
              "      <td>Campari</td>\n",
              "      <td>Sweet Vermouth</td>\n",
              "      <td>NaN</td>\n",
              "      <td>NaN</td>\n",
              "      <td>NaN</td>\n",
              "      <td>NaN</td>\n",
              "      <td>NaN</td>\n",
              "      <td>NaN</td>\n",
              "      <td>NaN</td>\n",
              "      <td>NaN</td>\n",
              "      <td>NaN</td>\n",
              "      <td>NaN</td>\n",
              "      <td>NaN</td>\n",
              "      <td>NaN</td>\n",
              "    </tr>\n",
              "    <tr>\n",
              "      <th>4</th>\n",
              "      <td>11004</td>\n",
              "      <td>Whiskey Sour</td>\n",
              "      <td>Blended whiskey</td>\n",
              "      <td>Lemon</td>\n",
              "      <td>Powdered sugar</td>\n",
              "      <td>Cherry</td>\n",
              "      <td>Lemon</td>\n",
              "      <td>NaN</td>\n",
              "      <td>NaN</td>\n",
              "      <td>NaN</td>\n",
              "      <td>NaN</td>\n",
              "      <td>NaN</td>\n",
              "      <td>NaN</td>\n",
              "      <td>NaN</td>\n",
              "      <td>NaN</td>\n",
              "      <td>NaN</td>\n",
              "      <td>NaN</td>\n",
              "    </tr>\n",
              "    <tr>\n",
              "      <th>5</th>\n",
              "      <td>11007</td>\n",
              "      <td>Margarita</td>\n",
              "      <td>Tequila</td>\n",
              "      <td>Triple sec</td>\n",
              "      <td>Lime juice</td>\n",
              "      <td>Salt</td>\n",
              "      <td>NaN</td>\n",
              "      <td>NaN</td>\n",
              "      <td>NaN</td>\n",
              "      <td>NaN</td>\n",
              "      <td>NaN</td>\n",
              "      <td>NaN</td>\n",
              "      <td>NaN</td>\n",
              "      <td>NaN</td>\n",
              "      <td>NaN</td>\n",
              "      <td>NaN</td>\n",
              "      <td>NaN</td>\n",
              "    </tr>\n",
              "    <tr>\n",
              "      <th>6</th>\n",
              "      <td>11006</td>\n",
              "      <td>Daiquiri</td>\n",
              "      <td>Light rum</td>\n",
              "      <td>Lime</td>\n",
              "      <td>Powdered sugar</td>\n",
              "      <td>NaN</td>\n",
              "      <td>NaN</td>\n",
              "      <td>NaN</td>\n",
              "      <td>NaN</td>\n",
              "      <td>NaN</td>\n",
              "      <td>NaN</td>\n",
              "      <td>NaN</td>\n",
              "      <td>NaN</td>\n",
              "      <td>NaN</td>\n",
              "      <td>NaN</td>\n",
              "      <td>NaN</td>\n",
              "      <td>NaN</td>\n",
              "    </tr>\n",
              "    <tr>\n",
              "      <th>7</th>\n",
              "      <td>11005</td>\n",
              "      <td>Dry Martini</td>\n",
              "      <td>Gin</td>\n",
              "      <td>Dry Vermouth</td>\n",
              "      <td>Olive</td>\n",
              "      <td>NaN</td>\n",
              "      <td>NaN</td>\n",
              "      <td>NaN</td>\n",
              "      <td>NaN</td>\n",
              "      <td>NaN</td>\n",
              "      <td>NaN</td>\n",
              "      <td>NaN</td>\n",
              "      <td>NaN</td>\n",
              "      <td>NaN</td>\n",
              "      <td>NaN</td>\n",
              "      <td>NaN</td>\n",
              "      <td>NaN</td>\n",
              "    </tr>\n",
              "    <tr>\n",
              "      <th>8</th>\n",
              "      <td>11008</td>\n",
              "      <td>Manhattan</td>\n",
              "      <td>Sweet Vermouth</td>\n",
              "      <td>Bourbon</td>\n",
              "      <td>Angostura bitters</td>\n",
              "      <td>Ice</td>\n",
              "      <td>Maraschino cherry</td>\n",
              "      <td>Orange peel</td>\n",
              "      <td>NaN</td>\n",
              "      <td>NaN</td>\n",
              "      <td>NaN</td>\n",
              "      <td>NaN</td>\n",
              "      <td>NaN</td>\n",
              "      <td>NaN</td>\n",
              "      <td>NaN</td>\n",
              "      <td>NaN</td>\n",
              "      <td>NaN</td>\n",
              "    </tr>\n",
              "    <tr>\n",
              "      <th>9</th>\n",
              "      <td>11020</td>\n",
              "      <td>Algonquin</td>\n",
              "      <td>Blended whiskey</td>\n",
              "      <td>Dry Vermouth</td>\n",
              "      <td>Pineapple juice</td>\n",
              "      <td>NaN</td>\n",
              "      <td>NaN</td>\n",
              "      <td>NaN</td>\n",
              "      <td>NaN</td>\n",
              "      <td>NaN</td>\n",
              "      <td>NaN</td>\n",
              "      <td>NaN</td>\n",
              "      <td>NaN</td>\n",
              "      <td>NaN</td>\n",
              "      <td>NaN</td>\n",
              "      <td>NaN</td>\n",
              "      <td>NaN</td>\n",
              "    </tr>\n",
              "  </tbody>\n",
              "</table>\n",
              "</div>\n",
              "      <button class=\"colab-df-convert\" onclick=\"convertToInteractive('df-297357ee-5439-4273-8ade-e94b78e6a048')\"\n",
              "              title=\"Convert this dataframe to an interactive table.\"\n",
              "              style=\"display:none;\">\n",
              "        \n",
              "  <svg xmlns=\"http://www.w3.org/2000/svg\" height=\"24px\"viewBox=\"0 0 24 24\"\n",
              "       width=\"24px\">\n",
              "    <path d=\"M0 0h24v24H0V0z\" fill=\"none\"/>\n",
              "    <path d=\"M18.56 5.44l.94 2.06.94-2.06 2.06-.94-2.06-.94-.94-2.06-.94 2.06-2.06.94zm-11 1L8.5 8.5l.94-2.06 2.06-.94-2.06-.94L8.5 2.5l-.94 2.06-2.06.94zm10 10l.94 2.06.94-2.06 2.06-.94-2.06-.94-.94-2.06-.94 2.06-2.06.94z\"/><path d=\"M17.41 7.96l-1.37-1.37c-.4-.4-.92-.59-1.43-.59-.52 0-1.04.2-1.43.59L10.3 9.45l-7.72 7.72c-.78.78-.78 2.05 0 2.83L4 21.41c.39.39.9.59 1.41.59.51 0 1.02-.2 1.41-.59l7.78-7.78 2.81-2.81c.8-.78.8-2.07 0-2.86zM5.41 20L4 18.59l7.72-7.72 1.47 1.35L5.41 20z\"/>\n",
              "  </svg>\n",
              "      </button>\n",
              "      \n",
              "  <style>\n",
              "    .colab-df-container {\n",
              "      display:flex;\n",
              "      flex-wrap:wrap;\n",
              "      gap: 12px;\n",
              "    }\n",
              "\n",
              "    .colab-df-convert {\n",
              "      background-color: #E8F0FE;\n",
              "      border: none;\n",
              "      border-radius: 50%;\n",
              "      cursor: pointer;\n",
              "      display: none;\n",
              "      fill: #1967D2;\n",
              "      height: 32px;\n",
              "      padding: 0 0 0 0;\n",
              "      width: 32px;\n",
              "    }\n",
              "\n",
              "    .colab-df-convert:hover {\n",
              "      background-color: #E2EBFA;\n",
              "      box-shadow: 0px 1px 2px rgba(60, 64, 67, 0.3), 0px 1px 3px 1px rgba(60, 64, 67, 0.15);\n",
              "      fill: #174EA6;\n",
              "    }\n",
              "\n",
              "    [theme=dark] .colab-df-convert {\n",
              "      background-color: #3B4455;\n",
              "      fill: #D2E3FC;\n",
              "    }\n",
              "\n",
              "    [theme=dark] .colab-df-convert:hover {\n",
              "      background-color: #434B5C;\n",
              "      box-shadow: 0px 1px 3px 1px rgba(0, 0, 0, 0.15);\n",
              "      filter: drop-shadow(0px 1px 2px rgba(0, 0, 0, 0.3));\n",
              "      fill: #FFFFFF;\n",
              "    }\n",
              "  </style>\n",
              "\n",
              "      <script>\n",
              "        const buttonEl =\n",
              "          document.querySelector('#df-297357ee-5439-4273-8ade-e94b78e6a048 button.colab-df-convert');\n",
              "        buttonEl.style.display =\n",
              "          google.colab.kernel.accessAllowed ? 'block' : 'none';\n",
              "\n",
              "        async function convertToInteractive(key) {\n",
              "          const element = document.querySelector('#df-297357ee-5439-4273-8ade-e94b78e6a048');\n",
              "          const dataTable =\n",
              "            await google.colab.kernel.invokeFunction('convertToInteractive',\n",
              "                                                     [key], {});\n",
              "          if (!dataTable) return;\n",
              "\n",
              "          const docLinkHtml = 'Like what you see? Visit the ' +\n",
              "            '<a target=\"_blank\" href=https://colab.research.google.com/notebooks/data_table.ipynb>data table notebook</a>'\n",
              "            + ' to learn more about interactive tables.';\n",
              "          element.innerHTML = '';\n",
              "          dataTable['output_type'] = 'display_data';\n",
              "          await google.colab.output.renderOutput(dataTable, element);\n",
              "          const docLink = document.createElement('div');\n",
              "          docLink.innerHTML = docLinkHtml;\n",
              "          element.appendChild(docLink);\n",
              "        }\n",
              "      </script>\n",
              "    </div>\n",
              "  </div>\n",
              "  "
            ]
          },
          "metadata": {},
          "execution_count": 14
        }
      ]
    },
    {
      "cell_type": "code",
      "source": [
        "base.info()"
      ],
      "metadata": {
        "colab": {
          "base_uri": "https://localhost:8080/"
        },
        "id": "2s2YbKo8831F",
        "outputId": "febe3b08-046d-4a36-e66d-0af4c7d9ce52"
      },
      "execution_count": 15,
      "outputs": [
        {
          "output_type": "stream",
          "name": "stdout",
          "text": [
            "<class 'pandas.core.frame.DataFrame'>\n",
            "RangeIndex: 425 entries, 0 to 424\n",
            "Data columns (total 17 columns):\n",
            " #   Column           Non-Null Count  Dtype  \n",
            "---  ------           --------------  -----  \n",
            " 0   idDrink          425 non-null    int64  \n",
            " 1   strDrink         425 non-null    object \n",
            " 2   strIngredient1   425 non-null    object \n",
            " 3   strIngredient2   425 non-null    object \n",
            " 4   strIngredient3   361 non-null    object \n",
            " 5   strIngredient4   230 non-null    object \n",
            " 6   strIngredient5   141 non-null    object \n",
            " 7   strIngredient6   62 non-null     object \n",
            " 8   strIngredient7   16 non-null     object \n",
            " 9   strIngredient8   4 non-null      object \n",
            " 10  strIngredient9   2 non-null      object \n",
            " 11  strIngredient10  1 non-null      object \n",
            " 12  strIngredient11  1 non-null      object \n",
            " 13  strIngredient12  0 non-null      float64\n",
            " 14  strIngredient13  0 non-null      float64\n",
            " 15  strIngredient14  0 non-null      float64\n",
            " 16  strIngredient15  0 non-null      float64\n",
            "dtypes: float64(4), int64(1), object(12)\n",
            "memory usage: 56.6+ KB\n"
          ]
        }
      ]
    },
    {
      "cell_type": "code",
      "source": [
        "base=base.drop(['strIngredient12','strIngredient13','strIngredient14','strIngredient15'],axis=1)"
      ],
      "metadata": {
        "id": "vk2KTMaD849S"
      },
      "execution_count": 16,
      "outputs": []
    },
    {
      "cell_type": "code",
      "source": [
        "base=base.replace(np.nan,\"\")"
      ],
      "metadata": {
        "id": "xVJnt2tF9Gta"
      },
      "execution_count": 17,
      "outputs": []
    },
    {
      "cell_type": "code",
      "source": [
        "base['ingredients']=base[['strIngredient1','strIngredient2','strIngredient3','strIngredient4','strIngredient5',\n",
        "        'strIngredient6','strIngredient7','strIngredient8','strIngredient9','strIngredient10','strIngredient11']].agg(','.join, axis=1)\n",
        "base.ingredients"
      ],
      "metadata": {
        "colab": {
          "base_uri": "https://localhost:8080/"
        },
        "id": "MrbI8X198-04",
        "outputId": "42660c47-fb3e-4255-f89d-71e92ec43e3d"
      },
      "execution_count": 18,
      "outputs": [
        {
          "output_type": "execute_result",
          "data": {
            "text/plain": [
              "0       Vodka,Light rum,Gin,Tequila,Lemon,Coca-Cola,,,,,\n",
              "1             Light rum,Lime,Sugar,Mint,Soda water,,,,,,\n",
              "2           Bourbon,Angostura bitters,Sugar,Water,,,,,,,\n",
              "3                     Gin,Campari,Sweet Vermouth,,,,,,,,\n",
              "4      Blended whiskey,Lemon,Powdered sugar,Cherry,Le...\n",
              "                             ...                        \n",
              "420                     Vodka,Kahlua,Sugar syrup,,,,,,,,\n",
              "421           Baileys irish cream,Kahlua,Sambuca,,,,,,,,\n",
              "422                                  Vodka,Ouzo,,,,,,,,,\n",
              "423     Southern Comfort,Triple sec,Lime,Sour mix,,,,,,,\n",
              "424    Orange Bitters,Green Chartreuse,Gin,Sweet Verm...\n",
              "Name: ingredients, Length: 425, dtype: object"
            ]
          },
          "metadata": {},
          "execution_count": 18
        }
      ]
    },
    {
      "cell_type": "code",
      "source": [
        "#función para convertir el texto en minúsculas\n",
        "def lower(text):\n",
        "    text=text.lower()\n",
        "    return text\n",
        "\n",
        "ingredients_low=[]\n",
        "for i in base.ingredients:\n",
        "    il=lower(i)\n",
        "    ingredients_low.append(il)\n",
        "\n",
        "base['ingredients']=ingredients_low\n",
        "base.ingredients"
      ],
      "metadata": {
        "colab": {
          "base_uri": "https://localhost:8080/"
        },
        "id": "lPVrYJs29u6V",
        "outputId": "22e9df46-e3f1-43a7-a665-da0edb8b8846"
      },
      "execution_count": 19,
      "outputs": [
        {
          "output_type": "execute_result",
          "data": {
            "text/plain": [
              "0       vodka,light rum,gin,tequila,lemon,coca-cola,,,,,\n",
              "1             light rum,lime,sugar,mint,soda water,,,,,,\n",
              "2           bourbon,angostura bitters,sugar,water,,,,,,,\n",
              "3                     gin,campari,sweet vermouth,,,,,,,,\n",
              "4      blended whiskey,lemon,powdered sugar,cherry,le...\n",
              "                             ...                        \n",
              "420                     vodka,kahlua,sugar syrup,,,,,,,,\n",
              "421           baileys irish cream,kahlua,sambuca,,,,,,,,\n",
              "422                                  vodka,ouzo,,,,,,,,,\n",
              "423     southern comfort,triple sec,lime,sour mix,,,,,,,\n",
              "424    orange bitters,green chartreuse,gin,sweet verm...\n",
              "Name: ingredients, Length: 425, dtype: object"
            ]
          },
          "metadata": {},
          "execution_count": 19
        }
      ]
    },
    {
      "cell_type": "code",
      "source": [
        "#function to convert list of ingredients into a dictionary\n",
        "def convert_to_dict(lst):\n",
        "    d = {} #empty dict\n",
        "    for ingre in lst:\n",
        "        d[ingre] = 1\n",
        "    return d"
      ],
      "metadata": {
        "id": "9GsiXBo29XwT"
      },
      "execution_count": 20,
      "outputs": []
    },
    {
      "cell_type": "code",
      "source": [
        "base['bagofwords'] = base.ingredients.str.split(',').apply(convert_to_dict)\n",
        "print(base.bagofwords)"
      ],
      "metadata": {
        "colab": {
          "base_uri": "https://localhost:8080/"
        },
        "id": "4npcbvhw9ZFu",
        "outputId": "b0b26419-2fbc-4d13-ceba-d1fb5ae14ea1"
      },
      "execution_count": 21,
      "outputs": [
        {
          "output_type": "stream",
          "name": "stdout",
          "text": [
            "0      {'vodka': 1, 'light rum': 1, 'gin': 1, 'tequil...\n",
            "1      {'light rum': 1, 'lime': 1, 'sugar': 1, 'mint'...\n",
            "2      {'bourbon': 1, 'angostura bitters': 1, 'sugar'...\n",
            "3      {'gin': 1, 'campari': 1, 'sweet vermouth': 1, ...\n",
            "4      {'blended whiskey': 1, 'lemon': 1, 'powdered s...\n",
            "                             ...                        \n",
            "420    {'vodka': 1, 'kahlua': 1, 'sugar syrup': 1, ''...\n",
            "421    {'baileys irish cream': 1, 'kahlua': 1, 'sambu...\n",
            "422                       {'vodka': 1, 'ouzo': 1, '': 1}\n",
            "423    {'southern comfort': 1, 'triple sec': 1, 'lime...\n",
            "424    {'orange bitters': 1, 'green chartreuse': 1, '...\n",
            "Name: bagofwords, Length: 425, dtype: object\n"
          ]
        }
      ]
    },
    {
      "cell_type": "code",
      "source": [
        "#one hot encoding\n",
        "vector_dict = DictVectorizer(sparse = False)\n",
        "X = vector_dict.fit_transform(base[\"bagofwords\"].tolist())\n",
        "y = base.strDrink"
      ],
      "metadata": {
        "id": "T3wG2Xz0-FZw"
      },
      "execution_count": 77,
      "outputs": []
    },
    {
      "cell_type": "code",
      "source": [
        "kpca = KernelPCA(n_components=2,kernel=\"cosine\", n_jobs=2)\n",
        "x_pca = kpca.fit_transform(X)\n",
        "x_pca.shape"
      ],
      "metadata": {
        "colab": {
          "base_uri": "https://localhost:8080/"
        },
        "id": "N4Xbesu3-h_x",
        "outputId": "61207332-2f54-4a42-9b6b-a53b07093001"
      },
      "execution_count": 78,
      "outputs": [
        {
          "output_type": "execute_result",
          "data": {
            "text/plain": [
              "(425, 2)"
            ]
          },
          "metadata": {},
          "execution_count": 78
        }
      ]
    },
    {
      "cell_type": "code",
      "source": [
        "# Plotting the clusters\n",
        "plot_pca = pd.DataFrame(data = x_pca[:,:2], columns = [\"PC1\",\"PC2\"])\n",
        "sns.lmplot(\"PC1\", \"PC2\", data = plot_pca, palette = \"Paired\",legend=True, fit_reg = False)"
      ],
      "metadata": {
        "colab": {
          "base_uri": "https://localhost:8080/",
          "height": 441
        },
        "id": "2X3APRmb_ECd",
        "outputId": "65a637db-d28e-4aef-ff6d-8000104dbde8"
      },
      "execution_count": 79,
      "outputs": [
        {
          "output_type": "stream",
          "name": "stderr",
          "text": [
            "/usr/local/lib/python3.7/dist-packages/seaborn/_decorators.py:43: FutureWarning: Pass the following variables as keyword args: x, y. From version 0.12, the only valid positional argument will be `data`, and passing other arguments without an explicit keyword will result in an error or misinterpretation.\n",
            "  FutureWarning\n"
          ]
        },
        {
          "output_type": "execute_result",
          "data": {
            "text/plain": [
              "<seaborn.axisgrid.FacetGrid at 0x7efcbaeed190>"
            ]
          },
          "metadata": {},
          "execution_count": 79
        },
        {
          "output_type": "display_data",
          "data": {
            "text/plain": [
              "<Figure size 360x360 with 1 Axes>"
            ],
            "image/png": "[encoded data removed]"
          },
          "metadata": {
            "needs_background": "light"
          }
        }
      ]
    },
    {
      "cell_type": "code",
      "source": [
        "from sklearn.cluster import KMeans\n",
        "import numpy as np\n",
        "kmeans = KMeans(n_clusters=4, random_state=42).fit(x_pca)\n",
        "kmeans.labels_"
      ],
      "metadata": {
        "colab": {
          "base_uri": "https://localhost:8080/"
        },
        "id": "3PdnwHAv_xau",
        "outputId": "450ba138-6621-4211-a4fd-309cf29bfa61"
      },
      "execution_count": 80,
      "outputs": [
        {
          "output_type": "execute_result",
          "data": {
            "text/plain": [
              "array([3, 2, 2, 3, 2, 0, 2, 3, 0, 0, 0, 3, 1, 0, 0, 3, 0, 0, 1, 1, 3, 2,\n",
              "       3, 3, 3, 0, 2, 0, 0, 2, 0, 3, 3, 3, 2, 0, 0, 3, 3, 2, 2, 2, 0, 3,\n",
              "       3, 3, 3, 3, 3, 3, 3, 3, 2, 2, 0, 2, 3, 0, 2, 0, 0, 3, 3, 1, 1, 0,\n",
              "       2, 0, 0, 0, 0, 2, 3, 1, 0, 0, 1, 0, 2, 0, 0, 1, 3, 0, 0, 2, 1, 2,\n",
              "       0, 2, 0, 0, 2, 2, 0, 0, 2, 2, 2, 2, 3, 2, 2, 2, 0, 3, 3, 0, 3, 0,\n",
              "       0, 0, 0, 2, 2, 2, 3, 2, 2, 0, 0, 0, 0, 1, 0, 2, 2, 2, 0, 1, 3, 0,\n",
              "       0, 0, 3, 0, 0, 1, 0, 2, 0, 0, 0, 2, 3, 3, 1, 0, 2, 1, 2, 1, 2, 2,\n",
              "       1, 0, 2, 0, 0, 2, 0, 2, 2, 0, 2, 0, 2, 2, 1, 0, 1, 1, 2, 0, 0, 3,\n",
              "       0, 0, 3, 0, 0, 2, 0, 0, 0, 2, 3, 2, 0, 0, 0, 2, 2, 3, 1, 0, 0, 0,\n",
              "       0, 3, 0, 1, 0, 0, 2, 2, 3, 0, 0, 0, 0, 0, 1, 0, 2, 0, 0, 0, 3, 1,\n",
              "       3, 2, 0, 2, 0, 0, 3, 0, 0, 1, 0, 0, 0, 0, 0, 3, 1, 0, 3, 0, 3, 0,\n",
              "       1, 0, 2, 2, 0, 0, 0, 3, 0, 0, 1, 0, 0, 0, 1, 0, 0, 0, 0, 1, 3, 0,\n",
              "       0, 1, 0, 2, 2, 3, 0, 2, 2, 0, 0, 3, 2, 0, 0, 0, 2, 0, 2, 2, 0, 0,\n",
              "       3, 0, 0, 1, 1, 1, 1, 0, 0, 0, 3, 0, 1, 2, 0, 0, 3, 3, 0, 0, 3, 0,\n",
              "       0, 0, 0, 1, 0, 3, 3, 0, 0, 0, 0, 1, 0, 0, 0, 2, 2, 3, 3, 2, 0, 0,\n",
              "       1, 1, 0, 3, 0, 2, 3, 0, 2, 2, 1, 0, 0, 1, 2, 0, 1, 1, 3, 3, 1, 2,\n",
              "       1, 0, 0, 0, 0, 0, 0, 2, 3, 2, 0, 2, 1, 1, 0, 1, 3, 0, 2, 0, 0, 2,\n",
              "       0, 0, 0, 3, 2, 1, 2, 3, 0, 2, 0, 3, 3, 0, 0, 0, 1, 1, 3, 0, 0, 1,\n",
              "       2, 0, 0, 0, 3, 0, 0, 2, 3, 0, 1, 1, 2, 2, 0, 0, 0, 0, 3, 1, 2, 0,\n",
              "       3, 1, 1, 0, 1, 0, 3], dtype=int32)"
            ]
          },
          "metadata": {},
          "execution_count": 80
        }
      ]
    },
    {
      "cell_type": "code",
      "source": [
        "label = kmeans.fit_predict(x_pca)"
      ],
      "metadata": {
        "id": "ZV1FbSCyCUPR"
      },
      "execution_count": 81,
      "outputs": []
    },
    {
      "cell_type": "code",
      "source": [
        "#Getting unique labels\n",
        " \n",
        "u_labels = np.unique(label)\n",
        " \n",
        "#plotting the results:\n",
        " \n",
        "for i in u_labels:\n",
        "    plt.scatter(x_pca[label == i , 0] , x_pca[label == i , 1] , label = i)\n",
        "plt.legend()\n",
        "plt.show()"
      ],
      "metadata": {
        "colab": {
          "base_uri": "https://localhost:8080/",
          "height": 265
        },
        "id": "SQ7pUlP6h-Ri",
        "outputId": "faadb0bc-e7a1-4016-f66c-f343ee67d23e"
      },
      "execution_count": 82,
      "outputs": [
        {
          "output_type": "display_data",
          "data": {
            "text/plain": [
              "<Figure size 432x288 with 1 Axes>"
            ],
            "image/png": "[encoded data removed]"
          },
          "metadata": {
            "needs_background": "light"
          }
        }
      ]
    },
    {
      "cell_type": "code",
      "source": [
        "from scipy import spatial\n",
        "List1 = X[0]\n",
        "List2 = X[1]\n",
        "result = 1 - spatial.distance.cosine(List1, List2)\n",
        "print(result)  "
      ],
      "metadata": {
        "colab": {
          "base_uri": "https://localhost:8080/"
        },
        "id": "r2lRBo14ia6m",
        "outputId": "914a2ec2-e491-413f-941b-6f0ebd9476a4"
      },
      "execution_count": 88,
      "outputs": [
        {
          "output_type": "stream",
          "name": "stdout",
          "text": [
            "0.30860669992418377\n"
          ]
        }
      ]
    },
    {
      "cell_type": "code",
      "source": [
        "def get_cosine_distance(objective,n_return = 5):\n",
        "  values = []\n",
        "  for i in range(len(X)):\n",
        "    values.append(1 - spatial.distance.cosine(objective, X[i]))\n",
        "  ind = np.argpartition(values, -1 * n_return)[-1 * n_return:]\n",
        "  top_n = y[ind]\n",
        "  return top_n"
      ],
      "metadata": {
        "id": "MZQdi54xkS9s"
      },
      "execution_count": 153,
      "outputs": []
    },
    {
      "cell_type": "code",
      "source": [
        "get_cosine_distance(X[200])"
      ],
      "metadata": {
        "colab": {
          "base_uri": "https://localhost:8080/"
        },
        "id": "3uWQV6Mgkoql",
        "outputId": "bb790b77-32f2-4ff2-a726-72adebe0018d"
      },
      "execution_count": 155,
      "outputs": [
        {
          "output_type": "execute_result",
          "data": {
            "text/plain": [
              "352    Flaming Dr. Pepper\n",
              "245             Afternoon\n",
              "179          Grizzly Bear\n",
              "208           Grim Reaper\n",
              "200           Texas Sling\n",
              "Name: strDrink, dtype: object"
            ]
          },
          "metadata": {},
          "execution_count": 155
        }
      ]
    },
    {
      "cell_type": "markdown",
      "source": [
        "# References\n",
        "\n",
        "https://plotly.com/python/pca-visualization/\n",
        "\n",
        "https://programminghistorian.org/en/lessons/clustering-with-scikit-learn-in-python\n",
        "\n",
        "https://medium.com/web-mining-is688-spring-2021/how-dishes-are-clustered-together-based-on-the-ingredients-3b357ac02b26\n",
        "\n",
        "https://scikit-learn.org/stable/modules/generated/sklearn.cluster.KMeans.html\n",
        "\n",
        "https://www.askpython.com/python/examples/plot-k-means-clusters-python\n",
        "\n",
        "https://numpy.org/doc/stable/reference/generated/numpy.argpartition.html"
      ],
      "metadata": {
        "id": "dlSdscMOiIeg"
      }
    }
  ]
}