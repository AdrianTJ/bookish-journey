{
 "cells": [
  {
   "cell_type": "code",
   "execution_count": 1,
   "metadata": {},
   "outputs": [],
   "source": [
    "import pandas as pd\n",
    "import numpy as np\n",
    "import matplotlib.pyplot as plt"
   ]
  },
  {
   "cell_type": "code",
   "execution_count": 5,
   "metadata": {},
   "outputs": [],
   "source": [
    "import os\n",
    "os.chdir('/Users/soto/Maestria/Arquitectura-datos/bookish-journey/test/')"
   ]
  },
  {
   "cell_type": "code",
   "execution_count": 6,
   "metadata": {},
   "outputs": [
    {
     "name": "stdout",
     "output_type": "stream",
     "text": [
      "(425, 17)\n"
     ]
    },
    {
     "data": {
      "text/html": [
       "<div>\n",
       "<style scoped>\n",
       "    .dataframe tbody tr th:only-of-type {\n",
       "        vertical-align: middle;\n",
       "    }\n",
       "\n",
       "    .dataframe tbody tr th {\n",
       "        vertical-align: top;\n",
       "    }\n",
       "\n",
       "    .dataframe thead th {\n",
       "        text-align: right;\n",
       "    }\n",
       "</style>\n",
       "<table border=\"1\" class=\"dataframe\">\n",
       "  <thead>\n",
       "    <tr style=\"text-align: right;\">\n",
       "      <th></th>\n",
       "      <th>idDrink</th>\n",
       "      <th>strDrink</th>\n",
       "      <th>strIngredient1</th>\n",
       "      <th>strIngredient2</th>\n",
       "      <th>strIngredient3</th>\n",
       "      <th>strIngredient4</th>\n",
       "      <th>strIngredient5</th>\n",
       "      <th>strIngredient6</th>\n",
       "      <th>strIngredient7</th>\n",
       "      <th>strIngredient8</th>\n",
       "      <th>strIngredient9</th>\n",
       "      <th>strIngredient10</th>\n",
       "      <th>strIngredient11</th>\n",
       "      <th>strIngredient12</th>\n",
       "      <th>strIngredient13</th>\n",
       "      <th>strIngredient14</th>\n",
       "      <th>strIngredient15</th>\n",
       "    </tr>\n",
       "  </thead>\n",
       "  <tbody>\n",
       "    <tr>\n",
       "      <th>0</th>\n",
       "      <td>11002</td>\n",
       "      <td>Long Island Tea</td>\n",
       "      <td>Vodka</td>\n",
       "      <td>Light rum</td>\n",
       "      <td>Gin</td>\n",
       "      <td>Tequila</td>\n",
       "      <td>Lemon</td>\n",
       "      <td>Coca-Cola</td>\n",
       "      <td>NaN</td>\n",
       "      <td>NaN</td>\n",
       "      <td>NaN</td>\n",
       "      <td>NaN</td>\n",
       "      <td>NaN</td>\n",
       "      <td>NaN</td>\n",
       "      <td>NaN</td>\n",
       "      <td>NaN</td>\n",
       "      <td>NaN</td>\n",
       "    </tr>\n",
       "    <tr>\n",
       "      <th>1</th>\n",
       "      <td>11000</td>\n",
       "      <td>Mojito</td>\n",
       "      <td>Light rum</td>\n",
       "      <td>Lime</td>\n",
       "      <td>Sugar</td>\n",
       "      <td>Mint</td>\n",
       "      <td>Soda water</td>\n",
       "      <td>NaN</td>\n",
       "      <td>NaN</td>\n",
       "      <td>NaN</td>\n",
       "      <td>NaN</td>\n",
       "      <td>NaN</td>\n",
       "      <td>NaN</td>\n",
       "      <td>NaN</td>\n",
       "      <td>NaN</td>\n",
       "      <td>NaN</td>\n",
       "      <td>NaN</td>\n",
       "    </tr>\n",
       "    <tr>\n",
       "      <th>2</th>\n",
       "      <td>11001</td>\n",
       "      <td>Old Fashioned</td>\n",
       "      <td>Bourbon</td>\n",
       "      <td>Angostura bitters</td>\n",
       "      <td>Sugar</td>\n",
       "      <td>Water</td>\n",
       "      <td>NaN</td>\n",
       "      <td>NaN</td>\n",
       "      <td>NaN</td>\n",
       "      <td>NaN</td>\n",
       "      <td>NaN</td>\n",
       "      <td>NaN</td>\n",
       "      <td>NaN</td>\n",
       "      <td>NaN</td>\n",
       "      <td>NaN</td>\n",
       "      <td>NaN</td>\n",
       "      <td>NaN</td>\n",
       "    </tr>\n",
       "    <tr>\n",
       "      <th>3</th>\n",
       "      <td>11003</td>\n",
       "      <td>Negroni</td>\n",
       "      <td>Gin</td>\n",
       "      <td>Campari</td>\n",
       "      <td>Sweet Vermouth</td>\n",
       "      <td>NaN</td>\n",
       "      <td>NaN</td>\n",
       "      <td>NaN</td>\n",
       "      <td>NaN</td>\n",
       "      <td>NaN</td>\n",
       "      <td>NaN</td>\n",
       "      <td>NaN</td>\n",
       "      <td>NaN</td>\n",
       "      <td>NaN</td>\n",
       "      <td>NaN</td>\n",
       "      <td>NaN</td>\n",
       "      <td>NaN</td>\n",
       "    </tr>\n",
       "    <tr>\n",
       "      <th>4</th>\n",
       "      <td>11004</td>\n",
       "      <td>Whiskey Sour</td>\n",
       "      <td>Blended whiskey</td>\n",
       "      <td>Lemon</td>\n",
       "      <td>Powdered sugar</td>\n",
       "      <td>Cherry</td>\n",
       "      <td>Lemon</td>\n",
       "      <td>NaN</td>\n",
       "      <td>NaN</td>\n",
       "      <td>NaN</td>\n",
       "      <td>NaN</td>\n",
       "      <td>NaN</td>\n",
       "      <td>NaN</td>\n",
       "      <td>NaN</td>\n",
       "      <td>NaN</td>\n",
       "      <td>NaN</td>\n",
       "      <td>NaN</td>\n",
       "    </tr>\n",
       "    <tr>\n",
       "      <th>5</th>\n",
       "      <td>11007</td>\n",
       "      <td>Margarita</td>\n",
       "      <td>Tequila</td>\n",
       "      <td>Triple sec</td>\n",
       "      <td>Lime juice</td>\n",
       "      <td>Salt</td>\n",
       "      <td>NaN</td>\n",
       "      <td>NaN</td>\n",
       "      <td>NaN</td>\n",
       "      <td>NaN</td>\n",
       "      <td>NaN</td>\n",
       "      <td>NaN</td>\n",
       "      <td>NaN</td>\n",
       "      <td>NaN</td>\n",
       "      <td>NaN</td>\n",
       "      <td>NaN</td>\n",
       "      <td>NaN</td>\n",
       "    </tr>\n",
       "    <tr>\n",
       "      <th>6</th>\n",
       "      <td>11006</td>\n",
       "      <td>Daiquiri</td>\n",
       "      <td>Light rum</td>\n",
       "      <td>Lime</td>\n",
       "      <td>Powdered sugar</td>\n",
       "      <td>NaN</td>\n",
       "      <td>NaN</td>\n",
       "      <td>NaN</td>\n",
       "      <td>NaN</td>\n",
       "      <td>NaN</td>\n",
       "      <td>NaN</td>\n",
       "      <td>NaN</td>\n",
       "      <td>NaN</td>\n",
       "      <td>NaN</td>\n",
       "      <td>NaN</td>\n",
       "      <td>NaN</td>\n",
       "      <td>NaN</td>\n",
       "    </tr>\n",
       "    <tr>\n",
       "      <th>7</th>\n",
       "      <td>11005</td>\n",
       "      <td>Dry Martini</td>\n",
       "      <td>Gin</td>\n",
       "      <td>Dry Vermouth</td>\n",
       "      <td>Olive</td>\n",
       "      <td>NaN</td>\n",
       "      <td>NaN</td>\n",
       "      <td>NaN</td>\n",
       "      <td>NaN</td>\n",
       "      <td>NaN</td>\n",
       "      <td>NaN</td>\n",
       "      <td>NaN</td>\n",
       "      <td>NaN</td>\n",
       "      <td>NaN</td>\n",
       "      <td>NaN</td>\n",
       "      <td>NaN</td>\n",
       "      <td>NaN</td>\n",
       "    </tr>\n",
       "    <tr>\n",
       "      <th>8</th>\n",
       "      <td>11008</td>\n",
       "      <td>Manhattan</td>\n",
       "      <td>Sweet Vermouth</td>\n",
       "      <td>Bourbon</td>\n",
       "      <td>Angostura bitters</td>\n",
       "      <td>Ice</td>\n",
       "      <td>Maraschino cherry</td>\n",
       "      <td>Orange peel</td>\n",
       "      <td>NaN</td>\n",
       "      <td>NaN</td>\n",
       "      <td>NaN</td>\n",
       "      <td>NaN</td>\n",
       "      <td>NaN</td>\n",
       "      <td>NaN</td>\n",
       "      <td>NaN</td>\n",
       "      <td>NaN</td>\n",
       "      <td>NaN</td>\n",
       "    </tr>\n",
       "    <tr>\n",
       "      <th>9</th>\n",
       "      <td>11020</td>\n",
       "      <td>Algonquin</td>\n",
       "      <td>Blended whiskey</td>\n",
       "      <td>Dry Vermouth</td>\n",
       "      <td>Pineapple juice</td>\n",
       "      <td>NaN</td>\n",
       "      <td>NaN</td>\n",
       "      <td>NaN</td>\n",
       "      <td>NaN</td>\n",
       "      <td>NaN</td>\n",
       "      <td>NaN</td>\n",
       "      <td>NaN</td>\n",
       "      <td>NaN</td>\n",
       "      <td>NaN</td>\n",
       "      <td>NaN</td>\n",
       "      <td>NaN</td>\n",
       "      <td>NaN</td>\n",
       "    </tr>\n",
       "  </tbody>\n",
       "</table>\n",
       "</div>"
      ],
      "text/plain": [
       "   idDrink         strDrink   strIngredient1     strIngredient2  \\\n",
       "0    11002  Long Island Tea            Vodka          Light rum   \n",
       "1    11000           Mojito        Light rum               Lime   \n",
       "2    11001    Old Fashioned          Bourbon  Angostura bitters   \n",
       "3    11003          Negroni              Gin            Campari   \n",
       "4    11004     Whiskey Sour  Blended whiskey              Lemon   \n",
       "5    11007        Margarita          Tequila         Triple sec   \n",
       "6    11006         Daiquiri        Light rum               Lime   \n",
       "7    11005      Dry Martini              Gin       Dry Vermouth   \n",
       "8    11008        Manhattan   Sweet Vermouth            Bourbon   \n",
       "9    11020        Algonquin  Blended whiskey       Dry Vermouth   \n",
       "\n",
       "      strIngredient3 strIngredient4     strIngredient5 strIngredient6  \\\n",
       "0                Gin        Tequila              Lemon      Coca-Cola   \n",
       "1              Sugar           Mint         Soda water            NaN   \n",
       "2              Sugar          Water                NaN            NaN   \n",
       "3     Sweet Vermouth            NaN                NaN            NaN   \n",
       "4     Powdered sugar         Cherry              Lemon            NaN   \n",
       "5         Lime juice           Salt                NaN            NaN   \n",
       "6     Powdered sugar            NaN                NaN            NaN   \n",
       "7              Olive            NaN                NaN            NaN   \n",
       "8  Angostura bitters            Ice  Maraschino cherry    Orange peel   \n",
       "9    Pineapple juice            NaN                NaN            NaN   \n",
       "\n",
       "  strIngredient7 strIngredient8 strIngredient9 strIngredient10  \\\n",
       "0            NaN            NaN            NaN             NaN   \n",
       "1            NaN            NaN            NaN             NaN   \n",
       "2            NaN            NaN            NaN             NaN   \n",
       "3            NaN            NaN            NaN             NaN   \n",
       "4            NaN            NaN            NaN             NaN   \n",
       "5            NaN            NaN            NaN             NaN   \n",
       "6            NaN            NaN            NaN             NaN   \n",
       "7            NaN            NaN            NaN             NaN   \n",
       "8            NaN            NaN            NaN             NaN   \n",
       "9            NaN            NaN            NaN             NaN   \n",
       "\n",
       "  strIngredient11  strIngredient12  strIngredient13  strIngredient14  \\\n",
       "0             NaN              NaN              NaN              NaN   \n",
       "1             NaN              NaN              NaN              NaN   \n",
       "2             NaN              NaN              NaN              NaN   \n",
       "3             NaN              NaN              NaN              NaN   \n",
       "4             NaN              NaN              NaN              NaN   \n",
       "5             NaN              NaN              NaN              NaN   \n",
       "6             NaN              NaN              NaN              NaN   \n",
       "7             NaN              NaN              NaN              NaN   \n",
       "8             NaN              NaN              NaN              NaN   \n",
       "9             NaN              NaN              NaN              NaN   \n",
       "\n",
       "   strIngredient15  \n",
       "0              NaN  \n",
       "1              NaN  \n",
       "2              NaN  \n",
       "3              NaN  \n",
       "4              NaN  \n",
       "5              NaN  \n",
       "6              NaN  \n",
       "7              NaN  \n",
       "8              NaN  \n",
       "9              NaN  "
      ]
     },
     "execution_count": 6,
     "metadata": {},
     "output_type": "execute_result"
    }
   ],
   "source": [
    "base = pd.read_csv('ingredientes.csv')\n",
    "print(base.shape)\n",
    "base.head(10)"
   ]
  },
  {
   "cell_type": "code",
   "execution_count": 7,
   "metadata": {},
   "outputs": [
    {
     "name": "stdout",
     "output_type": "stream",
     "text": [
      "<class 'pandas.core.frame.DataFrame'>\n",
      "RangeIndex: 425 entries, 0 to 424\n",
      "Data columns (total 17 columns):\n",
      " #   Column           Non-Null Count  Dtype  \n",
      "---  ------           --------------  -----  \n",
      " 0   idDrink          425 non-null    int64  \n",
      " 1   strDrink         425 non-null    object \n",
      " 2   strIngredient1   425 non-null    object \n",
      " 3   strIngredient2   425 non-null    object \n",
      " 4   strIngredient3   361 non-null    object \n",
      " 5   strIngredient4   230 non-null    object \n",
      " 6   strIngredient5   141 non-null    object \n",
      " 7   strIngredient6   62 non-null     object \n",
      " 8   strIngredient7   16 non-null     object \n",
      " 9   strIngredient8   4 non-null      object \n",
      " 10  strIngredient9   2 non-null      object \n",
      " 11  strIngredient10  1 non-null      object \n",
      " 12  strIngredient11  1 non-null      object \n",
      " 13  strIngredient12  0 non-null      float64\n",
      " 14  strIngredient13  0 non-null      float64\n",
      " 15  strIngredient14  0 non-null      float64\n",
      " 16  strIngredient15  0 non-null      float64\n",
      "dtypes: float64(4), int64(1), object(12)\n",
      "memory usage: 56.6+ KB\n"
     ]
    }
   ],
   "source": [
    "base.info()"
   ]
  },
  {
   "cell_type": "code",
   "execution_count": 8,
   "metadata": {},
   "outputs": [],
   "source": [
    "base=base.drop(['strIngredient12','strIngredient13','strIngredient14','strIngredient15'],axis=1)"
   ]
  },
  {
   "cell_type": "code",
   "execution_count": 9,
   "metadata": {},
   "outputs": [
    {
     "name": "stdout",
     "output_type": "stream",
     "text": [
      "(425, 13)\n"
     ]
    }
   ],
   "source": [
    "base=base.drop_duplicates()\n",
    "print(base.shape)"
   ]
  },
  {
   "cell_type": "code",
   "execution_count": 10,
   "metadata": {},
   "outputs": [],
   "source": [
    "base=base.replace(np.nan,\"\")"
   ]
  },
  {
   "cell_type": "code",
   "execution_count": 11,
   "metadata": {},
   "outputs": [
    {
     "data": {
      "text/plain": [
       "0       Vodka,Light rum,Gin,Tequila,Lemon,Coca-Cola,,,,,\n",
       "1             Light rum,Lime,Sugar,Mint,Soda water,,,,,,\n",
       "2           Bourbon,Angostura bitters,Sugar,Water,,,,,,,\n",
       "3                     Gin,Campari,Sweet Vermouth,,,,,,,,\n",
       "4      Blended whiskey,Lemon,Powdered sugar,Cherry,Le...\n",
       "                             ...                        \n",
       "420                     Vodka,Kahlua,Sugar syrup,,,,,,,,\n",
       "421           Baileys irish cream,Kahlua,Sambuca,,,,,,,,\n",
       "422                                  Vodka,Ouzo,,,,,,,,,\n",
       "423     Southern Comfort,Triple sec,Lime,Sour mix,,,,,,,\n",
       "424    Orange Bitters,Green Chartreuse,Gin,Sweet Verm...\n",
       "Name: ingredients, Length: 425, dtype: object"
      ]
     },
     "execution_count": 11,
     "metadata": {},
     "output_type": "execute_result"
    }
   ],
   "source": [
    "base['ingredients']=base[['strIngredient1','strIngredient2','strIngredient3','strIngredient4','strIngredient5',\n",
    "        'strIngredient6','strIngredient7','strIngredient8','strIngredient9','strIngredient10','strIngredient11']].agg(','.join, axis=1)\n",
    "base.ingredients"
   ]
  },
  {
   "cell_type": "code",
   "execution_count": 12,
   "metadata": {},
   "outputs": [],
   "source": [
    "#función para convertir el texto en minúsculas\n",
    "def lower(text):\n",
    "    text=text.lower()\n",
    "    return text"
   ]
  },
  {
   "cell_type": "code",
   "execution_count": 13,
   "metadata": {},
   "outputs": [],
   "source": [
    "ingredients_low=[]\n",
    "for i in base.ingredients:\n",
    "    il=lower(i)\n",
    "    ingredients_low.append(il)"
   ]
  },
  {
   "cell_type": "code",
   "execution_count": 14,
   "metadata": {},
   "outputs": [
    {
     "data": {
      "text/plain": [
       "0       vodka,light rum,gin,tequila,lemon,coca-cola,,,,,\n",
       "1             light rum,lime,sugar,mint,soda water,,,,,,\n",
       "2           bourbon,angostura bitters,sugar,water,,,,,,,\n",
       "3                     gin,campari,sweet vermouth,,,,,,,,\n",
       "4      blended whiskey,lemon,powdered sugar,cherry,le...\n",
       "                             ...                        \n",
       "420                     vodka,kahlua,sugar syrup,,,,,,,,\n",
       "421           baileys irish cream,kahlua,sambuca,,,,,,,,\n",
       "422                                  vodka,ouzo,,,,,,,,,\n",
       "423     southern comfort,triple sec,lime,sour mix,,,,,,,\n",
       "424    orange bitters,green chartreuse,gin,sweet verm...\n",
       "Name: ingredients, Length: 425, dtype: object"
      ]
     },
     "execution_count": 14,
     "metadata": {},
     "output_type": "execute_result"
    }
   ],
   "source": [
    "base['ingredients']=ingredients_low\n",
    "base.ingredients"
   ]
  },
  {
   "cell_type": "code",
   "execution_count": 15,
   "metadata": {},
   "outputs": [],
   "source": [
    "#función para tokenizar\n",
    "def words(df):\n",
    "    words=[]\n",
    "    for i in range(425):\n",
    "        p=base.ingredients[i].split(\",\")\n",
    "        words=p+words\n",
    "    return words"
   ]
  },
  {
   "cell_type": "code",
   "execution_count": 16,
   "metadata": {},
   "outputs": [],
   "source": [
    "Ingredients=words(base)"
   ]
  },
  {
   "cell_type": "code",
   "execution_count": 17,
   "metadata": {},
   "outputs": [],
   "source": [
    "#función para la frecuencia de los ingredientes\n",
    "def frecuencia(lista):\n",
    "    dic={}\n",
    "    for palabra in lista:\n",
    "        if palabra in dic.keys():\n",
    "            dic[palabra]=dic[palabra]+1\n",
    "        else:\n",
    "            dic[palabra]=1\n",
    "    return dic "
   ]
  },
  {
   "cell_type": "code",
   "execution_count": 18,
   "metadata": {},
   "outputs": [],
   "source": [
    "conteo=frecuencia(Ingredients)\n",
    "conteo_dic=dict(sorted(conteo.items(),key=lambda item:item[1], reverse=True))\n",
    "#conteo_dic"
   ]
  },
  {
   "cell_type": "code",
   "execution_count": 19,
   "metadata": {},
   "outputs": [
    {
     "data": {
      "text/html": [
       "<div>\n",
       "<style scoped>\n",
       "    .dataframe tbody tr th:only-of-type {\n",
       "        vertical-align: middle;\n",
       "    }\n",
       "\n",
       "    .dataframe tbody tr th {\n",
       "        vertical-align: top;\n",
       "    }\n",
       "\n",
       "    .dataframe thead th {\n",
       "        text-align: right;\n",
       "    }\n",
       "</style>\n",
       "<table border=\"1\" class=\"dataframe\">\n",
       "  <thead>\n",
       "    <tr style=\"text-align: right;\">\n",
       "      <th></th>\n",
       "      <th>freq</th>\n",
       "    </tr>\n",
       "  </thead>\n",
       "  <tbody>\n",
       "    <tr>\n",
       "      <th></th>\n",
       "      <td>3007</td>\n",
       "    </tr>\n",
       "    <tr>\n",
       "      <th>gin</th>\n",
       "      <td>81</td>\n",
       "    </tr>\n",
       "    <tr>\n",
       "      <th>vodka</th>\n",
       "      <td>64</td>\n",
       "    </tr>\n",
       "    <tr>\n",
       "      <th>sugar</th>\n",
       "      <td>51</td>\n",
       "    </tr>\n",
       "    <tr>\n",
       "      <th>lemon juice</th>\n",
       "      <td>50</td>\n",
       "    </tr>\n",
       "    <tr>\n",
       "      <th>...</th>\n",
       "      <td>...</td>\n",
       "    </tr>\n",
       "    <tr>\n",
       "      <th>pink lemonade</th>\n",
       "      <td>1</td>\n",
       "    </tr>\n",
       "    <tr>\n",
       "      <th>cream of coconut</th>\n",
       "      <td>1</td>\n",
       "    </tr>\n",
       "    <tr>\n",
       "      <th>peach brandy</th>\n",
       "      <td>1</td>\n",
       "    </tr>\n",
       "    <tr>\n",
       "      <th>mint syrup</th>\n",
       "      <td>1</td>\n",
       "    </tr>\n",
       "    <tr>\n",
       "      <th>dubonnet rouge</th>\n",
       "      <td>1</td>\n",
       "    </tr>\n",
       "  </tbody>\n",
       "</table>\n",
       "<p>295 rows × 1 columns</p>\n",
       "</div>"
      ],
      "text/plain": [
       "                  freq\n",
       "                  3007\n",
       "gin                 81\n",
       "vodka               64\n",
       "sugar               51\n",
       "lemon juice         50\n",
       "...                ...\n",
       "pink lemonade        1\n",
       "cream of coconut     1\n",
       "peach brandy         1\n",
       "mint syrup           1\n",
       "dubonnet rouge       1\n",
       "\n",
       "[295 rows x 1 columns]"
      ]
     },
     "execution_count": 19,
     "metadata": {},
     "output_type": "execute_result"
    }
   ],
   "source": [
    "ingredients_df=pd.DataFrame.from_dict(conteo_dic,orient='index').rename(columns={0:'freq'})\n",
    "ingredients_df\n"
   ]
  },
  {
   "cell_type": "code",
   "execution_count": 20,
   "metadata": {},
   "outputs": [],
   "source": [
    "ingredients_df=ingredients_df[1:]"
   ]
  },
  {
   "cell_type": "markdown",
   "metadata": {},
   "source": [
    "# Top 20 ingredients "
   ]
  },
  {
   "cell_type": "code",
   "execution_count": 21,
   "metadata": {},
   "outputs": [
    {
     "data": {
      "image/png": "[encoded data removed]",
      "text/plain": [
       "<Figure size 432x288 with 1 Axes>"
      ]
     },
     "metadata": {
      "needs_background": "light"
     },
     "output_type": "display_data"
    }
   ],
   "source": [
    "def plot_bar(ingredients_df, top=20):\n",
    "    fig=plt.figure()\n",
    "    ax=fig.add_axes([0,0,2,1])\n",
    "    ax.bar(x=ingredients_df.iloc[:top,:].index, height=ingredients_df.iloc[:top,0].values)\n",
    "    plt.xticks(rotation=90)\n",
    "    plt.show()\n",
    "\n",
    "plot_bar(ingredients_df,20)"
   ]
  },
  {
   "cell_type": "code",
   "execution_count": null,
   "metadata": {},
   "outputs": [],
   "source": []
  },
  {
   "cell_type": "code",
   "execution_count": null,
   "metadata": {},
   "outputs": [],
   "source": []
  },
  {
   "cell_type": "code",
   "execution_count": null,
   "metadata": {},
   "outputs": [],
   "source": []
  },
  {
   "cell_type": "code",
   "execution_count": null,
   "metadata": {},
   "outputs": [],
   "source": []
  },
  {
   "cell_type": "code",
   "execution_count": null,
   "metadata": {},
   "outputs": [],
   "source": []
  },
  {
   "cell_type": "code",
   "execution_count": null,
   "metadata": {},
   "outputs": [],
   "source": []
  }
 ],
 "metadata": {
  "interpreter": {
   "hash": "aee8b7b246df8f9039afb4144a1f6fd8d2ca17a180786b69acc140d282b71a49"
  },
  "kernelspec": {
   "display_name": "Python 3 (ipykernel)",
   "language": "python",
   "name": "python3"
  },
  "language_info": {
   "codemirror_mode": {
    "name": "ipython",
    "version": 3
   },
   "file_extension": ".py",
   "mimetype": "text/x-python",
   "name": "python",
   "nbconvert_exporter": "python",
   "pygments_lexer": "ipython3",
   "version": "3.8.8"
  }
 },
 "nbformat": 4,
 "nbformat_minor": 2
}
