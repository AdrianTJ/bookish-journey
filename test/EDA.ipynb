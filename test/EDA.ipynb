{
 "cells": [
  {
   "cell_type": "markdown",
   "metadata": {},
   "source": [
    "# Exploratory Data Analysis"
   ]
  },
  {
   "cell_type": "markdown",
   "metadata": {},
   "source": [
    "Before the modeling task, we analize our data to summarize their main characteristics. This exploration will help us determine the best way to manipulate the data to get the answers we need. "
   ]
  },
  {
   "cell_type": "markdown",
   "metadata": {},
   "source": [
    "### Importing and loading libraries"
   ]
  },
  {
   "cell_type": "markdown",
   "metadata": {},
   "source": [
    "For our analysis, we need to import the below libraries."
   ]
  },
  {
   "cell_type": "code",
   "execution_count": 1,
   "metadata": {},
   "outputs": [],
   "source": [
    "import pandas as pd\n",
    "import numpy as np\n",
    "import matplotlib.pyplot as plt"
   ]
  },
  {
   "cell_type": "code",
   "execution_count": 2,
   "metadata": {},
   "outputs": [],
   "source": [
    "import os\n",
    "os.chdir('/Users/mogarcia/Documents/Maestría_MCD/2do_semestre/Arquitectura_de_datos/bookish-journey-main/test')"
   ]
  },
  {
   "cell_type": "markdown",
   "metadata": {},
   "source": [
    "### Loading data"
   ]
  },
  {
   "cell_type": "markdown",
   "metadata": {},
   "source": [
    "The input data is pulled from **TheCocktailDB API** [https://www.thecocktaildb.com/api.php] through API calls and is obtained in JSON format. Once the data is loaded, we transform and clean it to make it into a more usable format."
   ]
  },
  {
   "cell_type": "code",
   "execution_count": 3,
   "metadata": {},
   "outputs": [
    {
     "name": "stdout",
     "output_type": "stream",
     "text": [
      "(425, 17)\n"
     ]
    },
    {
     "data": {
      "text/html": [
       "<div>\n",
       "<style scoped>\n",
       "    .dataframe tbody tr th:only-of-type {\n",
       "        vertical-align: middle;\n",
       "    }\n",
       "\n",
       "    .dataframe tbody tr th {\n",
       "        vertical-align: top;\n",
       "    }\n",
       "\n",
       "    .dataframe thead th {\n",
       "        text-align: right;\n",
       "    }\n",
       "</style>\n",
       "<table border=\"1\" class=\"dataframe\">\n",
       "  <thead>\n",
       "    <tr style=\"text-align: right;\">\n",
       "      <th></th>\n",
       "      <th>idDrink</th>\n",
       "      <th>strDrink</th>\n",
       "      <th>strIngredient1</th>\n",
       "      <th>strIngredient2</th>\n",
       "      <th>strIngredient3</th>\n",
       "      <th>strIngredient4</th>\n",
       "      <th>strIngredient5</th>\n",
       "      <th>strIngredient6</th>\n",
       "      <th>strIngredient7</th>\n",
       "      <th>strIngredient8</th>\n",
       "      <th>strIngredient9</th>\n",
       "      <th>strIngredient10</th>\n",
       "      <th>strIngredient11</th>\n",
       "      <th>strIngredient12</th>\n",
       "      <th>strIngredient13</th>\n",
       "      <th>strIngredient14</th>\n",
       "      <th>strIngredient15</th>\n",
       "    </tr>\n",
       "  </thead>\n",
       "  <tbody>\n",
       "    <tr>\n",
       "      <th>0</th>\n",
       "      <td>11002</td>\n",
       "      <td>Long Island Tea</td>\n",
       "      <td>Vodka</td>\n",
       "      <td>Light rum</td>\n",
       "      <td>Gin</td>\n",
       "      <td>Tequila</td>\n",
       "      <td>Lemon</td>\n",
       "      <td>Coca-Cola</td>\n",
       "      <td>NaN</td>\n",
       "      <td>NaN</td>\n",
       "      <td>NaN</td>\n",
       "      <td>NaN</td>\n",
       "      <td>NaN</td>\n",
       "      <td>NaN</td>\n",
       "      <td>NaN</td>\n",
       "      <td>NaN</td>\n",
       "      <td>NaN</td>\n",
       "    </tr>\n",
       "    <tr>\n",
       "      <th>1</th>\n",
       "      <td>11000</td>\n",
       "      <td>Mojito</td>\n",
       "      <td>Light rum</td>\n",
       "      <td>Lime</td>\n",
       "      <td>Sugar</td>\n",
       "      <td>Mint</td>\n",
       "      <td>Soda water</td>\n",
       "      <td>NaN</td>\n",
       "      <td>NaN</td>\n",
       "      <td>NaN</td>\n",
       "      <td>NaN</td>\n",
       "      <td>NaN</td>\n",
       "      <td>NaN</td>\n",
       "      <td>NaN</td>\n",
       "      <td>NaN</td>\n",
       "      <td>NaN</td>\n",
       "      <td>NaN</td>\n",
       "    </tr>\n",
       "    <tr>\n",
       "      <th>2</th>\n",
       "      <td>11001</td>\n",
       "      <td>Old Fashioned</td>\n",
       "      <td>Bourbon</td>\n",
       "      <td>Angostura bitters</td>\n",
       "      <td>Sugar</td>\n",
       "      <td>Water</td>\n",
       "      <td>NaN</td>\n",
       "      <td>NaN</td>\n",
       "      <td>NaN</td>\n",
       "      <td>NaN</td>\n",
       "      <td>NaN</td>\n",
       "      <td>NaN</td>\n",
       "      <td>NaN</td>\n",
       "      <td>NaN</td>\n",
       "      <td>NaN</td>\n",
       "      <td>NaN</td>\n",
       "      <td>NaN</td>\n",
       "    </tr>\n",
       "    <tr>\n",
       "      <th>3</th>\n",
       "      <td>11003</td>\n",
       "      <td>Negroni</td>\n",
       "      <td>Gin</td>\n",
       "      <td>Campari</td>\n",
       "      <td>Sweet Vermouth</td>\n",
       "      <td>NaN</td>\n",
       "      <td>NaN</td>\n",
       "      <td>NaN</td>\n",
       "      <td>NaN</td>\n",
       "      <td>NaN</td>\n",
       "      <td>NaN</td>\n",
       "      <td>NaN</td>\n",
       "      <td>NaN</td>\n",
       "      <td>NaN</td>\n",
       "      <td>NaN</td>\n",
       "      <td>NaN</td>\n",
       "      <td>NaN</td>\n",
       "    </tr>\n",
       "    <tr>\n",
       "      <th>4</th>\n",
       "      <td>11004</td>\n",
       "      <td>Whiskey Sour</td>\n",
       "      <td>Blended whiskey</td>\n",
       "      <td>Lemon</td>\n",
       "      <td>Powdered sugar</td>\n",
       "      <td>Cherry</td>\n",
       "      <td>Lemon</td>\n",
       "      <td>NaN</td>\n",
       "      <td>NaN</td>\n",
       "      <td>NaN</td>\n",
       "      <td>NaN</td>\n",
       "      <td>NaN</td>\n",
       "      <td>NaN</td>\n",
       "      <td>NaN</td>\n",
       "      <td>NaN</td>\n",
       "      <td>NaN</td>\n",
       "      <td>NaN</td>\n",
       "    </tr>\n",
       "    <tr>\n",
       "      <th>5</th>\n",
       "      <td>11007</td>\n",
       "      <td>Margarita</td>\n",
       "      <td>Tequila</td>\n",
       "      <td>Triple sec</td>\n",
       "      <td>Lime juice</td>\n",
       "      <td>Salt</td>\n",
       "      <td>NaN</td>\n",
       "      <td>NaN</td>\n",
       "      <td>NaN</td>\n",
       "      <td>NaN</td>\n",
       "      <td>NaN</td>\n",
       "      <td>NaN</td>\n",
       "      <td>NaN</td>\n",
       "      <td>NaN</td>\n",
       "      <td>NaN</td>\n",
       "      <td>NaN</td>\n",
       "      <td>NaN</td>\n",
       "    </tr>\n",
       "    <tr>\n",
       "      <th>6</th>\n",
       "      <td>11006</td>\n",
       "      <td>Daiquiri</td>\n",
       "      <td>Light rum</td>\n",
       "      <td>Lime</td>\n",
       "      <td>Powdered sugar</td>\n",
       "      <td>NaN</td>\n",
       "      <td>NaN</td>\n",
       "      <td>NaN</td>\n",
       "      <td>NaN</td>\n",
       "      <td>NaN</td>\n",
       "      <td>NaN</td>\n",
       "      <td>NaN</td>\n",
       "      <td>NaN</td>\n",
       "      <td>NaN</td>\n",
       "      <td>NaN</td>\n",
       "      <td>NaN</td>\n",
       "      <td>NaN</td>\n",
       "    </tr>\n",
       "    <tr>\n",
       "      <th>7</th>\n",
       "      <td>11005</td>\n",
       "      <td>Dry Martini</td>\n",
       "      <td>Gin</td>\n",
       "      <td>Dry Vermouth</td>\n",
       "      <td>Olive</td>\n",
       "      <td>NaN</td>\n",
       "      <td>NaN</td>\n",
       "      <td>NaN</td>\n",
       "      <td>NaN</td>\n",
       "      <td>NaN</td>\n",
       "      <td>NaN</td>\n",
       "      <td>NaN</td>\n",
       "      <td>NaN</td>\n",
       "      <td>NaN</td>\n",
       "      <td>NaN</td>\n",
       "      <td>NaN</td>\n",
       "      <td>NaN</td>\n",
       "    </tr>\n",
       "    <tr>\n",
       "      <th>8</th>\n",
       "      <td>11008</td>\n",
       "      <td>Manhattan</td>\n",
       "      <td>Sweet Vermouth</td>\n",
       "      <td>Bourbon</td>\n",
       "      <td>Angostura bitters</td>\n",
       "      <td>Ice</td>\n",
       "      <td>Maraschino cherry</td>\n",
       "      <td>Orange peel</td>\n",
       "      <td>NaN</td>\n",
       "      <td>NaN</td>\n",
       "      <td>NaN</td>\n",
       "      <td>NaN</td>\n",
       "      <td>NaN</td>\n",
       "      <td>NaN</td>\n",
       "      <td>NaN</td>\n",
       "      <td>NaN</td>\n",
       "      <td>NaN</td>\n",
       "    </tr>\n",
       "    <tr>\n",
       "      <th>9</th>\n",
       "      <td>11020</td>\n",
       "      <td>Algonquin</td>\n",
       "      <td>Blended whiskey</td>\n",
       "      <td>Dry Vermouth</td>\n",
       "      <td>Pineapple juice</td>\n",
       "      <td>NaN</td>\n",
       "      <td>NaN</td>\n",
       "      <td>NaN</td>\n",
       "      <td>NaN</td>\n",
       "      <td>NaN</td>\n",
       "      <td>NaN</td>\n",
       "      <td>NaN</td>\n",
       "      <td>NaN</td>\n",
       "      <td>NaN</td>\n",
       "      <td>NaN</td>\n",
       "      <td>NaN</td>\n",
       "      <td>NaN</td>\n",
       "    </tr>\n",
       "  </tbody>\n",
       "</table>\n",
       "</div>"
      ],
      "text/plain": [
       "   idDrink         strDrink   strIngredient1     strIngredient2  \\\n",
       "0    11002  Long Island Tea            Vodka          Light rum   \n",
       "1    11000           Mojito        Light rum               Lime   \n",
       "2    11001    Old Fashioned          Bourbon  Angostura bitters   \n",
       "3    11003          Negroni              Gin            Campari   \n",
       "4    11004     Whiskey Sour  Blended whiskey              Lemon   \n",
       "5    11007        Margarita          Tequila         Triple sec   \n",
       "6    11006         Daiquiri        Light rum               Lime   \n",
       "7    11005      Dry Martini              Gin       Dry Vermouth   \n",
       "8    11008        Manhattan   Sweet Vermouth            Bourbon   \n",
       "9    11020        Algonquin  Blended whiskey       Dry Vermouth   \n",
       "\n",
       "      strIngredient3 strIngredient4     strIngredient5 strIngredient6  \\\n",
       "0                Gin        Tequila              Lemon      Coca-Cola   \n",
       "1              Sugar           Mint         Soda water            NaN   \n",
       "2              Sugar          Water                NaN            NaN   \n",
       "3     Sweet Vermouth            NaN                NaN            NaN   \n",
       "4     Powdered sugar         Cherry              Lemon            NaN   \n",
       "5         Lime juice           Salt                NaN            NaN   \n",
       "6     Powdered sugar            NaN                NaN            NaN   \n",
       "7              Olive            NaN                NaN            NaN   \n",
       "8  Angostura bitters            Ice  Maraschino cherry    Orange peel   \n",
       "9    Pineapple juice            NaN                NaN            NaN   \n",
       "\n",
       "  strIngredient7 strIngredient8 strIngredient9 strIngredient10  \\\n",
       "0            NaN            NaN            NaN             NaN   \n",
       "1            NaN            NaN            NaN             NaN   \n",
       "2            NaN            NaN            NaN             NaN   \n",
       "3            NaN            NaN            NaN             NaN   \n",
       "4            NaN            NaN            NaN             NaN   \n",
       "5            NaN            NaN            NaN             NaN   \n",
       "6            NaN            NaN            NaN             NaN   \n",
       "7            NaN            NaN            NaN             NaN   \n",
       "8            NaN            NaN            NaN             NaN   \n",
       "9            NaN            NaN            NaN             NaN   \n",
       "\n",
       "  strIngredient11  strIngredient12  strIngredient13  strIngredient14  \\\n",
       "0             NaN              NaN              NaN              NaN   \n",
       "1             NaN              NaN              NaN              NaN   \n",
       "2             NaN              NaN              NaN              NaN   \n",
       "3             NaN              NaN              NaN              NaN   \n",
       "4             NaN              NaN              NaN              NaN   \n",
       "5             NaN              NaN              NaN              NaN   \n",
       "6             NaN              NaN              NaN              NaN   \n",
       "7             NaN              NaN              NaN              NaN   \n",
       "8             NaN              NaN              NaN              NaN   \n",
       "9             NaN              NaN              NaN              NaN   \n",
       "\n",
       "   strIngredient15  \n",
       "0              NaN  \n",
       "1              NaN  \n",
       "2              NaN  \n",
       "3              NaN  \n",
       "4              NaN  \n",
       "5              NaN  \n",
       "6              NaN  \n",
       "7              NaN  \n",
       "8              NaN  \n",
       "9              NaN  "
      ]
     },
     "execution_count": 3,
     "metadata": {},
     "output_type": "execute_result"
    }
   ],
   "source": [
    "base = pd.read_csv('ingredientes.csv')\n",
    "print(base.shape)\n",
    "base.head(10)"
   ]
  },
  {
   "cell_type": "markdown",
   "metadata": {},
   "source": [
    "Our set is made up of 17 variables and 424 observations or cocktail recipes. The first 2 variables refer to the cocktail \n",
    "\n",
    "* idDrink\n",
    "* strDrink (cocktail name)\n",
    "    \n",
    "and the rest are the ingredients that are used to prepare the drink (strIngredient1 - strIngredient15)."
   ]
  },
  {
   "cell_type": "code",
   "execution_count": 4,
   "metadata": {},
   "outputs": [
    {
     "name": "stdout",
     "output_type": "stream",
     "text": [
      "<class 'pandas.core.frame.DataFrame'>\n",
      "RangeIndex: 425 entries, 0 to 424\n",
      "Data columns (total 17 columns):\n",
      " #   Column           Non-Null Count  Dtype  \n",
      "---  ------           --------------  -----  \n",
      " 0   idDrink          425 non-null    int64  \n",
      " 1   strDrink         425 non-null    object \n",
      " 2   strIngredient1   425 non-null    object \n",
      " 3   strIngredient2   425 non-null    object \n",
      " 4   strIngredient3   361 non-null    object \n",
      " 5   strIngredient4   230 non-null    object \n",
      " 6   strIngredient5   141 non-null    object \n",
      " 7   strIngredient6   62 non-null     object \n",
      " 8   strIngredient7   16 non-null     object \n",
      " 9   strIngredient8   4 non-null      object \n",
      " 10  strIngredient9   2 non-null      object \n",
      " 11  strIngredient10  1 non-null      object \n",
      " 12  strIngredient11  1 non-null      object \n",
      " 13  strIngredient12  0 non-null      float64\n",
      " 14  strIngredient13  0 non-null      float64\n",
      " 15  strIngredient14  0 non-null      float64\n",
      " 16  strIngredient15  0 non-null      float64\n",
      "dtypes: float64(4), int64(1), object(12)\n",
      "memory usage: 56.6+ KB\n"
     ]
    }
   ],
   "source": [
    "#Print information about the dataset\n",
    "base.info()"
   ]
  },
  {
   "cell_type": "markdown",
   "metadata": {},
   "source": [
    "### Cleaning and transforming data"
   ]
  },
  {
   "cell_type": "markdown",
   "metadata": {},
   "source": [
    "We observe that the last four columns of the dataset do not contain information on the ingredients, so we remove them from the database."
   ]
  },
  {
   "cell_type": "code",
   "execution_count": 5,
   "metadata": {},
   "outputs": [],
   "source": [
    "#Drop variables without registers\n",
    "base=base.drop(['strIngredient12','strIngredient13','strIngredient14','strIngredient15'],axis=1)"
   ]
  },
  {
   "cell_type": "code",
   "execution_count": 6,
   "metadata": {},
   "outputs": [
    {
     "name": "stdout",
     "output_type": "stream",
     "text": [
      "(425, 13)\n"
     ]
    }
   ],
   "source": [
    "#Eliminate duplicate recipes\n",
    "base=base.drop_duplicates()\n",
    "print(base.shape)"
   ]
  },
  {
   "cell_type": "code",
   "execution_count": 7,
   "metadata": {},
   "outputs": [],
   "source": [
    "#We made a copy of the database\n",
    "base0=base.copy()"
   ]
  },
  {
   "cell_type": "markdown",
   "metadata": {},
   "source": [
    "A variable called *ingredients* was generated which is a string that contains the ingredients of each cocktail. To do this, we replace the NaN values with some character (*) and then we concatenate the variables that register some ingredient. "
   ]
  },
  {
   "cell_type": "code",
   "execution_count": 8,
   "metadata": {},
   "outputs": [],
   "source": [
    "#Replace NaN values with character *\n",
    "base=base.replace(np.nan,\"*\")"
   ]
  },
  {
   "cell_type": "code",
   "execution_count": 9,
   "metadata": {},
   "outputs": [
    {
     "data": {
      "text/plain": [
       "0      Vodka,Light rum,Gin,Tequila,Lemon,Coca-Cola,*,...\n",
       "1       Light rum,Lime,Sugar,Mint,Soda water,*,*,*,*,*,*\n",
       "2      Bourbon,Angostura bitters,Sugar,Water,*,*,*,*,...\n",
       "3             Gin,Campari,Sweet Vermouth,*,*,*,*,*,*,*,*\n",
       "4      Blended whiskey,Lemon,Powdered sugar,Cherry,Le...\n",
       "                             ...                        \n",
       "420             Vodka,Kahlua,Sugar syrup,*,*,*,*,*,*,*,*\n",
       "421    Baileys irish cream,Kahlua,Sambuca,*,*,*,*,*,*...\n",
       "422                         Vodka,Ouzo,*,*,*,*,*,*,*,*,*\n",
       "423    Southern Comfort,Triple sec,Lime,Sour mix,*,*,...\n",
       "424    Orange Bitters,Green Chartreuse,Gin,Sweet Verm...\n",
       "Name: ingredients, Length: 425, dtype: object"
      ]
     },
     "execution_count": 9,
     "metadata": {},
     "output_type": "execute_result"
    }
   ],
   "source": [
    "#String with all ingredients of each drink\n",
    "base['ingredients']=base[['strIngredient1','strIngredient2','strIngredient3','strIngredient4','strIngredient5',\n",
    "        'strIngredient6','strIngredient7','strIngredient8','strIngredient9','strIngredient10','strIngredient11']].agg(','.join, axis=1)\n",
    "base.ingredients"
   ]
  },
  {
   "cell_type": "code",
   "execution_count": 10,
   "metadata": {},
   "outputs": [],
   "source": [
    "#Function to convert text to lowercase and replace blanks with underscore\n",
    "def lower(text):\n",
    "    text=text.lower().replace(\" \",\"_\")\n",
    "    return text"
   ]
  },
  {
   "cell_type": "code",
   "execution_count": 11,
   "metadata": {},
   "outputs": [],
   "source": [
    "#List with lowercase text and spaces with underscore\n",
    "ingredients_low=[]\n",
    "for i in base.ingredients:\n",
    "    il=lower(i)\n",
    "    ingredients_low.append(il)"
   ]
  },
  {
   "cell_type": "code",
   "execution_count": 12,
   "metadata": {},
   "outputs": [
    {
     "data": {
      "text/plain": [
       "0      vodka,light_rum,gin,tequila,lemon,coca-cola,*,...\n",
       "1       light_rum,lime,sugar,mint,soda_water,*,*,*,*,*,*\n",
       "2      bourbon,angostura_bitters,sugar,water,*,*,*,*,...\n",
       "3             gin,campari,sweet_vermouth,*,*,*,*,*,*,*,*\n",
       "4      blended_whiskey,lemon,powdered_sugar,cherry,le...\n",
       "                             ...                        \n",
       "420             vodka,kahlua,sugar_syrup,*,*,*,*,*,*,*,*\n",
       "421    baileys_irish_cream,kahlua,sambuca,*,*,*,*,*,*...\n",
       "422                         vodka,ouzo,*,*,*,*,*,*,*,*,*\n",
       "423    southern_comfort,triple_sec,lime,sour_mix,*,*,...\n",
       "424    orange_bitters,green_chartreuse,gin,sweet_verm...\n",
       "Name: ingredients, Length: 425, dtype: object"
      ]
     },
     "execution_count": 12,
     "metadata": {},
     "output_type": "execute_result"
    }
   ],
   "source": [
    "#A new variable called by ingredients\n",
    "base['ingredients']=ingredients_low\n",
    "base.ingredients"
   ]
  },
  {
   "cell_type": "code",
   "execution_count": 13,
   "metadata": {},
   "outputs": [],
   "source": [
    "#Function to tokenize text \n",
    "def words(df):\n",
    "    words=[]\n",
    "    for i in range(425):\n",
    "        p=base.ingredients[i].split(\",\")\n",
    "        words=p+words\n",
    "    return words"
   ]
  },
  {
   "cell_type": "code",
   "execution_count": 14,
   "metadata": {},
   "outputs": [],
   "source": [
    "#List of ingredients\n",
    "Ingredients=words(base)"
   ]
  },
  {
   "cell_type": "markdown",
   "metadata": {},
   "source": [
    "#### Total number of ingredients"
   ]
  },
  {
   "cell_type": "markdown",
   "metadata": {},
   "source": [
    "In our dataset there are only 294 ingredientes. "
   ]
  },
  {
   "cell_type": "code",
   "execution_count": 15,
   "metadata": {},
   "outputs": [
    {
     "name": "stdout",
     "output_type": "stream",
     "text": [
      "The total number of ingredients:  294\n"
     ]
    }
   ],
   "source": [
    "ingredients_uniques=[]\n",
    "for item in Ingredients:\n",
    "    if item not in ingredients_uniques:\n",
    "        ingredients_uniques.append(item)\n",
    "\n",
    "print(\"The total number of ingredients: \", len(ingredients_uniques)-1)"
   ]
  },
  {
   "cell_type": "code",
   "execution_count": 16,
   "metadata": {},
   "outputs": [],
   "source": [
    "#Ingredient frequency function\n",
    "def frecuencia(lista):\n",
    "    dic={}\n",
    "    for palabra in lista:\n",
    "        if palabra in dic.keys():\n",
    "            dic[palabra]=dic[palabra]+1\n",
    "        else:\n",
    "            dic[palabra]=1\n",
    "    return dic "
   ]
  },
  {
   "cell_type": "code",
   "execution_count": 17,
   "metadata": {},
   "outputs": [],
   "source": [
    "conteo=frecuencia(Ingredients)\n",
    "conteo_dic=dict(sorted(conteo.items(),key=lambda item:item[1], reverse=True))\n",
    "#conteo_dic"
   ]
  },
  {
   "cell_type": "code",
   "execution_count": 18,
   "metadata": {},
   "outputs": [
    {
     "data": {
      "text/html": [
       "<div>\n",
       "<style scoped>\n",
       "    .dataframe tbody tr th:only-of-type {\n",
       "        vertical-align: middle;\n",
       "    }\n",
       "\n",
       "    .dataframe tbody tr th {\n",
       "        vertical-align: top;\n",
       "    }\n",
       "\n",
       "    .dataframe thead th {\n",
       "        text-align: right;\n",
       "    }\n",
       "</style>\n",
       "<table border=\"1\" class=\"dataframe\">\n",
       "  <thead>\n",
       "    <tr style=\"text-align: right;\">\n",
       "      <th></th>\n",
       "      <th>freq</th>\n",
       "    </tr>\n",
       "  </thead>\n",
       "  <tbody>\n",
       "    <tr>\n",
       "      <th>*</th>\n",
       "      <td>3007</td>\n",
       "    </tr>\n",
       "    <tr>\n",
       "      <th>gin</th>\n",
       "      <td>81</td>\n",
       "    </tr>\n",
       "    <tr>\n",
       "      <th>vodka</th>\n",
       "      <td>64</td>\n",
       "    </tr>\n",
       "    <tr>\n",
       "      <th>sugar</th>\n",
       "      <td>51</td>\n",
       "    </tr>\n",
       "    <tr>\n",
       "      <th>lemon_juice</th>\n",
       "      <td>50</td>\n",
       "    </tr>\n",
       "    <tr>\n",
       "      <th>...</th>\n",
       "      <td>...</td>\n",
       "    </tr>\n",
       "    <tr>\n",
       "      <th>pink_lemonade</th>\n",
       "      <td>1</td>\n",
       "    </tr>\n",
       "    <tr>\n",
       "      <th>cream_of_coconut</th>\n",
       "      <td>1</td>\n",
       "    </tr>\n",
       "    <tr>\n",
       "      <th>peach_brandy</th>\n",
       "      <td>1</td>\n",
       "    </tr>\n",
       "    <tr>\n",
       "      <th>mint_syrup</th>\n",
       "      <td>1</td>\n",
       "    </tr>\n",
       "    <tr>\n",
       "      <th>dubonnet_rouge</th>\n",
       "      <td>1</td>\n",
       "    </tr>\n",
       "  </tbody>\n",
       "</table>\n",
       "<p>295 rows × 1 columns</p>\n",
       "</div>"
      ],
      "text/plain": [
       "                  freq\n",
       "*                 3007\n",
       "gin                 81\n",
       "vodka               64\n",
       "sugar               51\n",
       "lemon_juice         50\n",
       "...                ...\n",
       "pink_lemonade        1\n",
       "cream_of_coconut     1\n",
       "peach_brandy         1\n",
       "mint_syrup           1\n",
       "dubonnet_rouge       1\n",
       "\n",
       "[295 rows x 1 columns]"
      ]
     },
     "execution_count": 18,
     "metadata": {},
     "output_type": "execute_result"
    }
   ],
   "source": [
    "ingredients_df=pd.DataFrame.from_dict(conteo_dic,orient='index').rename(columns={0:'freq'})\n",
    "ingredients_df\n"
   ]
  },
  {
   "cell_type": "markdown",
   "metadata": {},
   "source": [
    "# Top 10 ingredients "
   ]
  },
  {
   "cell_type": "code",
   "execution_count": 19,
   "metadata": {},
   "outputs": [],
   "source": [
    "#Ingredient frequency dataframe\n",
    "ingredients_df=ingredients_df[1:]"
   ]
  },
  {
   "cell_type": "markdown",
   "metadata": {},
   "source": [
    "Gin, Vodka, Sugar, Lemon juice, Orange juice, lemon, ice, lime juice, lime and grenadine are the 10 most common ingredients. The top five are used in approximately 68% of all recipes.\n",
    "The distillates most used in recipes are Gin (19% of all recipes) and Vodka (15%)."
   ]
  },
  {
   "cell_type": "code",
   "execution_count": 20,
   "metadata": {},
   "outputs": [
    {
     "data": {
      "image/png": "[encoded data removed]",
      "text/plain": [
       "<Figure size 432x288 with 1 Axes>"
      ]
     },
     "metadata": {
      "needs_background": "light"
     },
     "output_type": "display_data"
    }
   ],
   "source": [
    "def plot_bar(ingredients_df, top=10):\n",
    "    fig=plt.figure()\n",
    "    ax=fig.add_axes([0,0,2,1])\n",
    "    ax.bar(x=ingredients_df.iloc[:top,:].index, height=ingredients_df.iloc[:top,0].values)\n",
    "    plt.xticks(rotation=90)\n",
    "    plt.title(\"Top 20 most common ingredients\")\n",
    "    plt.show()\n",
    "\n",
    "plot_bar(ingredients_df,10)"
   ]
  },
  {
   "cell_type": "markdown",
   "metadata": {},
   "source": [
    "# Number of ingredients per cocktail"
   ]
  },
  {
   "cell_type": "markdown",
   "metadata": {},
   "source": [
    "To measure the number of ingredients used in each drink, the variable *num_ingredients* is created, which is formed by subtracting the NaN values from the total of *strIngredient* variables.\n",
    "\n",
    "On average, each cocktail requires 4 ingredients for its preparation. 29% of cocktails use 3 ingredients, while only 4% use more than seven ingredients."
   ]
  },
  {
   "cell_type": "code",
   "execution_count": 21,
   "metadata": {},
   "outputs": [
    {
     "data": {
      "text/html": [
       "<div>\n",
       "<style scoped>\n",
       "    .dataframe tbody tr th:only-of-type {\n",
       "        vertical-align: middle;\n",
       "    }\n",
       "\n",
       "    .dataframe tbody tr th {\n",
       "        vertical-align: top;\n",
       "    }\n",
       "\n",
       "    .dataframe thead th {\n",
       "        text-align: right;\n",
       "    }\n",
       "</style>\n",
       "<table border=\"1\" class=\"dataframe\">\n",
       "  <thead>\n",
       "    <tr style=\"text-align: right;\">\n",
       "      <th></th>\n",
       "      <th>idDrink</th>\n",
       "      <th>strDrink</th>\n",
       "      <th>strIngredient1</th>\n",
       "      <th>strIngredient2</th>\n",
       "      <th>strIngredient3</th>\n",
       "      <th>strIngredient4</th>\n",
       "      <th>strIngredient5</th>\n",
       "      <th>strIngredient6</th>\n",
       "      <th>strIngredient7</th>\n",
       "      <th>strIngredient8</th>\n",
       "      <th>strIngredient9</th>\n",
       "      <th>strIngredient10</th>\n",
       "      <th>strIngredient11</th>\n",
       "      <th>num_ingredients</th>\n",
       "    </tr>\n",
       "  </thead>\n",
       "  <tbody>\n",
       "    <tr>\n",
       "      <th>0</th>\n",
       "      <td>11002</td>\n",
       "      <td>Long Island Tea</td>\n",
       "      <td>Vodka</td>\n",
       "      <td>Light rum</td>\n",
       "      <td>Gin</td>\n",
       "      <td>Tequila</td>\n",
       "      <td>Lemon</td>\n",
       "      <td>Coca-Cola</td>\n",
       "      <td>NaN</td>\n",
       "      <td>NaN</td>\n",
       "      <td>NaN</td>\n",
       "      <td>NaN</td>\n",
       "      <td>NaN</td>\n",
       "      <td>6</td>\n",
       "    </tr>\n",
       "    <tr>\n",
       "      <th>1</th>\n",
       "      <td>11000</td>\n",
       "      <td>Mojito</td>\n",
       "      <td>Light rum</td>\n",
       "      <td>Lime</td>\n",
       "      <td>Sugar</td>\n",
       "      <td>Mint</td>\n",
       "      <td>Soda water</td>\n",
       "      <td>NaN</td>\n",
       "      <td>NaN</td>\n",
       "      <td>NaN</td>\n",
       "      <td>NaN</td>\n",
       "      <td>NaN</td>\n",
       "      <td>NaN</td>\n",
       "      <td>5</td>\n",
       "    </tr>\n",
       "    <tr>\n",
       "      <th>2</th>\n",
       "      <td>11001</td>\n",
       "      <td>Old Fashioned</td>\n",
       "      <td>Bourbon</td>\n",
       "      <td>Angostura bitters</td>\n",
       "      <td>Sugar</td>\n",
       "      <td>Water</td>\n",
       "      <td>NaN</td>\n",
       "      <td>NaN</td>\n",
       "      <td>NaN</td>\n",
       "      <td>NaN</td>\n",
       "      <td>NaN</td>\n",
       "      <td>NaN</td>\n",
       "      <td>NaN</td>\n",
       "      <td>4</td>\n",
       "    </tr>\n",
       "    <tr>\n",
       "      <th>3</th>\n",
       "      <td>11003</td>\n",
       "      <td>Negroni</td>\n",
       "      <td>Gin</td>\n",
       "      <td>Campari</td>\n",
       "      <td>Sweet Vermouth</td>\n",
       "      <td>NaN</td>\n",
       "      <td>NaN</td>\n",
       "      <td>NaN</td>\n",
       "      <td>NaN</td>\n",
       "      <td>NaN</td>\n",
       "      <td>NaN</td>\n",
       "      <td>NaN</td>\n",
       "      <td>NaN</td>\n",
       "      <td>3</td>\n",
       "    </tr>\n",
       "    <tr>\n",
       "      <th>4</th>\n",
       "      <td>11004</td>\n",
       "      <td>Whiskey Sour</td>\n",
       "      <td>Blended whiskey</td>\n",
       "      <td>Lemon</td>\n",
       "      <td>Powdered sugar</td>\n",
       "      <td>Cherry</td>\n",
       "      <td>Lemon</td>\n",
       "      <td>NaN</td>\n",
       "      <td>NaN</td>\n",
       "      <td>NaN</td>\n",
       "      <td>NaN</td>\n",
       "      <td>NaN</td>\n",
       "      <td>NaN</td>\n",
       "      <td>5</td>\n",
       "    </tr>\n",
       "  </tbody>\n",
       "</table>\n",
       "</div>"
      ],
      "text/plain": [
       "   idDrink         strDrink   strIngredient1     strIngredient2  \\\n",
       "0    11002  Long Island Tea            Vodka          Light rum   \n",
       "1    11000           Mojito        Light rum               Lime   \n",
       "2    11001    Old Fashioned          Bourbon  Angostura bitters   \n",
       "3    11003          Negroni              Gin            Campari   \n",
       "4    11004     Whiskey Sour  Blended whiskey              Lemon   \n",
       "\n",
       "   strIngredient3 strIngredient4 strIngredient5 strIngredient6 strIngredient7  \\\n",
       "0             Gin        Tequila          Lemon      Coca-Cola            NaN   \n",
       "1           Sugar           Mint     Soda water            NaN            NaN   \n",
       "2           Sugar          Water            NaN            NaN            NaN   \n",
       "3  Sweet Vermouth            NaN            NaN            NaN            NaN   \n",
       "4  Powdered sugar         Cherry          Lemon            NaN            NaN   \n",
       "\n",
       "  strIngredient8 strIngredient9 strIngredient10 strIngredient11  \\\n",
       "0            NaN            NaN             NaN             NaN   \n",
       "1            NaN            NaN             NaN             NaN   \n",
       "2            NaN            NaN             NaN             NaN   \n",
       "3            NaN            NaN             NaN             NaN   \n",
       "4            NaN            NaN             NaN             NaN   \n",
       "\n",
       "   num_ingredients  \n",
       "0                6  \n",
       "1                5  \n",
       "2                4  \n",
       "3                3  \n",
       "4                5  "
      ]
     },
     "execution_count": 21,
     "metadata": {},
     "output_type": "execute_result"
    }
   ],
   "source": [
    "#The variable num_ingredients is generated\n",
    "base0.shape\n",
    "base0['num_ingredients']=11-base0.isnull().sum(axis=1)\n",
    "base0.head(5)\n"
   ]
  },
  {
   "cell_type": "code",
   "execution_count": 22,
   "metadata": {},
   "outputs": [
    {
     "data": {
      "text/html": [
       "<div>\n",
       "<style scoped>\n",
       "    .dataframe tbody tr th:only-of-type {\n",
       "        vertical-align: middle;\n",
       "    }\n",
       "\n",
       "    .dataframe tbody tr th {\n",
       "        vertical-align: top;\n",
       "    }\n",
       "\n",
       "    .dataframe thead th {\n",
       "        text-align: right;\n",
       "    }\n",
       "</style>\n",
       "<table border=\"1\" class=\"dataframe\">\n",
       "  <thead>\n",
       "    <tr style=\"text-align: right;\">\n",
       "      <th></th>\n",
       "      <th>index</th>\n",
       "      <th>num_ingredients</th>\n",
       "      <th>number_ingr</th>\n",
       "    </tr>\n",
       "  </thead>\n",
       "  <tbody>\n",
       "    <tr>\n",
       "      <th>7</th>\n",
       "      <td>11</td>\n",
       "      <td>1</td>\n",
       "      <td>eleven</td>\n",
       "    </tr>\n",
       "    <tr>\n",
       "      <th>8</th>\n",
       "      <td>9</td>\n",
       "      <td>1</td>\n",
       "      <td>nine</td>\n",
       "    </tr>\n",
       "    <tr>\n",
       "      <th>6</th>\n",
       "      <td>8</td>\n",
       "      <td>2</td>\n",
       "      <td>eight</td>\n",
       "    </tr>\n",
       "    <tr>\n",
       "      <th>5</th>\n",
       "      <td>7</td>\n",
       "      <td>12</td>\n",
       "      <td>seven</td>\n",
       "    </tr>\n",
       "    <tr>\n",
       "      <th>4</th>\n",
       "      <td>6</td>\n",
       "      <td>46</td>\n",
       "      <td>six</td>\n",
       "    </tr>\n",
       "    <tr>\n",
       "      <th>3</th>\n",
       "      <td>2</td>\n",
       "      <td>64</td>\n",
       "      <td>two</td>\n",
       "    </tr>\n",
       "    <tr>\n",
       "      <th>2</th>\n",
       "      <td>5</td>\n",
       "      <td>79</td>\n",
       "      <td>five</td>\n",
       "    </tr>\n",
       "    <tr>\n",
       "      <th>1</th>\n",
       "      <td>4</td>\n",
       "      <td>89</td>\n",
       "      <td>four</td>\n",
       "    </tr>\n",
       "    <tr>\n",
       "      <th>0</th>\n",
       "      <td>3</td>\n",
       "      <td>131</td>\n",
       "      <td>three</td>\n",
       "    </tr>\n",
       "  </tbody>\n",
       "</table>\n",
       "</div>"
      ],
      "text/plain": [
       "   index  num_ingredients number_ingr\n",
       "7     11                1      eleven\n",
       "8      9                1        nine\n",
       "6      8                2       eight\n",
       "5      7               12       seven\n",
       "4      6               46         six\n",
       "3      2               64         two\n",
       "2      5               79        five\n",
       "1      4               89        four\n",
       "0      3              131       three"
      ]
     },
     "execution_count": 22,
     "metadata": {},
     "output_type": "execute_result"
    }
   ],
   "source": [
    "#Ingredients per cocktail dataframe\n",
    "ing_per_cocktail=pd.DataFrame(base0['num_ingredients'].value_counts(),columns=['num_ingredients']).reset_index().sort_values(by=['num_ingredients'])\n",
    "ing_per_cocktail['number_ingr']=['eleven','nine','eight','seven','six','two','five','four','three']\n",
    "ing_per_cocktail"
   ]
  },
  {
   "cell_type": "code",
   "execution_count": 23,
   "metadata": {},
   "outputs": [
    {
     "data": {
      "image/png": "[encoded data removed]",
      "text/plain": [
       "<Figure size 648x648 with 1 Axes>"
      ]
     },
     "metadata": {
      "needs_background": "light"
     },
     "output_type": "display_data"
    }
   ],
   "source": [
    "fig, ax = plt.subplots()\n",
    "fig.set_size_inches(9,9)\n",
    "ax.barh(y=ing_per_cocktail['number_ingr'], width=ing_per_cocktail['num_ingredients'],color='green');\n",
    "ax.set_title(\"Number of ingredients per cocktail\");\n",
    "plt.xlabel('cocktails');"
   ]
  }
 ],
 "metadata": {
  "interpreter": {
   "hash": "40d3a090f54c6569ab1632332b64b2c03c39dcf918b08424e98f38b5ae0af88f"
  },
  "kernelspec": {
   "display_name": "Python 3.9.7 64-bit ('base': conda)",
   "language": "python",
   "name": "python3"
  },
  "language_info": {
   "codemirror_mode": {
    "name": "ipython",
    "version": 3
   },
   "file_extension": ".py",
   "mimetype": "text/x-python",
   "name": "python",
   "nbconvert_exporter": "python",
   "pygments_lexer": "ipython3",
   "version": "3.9.7"
  }
 },
 "nbformat": 4,
 "nbformat_minor": 2
}
