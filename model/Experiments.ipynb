{
 "cells": [
  {
   "cell_type": "markdown",
   "id": "bce7012b-9d65-4c68-8c99-b4da039f28be",
   "metadata": {},
   "source": [
    "# Setup"
   ]
  },
  {
   "cell_type": "code",
   "execution_count": 1,
   "id": "e4b2bcc4-6cce-453d-9316-703def5cdc74",
   "metadata": {},
   "outputs": [],
   "source": [
    "# Import libraries \n",
    "import yaml\n",
    "import string\n",
    "import requests\n",
    "\n",
    "# Recall from the APIs for Data lab that including passwords in code is a terrible practice. \n",
    "# So we include a yaml file.\n",
    "config_file = open('GCP_model_details.yaml', 'r')\n",
    "config = yaml.safe_load(config_file)"
   ]
  },
  {
   "cell_type": "code",
   "execution_count": 2,
   "id": "d8dbfde0-547f-4ba1-9d5a-ff8fb6e10d56",
   "metadata": {},
   "outputs": [],
   "source": [
    "from google.cloud import aiplatform"
   ]
  },
  {
   "cell_type": "code",
   "execution_count": 3,
   "id": "cd87a57d-2f62-4735-a04b-6a5d851fa015",
   "metadata": {},
   "outputs": [],
   "source": [
    "def endpoint_predict_sample(\n",
    "    project: str, location: str, instances: list, endpoint: str\n",
    "):\n",
    "    aiplatform.init(project=project, location=location)\n",
    "\n",
    "    endpoint = aiplatform.Endpoint(endpoint)\n",
    "\n",
    "    prediction = endpoint.predict(instances=instances)\n",
    "    return prediction"
   ]
  },
  {
   "cell_type": "markdown",
   "id": "4dad5297-43bd-425d-a49c-ce875c7ea9cf",
   "metadata": {
    "tags": []
   },
   "source": [
    "# PCA for Predictions"
   ]
  },
  {
   "cell_type": "code",
   "execution_count": 4,
   "id": "93e62874-f6ee-4998-a77e-bc7f587acf49",
   "metadata": {},
   "outputs": [],
   "source": [
    "# Importing data manipulation libraries and PCA tools\n",
    "\n",
    "import pandas as pd\n",
    "import numpy as np\n",
    "import matplotlib.pyplot as plt\n",
    "import seaborn as sns\n",
    "\n",
    "from sklearn.feature_extraction import DictVectorizer\n",
    "from sklearn.decomposition import KernelPCA\n",
    "import itertools"
   ]
  },
  {
   "cell_type": "code",
   "execution_count": 5,
   "id": "122bfc76-b34f-4c96-b02f-6a6fadacfedd",
   "metadata": {},
   "outputs": [
    {
     "name": "stderr",
     "output_type": "stream",
     "text": [
      "Query complete after 0.00s: 100%|██████████| 1/1 [00:00<00:00, 358.15query/s] \n",
      "Downloading: 100%|██████████| 425/425 [00:00<00:00, 475.33rows/s]\n"
     ]
    }
   ],
   "source": [
    "%%bigquery base\n",
    "\n",
    "SELECT \n",
    "    idDrink,\n",
    "    strDrink,\n",
    "    strIngredient1,\n",
    "    strIngredient2,\n",
    "    strIngredient3,\n",
    "    strIngredient4,\n",
    "    strIngredient5,\n",
    "    strIngredient6,\n",
    "    strIngredient7,\n",
    "    strIngredient8,\n",
    "    strIngredient9,\n",
    "    strIngredient10,\n",
    "    strIngredient11,\n",
    "    strIngredient12,\n",
    "    strIngredient13,\n",
    "    strIngredient14,\n",
    "    strIngredient15\n",
    "FROM `bookish-journey-343419.cocktails_dataset.cocktails-table`"
   ]
  },
  {
   "cell_type": "code",
   "execution_count": 6,
   "id": "5b024bee-b8cd-477d-b054-ed05fd618282",
   "metadata": {},
   "outputs": [],
   "source": [
    "# Drop empty columns\n",
    "base = base.drop(['strIngredient12','strIngredient13','strIngredient14','strIngredient15'],axis=1)\n",
    "\n",
    "# Replace NaN with \"\"\n",
    "base = base.replace(np.nan,\"\")\n",
    "\n",
    "# Create a ner variable, ingredients, that has all the previous ingredients together. \n",
    "base['ingredients'] = base[['strIngredient1','strIngredient2','strIngredient3','strIngredient4','strIngredient5',\n",
    "        'strIngredient6','strIngredient7','strIngredient8','strIngredient9','strIngredient10','strIngredient11']].agg(','.join, axis=1)\n",
    "\n",
    "# Function to transform letters to lowercase.\n",
    "def lower(text):\n",
    "    text=text.lower()\n",
    "    return text\n",
    "\n",
    "# Pass all words throw the funtion and append them\n",
    "ingredients_low=[]\n",
    "for i in base.ingredients:\n",
    "    il=lower(i)\n",
    "    ingredients_low.append(il)\n",
    "\n",
    "# Lowercase\n",
    "base['ingredients']=ingredients_low\n",
    "\n",
    "# This function convert a list of ingredients into a dictionary, note: every ingredient gets a 1.\n",
    "# this mean that the value of every key is 1. key:value\n",
    "def convert_to_dict(lst):\n",
    "    d = {} #empty dict\n",
    "    for ingre in lst:\n",
    "        d[ingre] = 1\n",
    "    return d\n",
    "\n",
    "# We use the function to convert every row into a dictionary. \n",
    "# 'vodka': 1, 'lime juice': 1... this will help us later to create a one hot encoding.\n",
    "base['bagofwords'] = base.ingredients.str.split(',').apply(convert_to_dict)\n",
    "\n",
    "# One Hot Encoding\n",
    "# To find similarities between dishes and cluster cocktails using their ingredients, we will represent a recipe by a one-hot encoded vector \n",
    "# of its ingredients. We will be establishing a vocabulary of ingredients using a method ‘DictVectorizer’ provided in the sklearn library\n",
    "\n",
    "# DictVectorizer:This transformer turns lists of mappings (dict-like objects) of feature names to feature values into Numpy arrays or scipy.sparse matrices for use with scikit-learn estimators.\n",
    "# sparse, default=True. Whether transform should produce scipy.sparse matrices. In this case we set it as False.\n",
    "\n",
    "vector_dict = DictVectorizer(sparse = False)\n",
    "\n",
    "# fit_transform() is used on the training data so that we can scale the training data and also learn the scaling parameters of that data. \n",
    "#The fit method is calculating the mean and variance of each of the features present in our data. \n",
    "#The transform method is transforming all the features using the respective mean and variance.\n",
    "# We past every dictionary into a list.\n",
    "X = vector_dict.fit_transform(base[\"bagofwords\"].tolist())\n",
    "\n",
    "# We select the column strDrink(name of the drink) from de dataset\n",
    "y = base.strDrink\n",
    "\n",
    "# Using Kernel PCA\n",
    "# kernel = \"cosine\": This is called cosine similarity, because Euclidean (L2) normalization projects the vectors onto the unit sphere, and their dot product is then the cosine of the angle between the points denoted by the vectors.\n",
    "\n",
    "kpca = KernelPCA(n_components=2,kernel=\"cosine\", n_jobs=2)\n",
    "\n",
    "# Using the transform method we can use the same mean and variance as it is calculated from our training data to transform our test data. \n",
    "#Thus, the parameters learned by our model using the training data will help us to transform our test data.\n",
    "x_pca = kpca.fit_transform(X)"
   ]
  },
  {
   "cell_type": "markdown",
   "id": "d3182d86-3165-4e91-b883-08d5141eda8b",
   "metadata": {},
   "source": [
    "# Testing Mean Shift Clustering"
   ]
  },
  {
   "cell_type": "code",
   "execution_count": 7,
   "id": "e437fe02-dca9-4994-b9a2-c91b5f237604",
   "metadata": {},
   "outputs": [],
   "source": [
    "preds = endpoint_predict_sample(project = config['project_id'], location = config['region'], instances = x_pca.tolist(), endpoint = str(config['meanshift_endpoint_id']))\n",
    "label = np.array(preds[0])"
   ]
  },
  {
   "cell_type": "code",
   "execution_count": 8,
   "id": "304fe972-f62b-4206-824b-060771a63037",
   "metadata": {},
   "outputs": [
    {
     "data": {
      "image/png": "[encoded data removed]",
      "text/plain": [
       "<Figure size 432x288 with 1 Axes>"
      ]
     },
     "metadata": {
      "needs_background": "light"
     },
     "output_type": "display_data"
    }
   ],
   "source": [
    "# Getting unique labels\n",
    "u_labels = np.unique(label)\n",
    " \n",
    "# Plotting the results:\n",
    "for i in u_labels:\n",
    "    plt.scatter(x_pca[label == i , 0] , x_pca[label == i , 1] , label = i)\n",
    "plt.legend()\n",
    "plt.show()"
   ]
  },
  {
   "cell_type": "code",
   "execution_count": 9,
   "id": "cd97811f-fb24-4680-bfc7-2b715d5d8b04",
   "metadata": {},
   "outputs": [],
   "source": [
    "# Recommendations\n",
    "def cluster_recomm(index,n_return=5):\n",
    "    cluster = endpoint_predict_sample(project = config['project_id'], \\\n",
    "                                      location = config['region'], \\\n",
    "                                      instances = [x_pca[index].tolist()], \\\n",
    "                                      endpoint = str(config['meanshift_endpoint_id']))\n",
    "    cluster_map = pd.DataFrame()\n",
    "    cluster_map['cluster'] = np.array(endpoint_predict_sample(project = config['project_id'], \\\n",
    "                                                     location = config['region'], \\\n",
    "                                                     instances = x_pca.tolist(), \\\n",
    "                                                     endpoint = str(config['meanshift_endpoint_id']))[0])\n",
    "    in_cluster = cluster_map[cluster_map.cluster == cluster[0][0]].sample(n=n_return, random_state = 42)\n",
    "    return y[in_cluster.index]"
   ]
  },
  {
   "cell_type": "code",
   "execution_count": 10,
   "id": "38fb1a91-8ab9-4363-bf2d-a378e4810dd7",
   "metadata": {},
   "outputs": [
    {
     "name": "stdout",
     "output_type": "stream",
     "text": [
      "Thai Iced Coffee\n"
     ]
    },
    {
     "data": {
      "text/plain": [
       "47         Bumble Bee\n",
       "170      Whiskey Sour\n",
       "118    Nutty Irishman\n",
       "314              Adam\n",
       "315              H.D.\n",
       "Name: strDrink, dtype: object"
      ]
     },
     "execution_count": 10,
     "metadata": {},
     "output_type": "execute_result"
    }
   ],
   "source": [
    "# First Experiment\n",
    "print(y[10])\n",
    "cluster_recomm(10)"
   ]
  },
  {
   "cell_type": "code",
   "execution_count": 11,
   "id": "ce015187-84f8-4a46-8103-03f8563fb1fb",
   "metadata": {},
   "outputs": [
    {
     "name": "stdout",
     "output_type": "stream",
     "text": [
      "Port Wine Flip\n"
     ]
    },
    {
     "data": {
      "text/plain": [
       "47         Bumble Bee\n",
       "170      Whiskey Sour\n",
       "118    Nutty Irishman\n",
       "314              Adam\n",
       "315              H.D.\n",
       "Name: strDrink, dtype: object"
      ]
     },
     "execution_count": 11,
     "metadata": {},
     "output_type": "execute_result"
    }
   ],
   "source": [
    "# Second Experiment\n",
    "print(y[100])\n",
    "cluster_recomm(100)"
   ]
  },
  {
   "cell_type": "code",
   "execution_count": 12,
   "id": "ec2005a4-19ff-4245-9218-ba18e6c7abb0",
   "metadata": {},
   "outputs": [
    {
     "name": "stdout",
     "output_type": "stream",
     "text": [
      "Fruit Shake\n"
     ]
    },
    {
     "data": {
      "text/plain": [
       "47         Bumble Bee\n",
       "170      Whiskey Sour\n",
       "118    Nutty Irishman\n",
       "314              Adam\n",
       "315              H.D.\n",
       "Name: strDrink, dtype: object"
      ]
     },
     "execution_count": 12,
     "metadata": {},
     "output_type": "execute_result"
    }
   ],
   "source": [
    "# Third Experiment\n",
    "print(y[15])\n",
    "cluster_recomm(15)"
   ]
  },
  {
   "cell_type": "markdown",
   "id": "25b252df-ee07-4849-8aed-bccb8d5e6df6",
   "metadata": {},
   "source": [
    "# Testing K-Means Clustering"
   ]
  },
  {
   "cell_type": "code",
   "execution_count": 16,
   "id": "3eed60cc-04e0-417e-a826-d4c58944950e",
   "metadata": {},
   "outputs": [],
   "source": [
    "# Using Kernel PCA\n",
    "# kernel = \"cosine\": This is called cosine similarity, because Euclidean (L2) normalization projects the vectors onto the unit sphere, and their dot product is then the cosine of the angle between the points denoted by the vectors.\n",
    "\n",
    "kpca = KernelPCA(n_components=6,kernel=\"cosine\", n_jobs=2)\n",
    "\n",
    "# Using the transform method we can use the same mean and variance as it is calculated from our training data to transform our test data. \n",
    "#Thus, the parameters learned by our model using the training data will help us to transform our test data.\n",
    "x_pca = kpca.fit_transform(X)"
   ]
  },
  {
   "cell_type": "code",
   "execution_count": 17,
   "id": "d9b20b64-f0bb-4622-a5c9-c04eddfa5dfc",
   "metadata": {},
   "outputs": [],
   "source": [
    "preds = endpoint_predict_sample(project = config['project_id'], location = config['region'], instances = x_pca.tolist(), endpoint = str(config['kmeans_endpoint_id']))\n",
    "label = np.array(preds[0])"
   ]
  },
  {
   "cell_type": "code",
   "execution_count": 18,
   "id": "7576e35c-04ee-4d6e-a7ed-b055881635de",
   "metadata": {},
   "outputs": [
    {
     "data": {
      "image/png": "[encoded data removed]",
      "text/plain": [
       "<Figure size 432x288 with 1 Axes>"
      ]
     },
     "metadata": {
      "needs_background": "light"
     },
     "output_type": "display_data"
    }
   ],
   "source": [
    "# Getting unique labels\n",
    "u_labels = np.unique(label)\n",
    " \n",
    "# Plotting the results:\n",
    "for i in u_labels:\n",
    "    plt.scatter(x_pca[label == i , 0] , x_pca[label == i , 1] , label = i)\n",
    "plt.legend()\n",
    "plt.show()"
   ]
  },
  {
   "cell_type": "code",
   "execution_count": 19,
   "id": "b04772b8-94b2-4ddc-8421-9f706349b9a0",
   "metadata": {},
   "outputs": [],
   "source": [
    "# Recommendations\n",
    "def cluster_recomm(index,n_return=5):\n",
    "    cluster = endpoint_predict_sample(project = config['project_id'], \\\n",
    "                                      location = config['region'], \\\n",
    "                                      instances = [x_pca[index].tolist()], \\\n",
    "                                      endpoint = str(config['kmeans_endpoint_id']))\n",
    "    cluster_map = pd.DataFrame()\n",
    "    cluster_map['cluster'] = np.array(endpoint_predict_sample(project = config['project_id'], \\\n",
    "                                                     location = config['region'], \\\n",
    "                                                     instances = x_pca.tolist(), \\\n",
    "                                                     endpoint = str(config['kmeans_endpoint_id']))[0])\n",
    "    in_cluster = cluster_map[cluster_map.cluster == cluster[0][0]].sample(n=n_return, random_state = 42)\n",
    "    return y[in_cluster.index]"
   ]
  },
  {
   "cell_type": "code",
   "execution_count": 20,
   "id": "7c5ce0ac-f588-4270-babe-f90bce81d18f",
   "metadata": {},
   "outputs": [
    {
     "name": "stdout",
     "output_type": "stream",
     "text": [
      "Thai Iced Coffee\n"
     ]
    },
    {
     "data": {
      "text/plain": [
       "324    New York Sour\n",
       "175    Sweet Sangria\n",
       "188        Tia-Maria\n",
       "295         Spice 75\n",
       "262       Egg Nog #4\n",
       "Name: strDrink, dtype: object"
      ]
     },
     "execution_count": 20,
     "metadata": {},
     "output_type": "execute_result"
    }
   ],
   "source": [
    "# First Experiment\n",
    "print(y[10])\n",
    "cluster_recomm(10)"
   ]
  },
  {
   "cell_type": "code",
   "execution_count": 21,
   "id": "c0c5b17c-39db-4c40-97d5-d1aadd7c202f",
   "metadata": {},
   "outputs": [
    {
     "name": "stdout",
     "output_type": "stream",
     "text": [
      "Port Wine Flip\n"
     ]
    },
    {
     "data": {
      "text/plain": [
       "143        Gin Sling\n",
       "129           Zoksel\n",
       "44     Japanese Fizz\n",
       "272        Rum Toddy\n",
       "407    Funk and Soul\n",
       "Name: strDrink, dtype: object"
      ]
     },
     "execution_count": 21,
     "metadata": {},
     "output_type": "execute_result"
    }
   ],
   "source": [
    "# Second Experiment\n",
    "print(y[100])\n",
    "cluster_recomm(100)"
   ]
  },
  {
   "cell_type": "code",
   "execution_count": 22,
   "id": "0a560632-99aa-4e4e-9354-08613e0be9c0",
   "metadata": {},
   "outputs": [
    {
     "name": "stdout",
     "output_type": "stream",
     "text": [
      "Fruit Shake\n"
     ]
    },
    {
     "data": {
      "text/plain": [
       "338           Stone Sour\n",
       "217    Valencia Cocktail\n",
       "303               Mimosa\n",
       "251               Apello\n",
       "140       Darkwood Sling\n",
       "Name: strDrink, dtype: object"
      ]
     },
     "execution_count": 22,
     "metadata": {},
     "output_type": "execute_result"
    }
   ],
   "source": [
    "# Third Experiment\n",
    "print(y[15])\n",
    "cluster_recomm(15)"
   ]
  },
  {
   "cell_type": "code",
   "execution_count": null,
   "id": "72fc2d55-f81b-4582-ad2e-508dbf5ddc08",
   "metadata": {},
   "outputs": [],
   "source": []
  },
  {
   "cell_type": "code",
   "execution_count": null,
   "id": "dc1ae3f6-30c6-4f8f-a4e2-2a655c458d65",
   "metadata": {},
   "outputs": [],
   "source": []
  }
 ],
 "metadata": {
  "environment": {
   "kernel": "python3",
   "name": "common-cpu.m90",
   "type": "gcloud",
   "uri": "gcr.io/deeplearning-platform-release/base-cpu:m90"
  },
  "kernelspec": {
   "display_name": "Python 3",
   "language": "python",
   "name": "python3"
  },
  "language_info": {
   "codemirror_mode": {
    "name": "ipython",
    "version": 3
   },
   "file_extension": ".py",
   "mimetype": "text/x-python",
   "name": "python",
   "nbconvert_exporter": "python",
   "pygments_lexer": "ipython3",
   "version": "3.7.12"
  }
 },
 "nbformat": 4,
 "nbformat_minor": 5
}
