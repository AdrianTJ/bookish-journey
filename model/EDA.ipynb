{
 "cells": [
  {
   "cell_type": "markdown",
   "metadata": {},
   "source": [
    "# Exploratory Data Analysis"
   ]
  },
  {
   "cell_type": "markdown",
   "metadata": {},
   "source": [
    "Before the modeling task, we analize our data to summarize their main characteristics. This exploration will help us determine the best way to manipulate the data to get the answers we need. "
   ]
  },
  {
   "cell_type": "markdown",
   "metadata": {},
   "source": [
    "### Importing and loading libraries"
   ]
  },
  {
   "cell_type": "markdown",
   "metadata": {},
   "source": [
    "For our analysis, we need to import the below libraries."
   ]
  },
  {
   "cell_type": "code",
   "execution_count": 1,
   "metadata": {},
   "outputs": [],
   "source": [
    "import pandas as pd\n",
    "import numpy as np\n",
    "import matplotlib.pyplot as plt"
   ]
  },
  {
   "cell_type": "markdown",
   "metadata": {},
   "source": [
    "### Loading data"
   ]
  },
  {
   "cell_type": "markdown",
   "metadata": {},
   "source": [
    "The input data is pulled from **TheCocktailDB API** [https://www.thecocktaildb.com/api.php] through API calls and is obtained in JSON format. Once the data is loaded, we transform and clean it to make it into a more usable format."
   ]
  },
  {
   "cell_type": "code",
   "execution_count": 2,
   "metadata": {},
   "outputs": [
    {
     "name": "stderr",
     "output_type": "stream",
     "text": [
      "Query complete after 0.01s: 100%|██████████| 1/1 [00:00<00:00, 333.68query/s]\n",
      "Downloading: 100%|██████████| 425/425 [00:00<00:00, 435.93rows/s]\n"
     ]
    }
   ],
   "source": [
    "%%bigquery base\n",
    "\n",
    "SELECT \n",
    "    idDrink,\n",
    "    strDrink,\n",
    "    strIngredient1,\n",
    "    strIngredient2,\n",
    "    strIngredient3,\n",
    "    strIngredient4,\n",
    "    strIngredient5,\n",
    "    strIngredient6,\n",
    "    strIngredient7,\n",
    "    strIngredient8,\n",
    "    strIngredient9,\n",
    "    strIngredient10,\n",
    "    strIngredient11,\n",
    "    strIngredient12,\n",
    "    strIngredient13,\n",
    "    strIngredient14,\n",
    "    strIngredient15\n",
    "FROM `bookish-journey-343419.cocktails_dataset.cocktails-table`"
   ]
  },
  {
   "cell_type": "code",
   "execution_count": 3,
   "metadata": {},
   "outputs": [
    {
     "name": "stdout",
     "output_type": "stream",
     "text": [
      "(425, 17)\n"
     ]
    },
    {
     "data": {
      "text/html": [
       "<div>\n",
       "<style scoped>\n",
       "    .dataframe tbody tr th:only-of-type {\n",
       "        vertical-align: middle;\n",
       "    }\n",
       "\n",
       "    .dataframe tbody tr th {\n",
       "        vertical-align: top;\n",
       "    }\n",
       "\n",
       "    .dataframe thead th {\n",
       "        text-align: right;\n",
       "    }\n",
       "</style>\n",
       "<table border=\"1\" class=\"dataframe\">\n",
       "  <thead>\n",
       "    <tr style=\"text-align: right;\">\n",
       "      <th></th>\n",
       "      <th>idDrink</th>\n",
       "      <th>strDrink</th>\n",
       "      <th>strIngredient1</th>\n",
       "      <th>strIngredient2</th>\n",
       "      <th>strIngredient3</th>\n",
       "      <th>strIngredient4</th>\n",
       "      <th>strIngredient5</th>\n",
       "      <th>strIngredient6</th>\n",
       "      <th>strIngredient7</th>\n",
       "      <th>strIngredient8</th>\n",
       "      <th>strIngredient9</th>\n",
       "      <th>strIngredient10</th>\n",
       "      <th>strIngredient11</th>\n",
       "      <th>strIngredient12</th>\n",
       "      <th>strIngredient13</th>\n",
       "      <th>strIngredient14</th>\n",
       "      <th>strIngredient15</th>\n",
       "    </tr>\n",
       "  </thead>\n",
       "  <tbody>\n",
       "    <tr>\n",
       "      <th>0</th>\n",
       "      <td>11407</td>\n",
       "      <td>Gin Cooler</td>\n",
       "      <td>Gin</td>\n",
       "      <td>Carbonated water</td>\n",
       "      <td>Powdered sugar</td>\n",
       "      <td>Orange spiral</td>\n",
       "      <td>Lemon peel</td>\n",
       "      <td>None</td>\n",
       "      <td>None</td>\n",
       "      <td>None</td>\n",
       "      <td>None</td>\n",
       "      <td>None</td>\n",
       "      <td>None</td>\n",
       "      <td>None</td>\n",
       "      <td>None</td>\n",
       "      <td>None</td>\n",
       "      <td>None</td>\n",
       "    </tr>\n",
       "    <tr>\n",
       "      <th>1</th>\n",
       "      <td>12916</td>\n",
       "      <td>Egg Nog - Healthy</td>\n",
       "      <td>Egg</td>\n",
       "      <td>Sugar</td>\n",
       "      <td>Condensed milk</td>\n",
       "      <td>Milk</td>\n",
       "      <td>Vanilla extract</td>\n",
       "      <td>Rum</td>\n",
       "      <td>Nutmeg</td>\n",
       "      <td>None</td>\n",
       "      <td>None</td>\n",
       "      <td>None</td>\n",
       "      <td>None</td>\n",
       "      <td>None</td>\n",
       "      <td>None</td>\n",
       "      <td>None</td>\n",
       "      <td>None</td>\n",
       "    </tr>\n",
       "    <tr>\n",
       "      <th>2</th>\n",
       "      <td>14195</td>\n",
       "      <td>Snowball</td>\n",
       "      <td>Advocaat</td>\n",
       "      <td>Lemonade</td>\n",
       "      <td>Lemon</td>\n",
       "      <td>Ice</td>\n",
       "      <td>None</td>\n",
       "      <td>None</td>\n",
       "      <td>None</td>\n",
       "      <td>None</td>\n",
       "      <td>None</td>\n",
       "      <td>None</td>\n",
       "      <td>None</td>\n",
       "      <td>None</td>\n",
       "      <td>None</td>\n",
       "      <td>None</td>\n",
       "      <td>None</td>\n",
       "    </tr>\n",
       "    <tr>\n",
       "      <th>3</th>\n",
       "      <td>12776</td>\n",
       "      <td>Melya</td>\n",
       "      <td>Espresso</td>\n",
       "      <td>Honey</td>\n",
       "      <td>Cocoa powder</td>\n",
       "      <td>None</td>\n",
       "      <td>None</td>\n",
       "      <td>None</td>\n",
       "      <td>None</td>\n",
       "      <td>None</td>\n",
       "      <td>None</td>\n",
       "      <td>None</td>\n",
       "      <td>None</td>\n",
       "      <td>None</td>\n",
       "      <td>None</td>\n",
       "      <td>None</td>\n",
       "      <td>None</td>\n",
       "    </tr>\n",
       "    <tr>\n",
       "      <th>4</th>\n",
       "      <td>11202</td>\n",
       "      <td>Caipirinha</td>\n",
       "      <td>Sugar</td>\n",
       "      <td>Lime</td>\n",
       "      <td>Cachaca</td>\n",
       "      <td>None</td>\n",
       "      <td>None</td>\n",
       "      <td>None</td>\n",
       "      <td>None</td>\n",
       "      <td>None</td>\n",
       "      <td>None</td>\n",
       "      <td>None</td>\n",
       "      <td>None</td>\n",
       "      <td>None</td>\n",
       "      <td>None</td>\n",
       "      <td>None</td>\n",
       "      <td>None</td>\n",
       "    </tr>\n",
       "    <tr>\n",
       "      <th>5</th>\n",
       "      <td>11055</td>\n",
       "      <td>Artillery</td>\n",
       "      <td>Sweet Vermouth</td>\n",
       "      <td>Gin</td>\n",
       "      <td>Bitters</td>\n",
       "      <td>None</td>\n",
       "      <td>None</td>\n",
       "      <td>None</td>\n",
       "      <td>None</td>\n",
       "      <td>None</td>\n",
       "      <td>None</td>\n",
       "      <td>None</td>\n",
       "      <td>None</td>\n",
       "      <td>None</td>\n",
       "      <td>None</td>\n",
       "      <td>None</td>\n",
       "      <td>None</td>\n",
       "    </tr>\n",
       "    <tr>\n",
       "      <th>6</th>\n",
       "      <td>11936</td>\n",
       "      <td>Pink Gin</td>\n",
       "      <td>Bitters</td>\n",
       "      <td>Gin</td>\n",
       "      <td>None</td>\n",
       "      <td>None</td>\n",
       "      <td>None</td>\n",
       "      <td>None</td>\n",
       "      <td>None</td>\n",
       "      <td>None</td>\n",
       "      <td>None</td>\n",
       "      <td>None</td>\n",
       "      <td>None</td>\n",
       "      <td>None</td>\n",
       "      <td>None</td>\n",
       "      <td>None</td>\n",
       "      <td>None</td>\n",
       "    </tr>\n",
       "    <tr>\n",
       "      <th>7</th>\n",
       "      <td>11014</td>\n",
       "      <td>Alexander</td>\n",
       "      <td>Gin</td>\n",
       "      <td>Creme de Cacao</td>\n",
       "      <td>Light cream</td>\n",
       "      <td>Nutmeg</td>\n",
       "      <td>None</td>\n",
       "      <td>None</td>\n",
       "      <td>None</td>\n",
       "      <td>None</td>\n",
       "      <td>None</td>\n",
       "      <td>None</td>\n",
       "      <td>None</td>\n",
       "      <td>None</td>\n",
       "      <td>None</td>\n",
       "      <td>None</td>\n",
       "      <td>None</td>\n",
       "    </tr>\n",
       "    <tr>\n",
       "      <th>8</th>\n",
       "      <td>14167</td>\n",
       "      <td>Vodka Martini</td>\n",
       "      <td>Vodka</td>\n",
       "      <td>Dry Vermouth</td>\n",
       "      <td>Olive</td>\n",
       "      <td>None</td>\n",
       "      <td>None</td>\n",
       "      <td>None</td>\n",
       "      <td>None</td>\n",
       "      <td>None</td>\n",
       "      <td>None</td>\n",
       "      <td>None</td>\n",
       "      <td>None</td>\n",
       "      <td>None</td>\n",
       "      <td>None</td>\n",
       "      <td>None</td>\n",
       "      <td>None</td>\n",
       "    </tr>\n",
       "    <tr>\n",
       "      <th>9</th>\n",
       "      <td>17176</td>\n",
       "      <td>Ipamena</td>\n",
       "      <td>Lime</td>\n",
       "      <td>Brown sugar</td>\n",
       "      <td>Passion fruit juice</td>\n",
       "      <td>Ginger ale</td>\n",
       "      <td>Ice</td>\n",
       "      <td>None</td>\n",
       "      <td>None</td>\n",
       "      <td>None</td>\n",
       "      <td>None</td>\n",
       "      <td>None</td>\n",
       "      <td>None</td>\n",
       "      <td>None</td>\n",
       "      <td>None</td>\n",
       "      <td>None</td>\n",
       "      <td>None</td>\n",
       "    </tr>\n",
       "  </tbody>\n",
       "</table>\n",
       "</div>"
      ],
      "text/plain": [
       "   idDrink           strDrink  strIngredient1    strIngredient2  \\\n",
       "0    11407         Gin Cooler             Gin  Carbonated water   \n",
       "1    12916  Egg Nog - Healthy             Egg             Sugar   \n",
       "2    14195           Snowball        Advocaat          Lemonade   \n",
       "3    12776              Melya        Espresso             Honey   \n",
       "4    11202         Caipirinha           Sugar              Lime   \n",
       "5    11055          Artillery  Sweet Vermouth               Gin   \n",
       "6    11936           Pink Gin         Bitters               Gin   \n",
       "7    11014          Alexander             Gin    Creme de Cacao   \n",
       "8    14167      Vodka Martini           Vodka      Dry Vermouth   \n",
       "9    17176            Ipamena            Lime       Brown sugar   \n",
       "\n",
       "        strIngredient3 strIngredient4   strIngredient5 strIngredient6  \\\n",
       "0       Powdered sugar  Orange spiral       Lemon peel           None   \n",
       "1       Condensed milk           Milk  Vanilla extract            Rum   \n",
       "2                Lemon            Ice             None           None   \n",
       "3         Cocoa powder           None             None           None   \n",
       "4              Cachaca           None             None           None   \n",
       "5              Bitters           None             None           None   \n",
       "6                 None           None             None           None   \n",
       "7          Light cream         Nutmeg             None           None   \n",
       "8                Olive           None             None           None   \n",
       "9  Passion fruit juice     Ginger ale              Ice           None   \n",
       "\n",
       "  strIngredient7 strIngredient8 strIngredient9 strIngredient10  \\\n",
       "0           None           None           None            None   \n",
       "1         Nutmeg           None           None            None   \n",
       "2           None           None           None            None   \n",
       "3           None           None           None            None   \n",
       "4           None           None           None            None   \n",
       "5           None           None           None            None   \n",
       "6           None           None           None            None   \n",
       "7           None           None           None            None   \n",
       "8           None           None           None            None   \n",
       "9           None           None           None            None   \n",
       "\n",
       "  strIngredient11 strIngredient12 strIngredient13 strIngredient14  \\\n",
       "0            None            None            None            None   \n",
       "1            None            None            None            None   \n",
       "2            None            None            None            None   \n",
       "3            None            None            None            None   \n",
       "4            None            None            None            None   \n",
       "5            None            None            None            None   \n",
       "6            None            None            None            None   \n",
       "7            None            None            None            None   \n",
       "8            None            None            None            None   \n",
       "9            None            None            None            None   \n",
       "\n",
       "  strIngredient15  \n",
       "0            None  \n",
       "1            None  \n",
       "2            None  \n",
       "3            None  \n",
       "4            None  \n",
       "5            None  \n",
       "6            None  \n",
       "7            None  \n",
       "8            None  \n",
       "9            None  "
      ]
     },
     "execution_count": 3,
     "metadata": {},
     "output_type": "execute_result"
    }
   ],
   "source": [
    "print(base.shape)\n",
    "base.head(10)"
   ]
  },
  {
   "cell_type": "markdown",
   "metadata": {},
   "source": [
    "Our set is made up of 17 variables and 424 observations or cocktail recipes. The first 2 variables refer to the cocktail \n",
    "\n",
    "* idDrink\n",
    "* strDrink (cocktail name)\n",
    "    \n",
    "and the rest are the ingredients that are used to prepare the drink (strIngredient1 - strIngredient15)."
   ]
  },
  {
   "cell_type": "code",
   "execution_count": 4,
   "metadata": {},
   "outputs": [
    {
     "name": "stdout",
     "output_type": "stream",
     "text": [
      "<class 'pandas.core.frame.DataFrame'>\n",
      "RangeIndex: 425 entries, 0 to 424\n",
      "Data columns (total 17 columns):\n",
      " #   Column           Non-Null Count  Dtype \n",
      "---  ------           --------------  ----- \n",
      " 0   idDrink          425 non-null    int64 \n",
      " 1   strDrink         425 non-null    object\n",
      " 2   strIngredient1   425 non-null    object\n",
      " 3   strIngredient2   425 non-null    object\n",
      " 4   strIngredient3   361 non-null    object\n",
      " 5   strIngredient4   237 non-null    object\n",
      " 6   strIngredient5   154 non-null    object\n",
      " 7   strIngredient6   83 non-null     object\n",
      " 8   strIngredient7   45 non-null     object\n",
      " 9   strIngredient8   4 non-null      object\n",
      " 10  strIngredient9   2 non-null      object\n",
      " 11  strIngredient10  1 non-null      object\n",
      " 12  strIngredient11  1 non-null      object\n",
      " 13  strIngredient12  0 non-null      object\n",
      " 14  strIngredient13  0 non-null      object\n",
      " 15  strIngredient14  0 non-null      object\n",
      " 16  strIngredient15  0 non-null      object\n",
      "dtypes: int64(1), object(16)\n",
      "memory usage: 56.6+ KB\n"
     ]
    }
   ],
   "source": [
    "#Print information about the dataset\n",
    "base.info()"
   ]
  },
  {
   "cell_type": "markdown",
   "metadata": {},
   "source": [
    "### Cleaning and transforming data"
   ]
  },
  {
   "cell_type": "markdown",
   "metadata": {},
   "source": [
    "We observe that the last four columns of the dataset do not contain information on the ingredients, so we remove them from the database."
   ]
  },
  {
   "cell_type": "code",
   "execution_count": 5,
   "metadata": {},
   "outputs": [],
   "source": [
    "#Drop variables without registers\n",
    "base=base.drop(['strIngredient12','strIngredient13','strIngredient14','strIngredient15'],axis=1)"
   ]
  },
  {
   "cell_type": "code",
   "execution_count": 6,
   "metadata": {},
   "outputs": [
    {
     "name": "stdout",
     "output_type": "stream",
     "text": [
      "(425, 13)\n"
     ]
    }
   ],
   "source": [
    "#Eliminate duplicate recipes\n",
    "base=base.drop_duplicates()\n",
    "print(base.shape)"
   ]
  },
  {
   "cell_type": "code",
   "execution_count": 7,
   "metadata": {},
   "outputs": [],
   "source": [
    "#We made a copy of the database\n",
    "base0=base.copy()"
   ]
  },
  {
   "cell_type": "markdown",
   "metadata": {},
   "source": [
    "A variable called *ingredients* was generated which is a string that contains the ingredients of each cocktail. To do this, we replace the NaN values with some character (*) and then we concatenate the variables that register some ingredient. "
   ]
  },
  {
   "cell_type": "code",
   "execution_count": 8,
   "metadata": {},
   "outputs": [],
   "source": [
    "#Replace NaN values with character *\n",
    "base=base.replace(np.nan,\"*\")"
   ]
  },
  {
   "cell_type": "code",
   "execution_count": 9,
   "metadata": {},
   "outputs": [
    {
     "data": {
      "text/plain": [
       "0      Gin,Carbonated water,Powdered sugar,Orange spi...\n",
       "1      Egg,Sugar,Condensed milk,Milk,Vanilla extract,...\n",
       "2              Advocaat,Lemonade,Lemon,Ice,*,*,*,*,*,*,*\n",
       "3            Espresso,Honey,Cocoa powder,*,*,*,*,*,*,*,*\n",
       "4                     Sugar,Lime,Cachaca,*,*,*,*,*,*,*,*\n",
       "                             ...                        \n",
       "420         Dry Vermouth,Gin,Benedictine,*,*,*,*,*,*,*,*\n",
       "421    Egg yolk,Sugar,Milk,Light rum,Bourbon,Vanilla ...\n",
       "422                    Coffee,Milk,Sugar,*,*,*,*,*,*,*,*\n",
       "423    Gin,Grenadine,Heavy cream,Milk,Egg White,*,*,*...\n",
       "424    Rum,Gold rum,151 proof rum,Pernod,Grenadine,Li...\n",
       "Name: ingredients, Length: 425, dtype: object"
      ]
     },
     "execution_count": 9,
     "metadata": {},
     "output_type": "execute_result"
    }
   ],
   "source": [
    "#String with all ingredients of each drink\n",
    "base['ingredients']=base[['strIngredient1','strIngredient2','strIngredient3','strIngredient4','strIngredient5',\n",
    "        'strIngredient6','strIngredient7','strIngredient8','strIngredient9','strIngredient10','strIngredient11']].agg(','.join, axis=1)\n",
    "base.ingredients"
   ]
  },
  {
   "cell_type": "code",
   "execution_count": 10,
   "metadata": {},
   "outputs": [],
   "source": [
    "#Function to convert text to lowercase and replace blanks with underscore\n",
    "def lower(text):\n",
    "    text=text.lower().replace(\" \",\"_\")\n",
    "    return text"
   ]
  },
  {
   "cell_type": "code",
   "execution_count": 11,
   "metadata": {},
   "outputs": [],
   "source": [
    "#List with lowercase text and spaces with underscore\n",
    "ingredients_low=[]\n",
    "for i in base.ingredients:\n",
    "    il=lower(i)\n",
    "    ingredients_low.append(il)"
   ]
  },
  {
   "cell_type": "code",
   "execution_count": 12,
   "metadata": {},
   "outputs": [
    {
     "data": {
      "text/plain": [
       "0      gin,carbonated_water,powdered_sugar,orange_spi...\n",
       "1      egg,sugar,condensed_milk,milk,vanilla_extract,...\n",
       "2              advocaat,lemonade,lemon,ice,*,*,*,*,*,*,*\n",
       "3            espresso,honey,cocoa_powder,*,*,*,*,*,*,*,*\n",
       "4                     sugar,lime,cachaca,*,*,*,*,*,*,*,*\n",
       "                             ...                        \n",
       "420         dry_vermouth,gin,benedictine,*,*,*,*,*,*,*,*\n",
       "421    egg_yolk,sugar,milk,light_rum,bourbon,vanilla_...\n",
       "422                    coffee,milk,sugar,*,*,*,*,*,*,*,*\n",
       "423    gin,grenadine,heavy_cream,milk,egg_white,*,*,*...\n",
       "424    rum,gold_rum,151_proof_rum,pernod,grenadine,li...\n",
       "Name: ingredients, Length: 425, dtype: object"
      ]
     },
     "execution_count": 12,
     "metadata": {},
     "output_type": "execute_result"
    }
   ],
   "source": [
    "#A new variable called by ingredients\n",
    "base['ingredients']=ingredients_low\n",
    "base.ingredients"
   ]
  },
  {
   "cell_type": "code",
   "execution_count": 13,
   "metadata": {},
   "outputs": [],
   "source": [
    "#Function to tokenize text \n",
    "def words(df):\n",
    "    words=[]\n",
    "    for i in range(425):\n",
    "        p=base.ingredients[i].split(\",\")\n",
    "        words=p+words\n",
    "    return words"
   ]
  },
  {
   "cell_type": "code",
   "execution_count": 14,
   "metadata": {},
   "outputs": [],
   "source": [
    "#List of ingredients\n",
    "Ingredients=words(base)\n"
   ]
  },
  {
   "cell_type": "markdown",
   "metadata": {},
   "source": [
    "#### Total number of ingredients"
   ]
  },
  {
   "cell_type": "markdown",
   "metadata": {},
   "source": [
    "In our dataset there are only 295 ingredientes. "
   ]
  },
  {
   "cell_type": "code",
   "execution_count": 15,
   "metadata": {},
   "outputs": [
    {
     "name": "stdout",
     "output_type": "stream",
     "text": [
      "The total number of ingredients:  295\n"
     ]
    }
   ],
   "source": [
    "ingredients_uniques=[]\n",
    "for item in Ingredients:\n",
    "    if item not in ingredients_uniques:\n",
    "        ingredients_uniques.append(item)\n",
    "\n",
    "print(\"The total number of ingredients: \", len(ingredients_uniques)-2)"
   ]
  },
  {
   "cell_type": "code",
   "execution_count": 16,
   "metadata": {},
   "outputs": [],
   "source": [
    "#Ingredient frequency function\n",
    "def frecuencia(lista):\n",
    "    dic={}\n",
    "    for palabra in lista:\n",
    "        if palabra in dic.keys():\n",
    "            dic[palabra]=dic[palabra]+1\n",
    "        else:\n",
    "            dic[palabra]=1\n",
    "    return dic "
   ]
  },
  {
   "cell_type": "code",
   "execution_count": 17,
   "metadata": {},
   "outputs": [],
   "source": [
    "conteo=frecuencia(Ingredients)\n",
    "conteo_dic=dict(sorted(conteo.items(),key=lambda item:item[1], reverse=True))\n",
    "#conteo_dic"
   ]
  },
  {
   "cell_type": "code",
   "execution_count": 18,
   "metadata": {},
   "outputs": [
    {
     "data": {
      "text/html": [
       "<div>\n",
       "<style scoped>\n",
       "    .dataframe tbody tr th:only-of-type {\n",
       "        vertical-align: middle;\n",
       "    }\n",
       "\n",
       "    .dataframe tbody tr th {\n",
       "        vertical-align: top;\n",
       "    }\n",
       "\n",
       "    .dataframe thead th {\n",
       "        text-align: right;\n",
       "    }\n",
       "</style>\n",
       "<table border=\"1\" class=\"dataframe\">\n",
       "  <thead>\n",
       "    <tr style=\"text-align: right;\">\n",
       "      <th></th>\n",
       "      <th>freq</th>\n",
       "    </tr>\n",
       "  </thead>\n",
       "  <tbody>\n",
       "    <tr>\n",
       "      <th>*</th>\n",
       "      <td>2937</td>\n",
       "    </tr>\n",
       "    <tr>\n",
       "      <th>gin</th>\n",
       "      <td>81</td>\n",
       "    </tr>\n",
       "    <tr>\n",
       "      <th></th>\n",
       "      <td>70</td>\n",
       "    </tr>\n",
       "    <tr>\n",
       "      <th>vodka</th>\n",
       "      <td>64</td>\n",
       "    </tr>\n",
       "    <tr>\n",
       "      <th>sugar</th>\n",
       "      <td>51</td>\n",
       "    </tr>\n",
       "    <tr>\n",
       "      <th>...</th>\n",
       "      <td>...</td>\n",
       "    </tr>\n",
       "    <tr>\n",
       "      <th>fruit_juice</th>\n",
       "      <td>1</td>\n",
       "    </tr>\n",
       "    <tr>\n",
       "      <th>papaya</th>\n",
       "      <td>1</td>\n",
       "    </tr>\n",
       "    <tr>\n",
       "      <th>butter</th>\n",
       "      <td>1</td>\n",
       "    </tr>\n",
       "    <tr>\n",
       "      <th>marshmallows</th>\n",
       "      <td>1</td>\n",
       "    </tr>\n",
       "    <tr>\n",
       "      <th>advocaat</th>\n",
       "      <td>1</td>\n",
       "    </tr>\n",
       "  </tbody>\n",
       "</table>\n",
       "<p>297 rows × 1 columns</p>\n",
       "</div>"
      ],
      "text/plain": [
       "              freq\n",
       "*             2937\n",
       "gin             81\n",
       "                70\n",
       "vodka           64\n",
       "sugar           51\n",
       "...            ...\n",
       "fruit_juice      1\n",
       "papaya           1\n",
       "butter           1\n",
       "marshmallows     1\n",
       "advocaat         1\n",
       "\n",
       "[297 rows x 1 columns]"
      ]
     },
     "execution_count": 18,
     "metadata": {},
     "output_type": "execute_result"
    }
   ],
   "source": [
    "ingredients_df=pd.DataFrame.from_dict(conteo_dic,orient='index').rename(columns={0:'freq'})\n",
    "ingredients_df\n"
   ]
  },
  {
   "cell_type": "markdown",
   "metadata": {},
   "source": [
    "# Top 10 ingredients "
   ]
  },
  {
   "cell_type": "code",
   "execution_count": 19,
   "metadata": {},
   "outputs": [
    {
     "data": {
      "text/html": [
       "<div>\n",
       "<style scoped>\n",
       "    .dataframe tbody tr th:only-of-type {\n",
       "        vertical-align: middle;\n",
       "    }\n",
       "\n",
       "    .dataframe tbody tr th {\n",
       "        vertical-align: top;\n",
       "    }\n",
       "\n",
       "    .dataframe thead th {\n",
       "        text-align: right;\n",
       "    }\n",
       "</style>\n",
       "<table border=\"1\" class=\"dataframe\">\n",
       "  <thead>\n",
       "    <tr style=\"text-align: right;\">\n",
       "      <th></th>\n",
       "      <th>freq</th>\n",
       "    </tr>\n",
       "  </thead>\n",
       "  <tbody>\n",
       "    <tr>\n",
       "      <th>gin</th>\n",
       "      <td>81</td>\n",
       "    </tr>\n",
       "    <tr>\n",
       "      <th>vodka</th>\n",
       "      <td>64</td>\n",
       "    </tr>\n",
       "    <tr>\n",
       "      <th>sugar</th>\n",
       "      <td>51</td>\n",
       "    </tr>\n",
       "    <tr>\n",
       "      <th>lemon_juice</th>\n",
       "      <td>50</td>\n",
       "    </tr>\n",
       "    <tr>\n",
       "      <th>orange_juice</th>\n",
       "      <td>43</td>\n",
       "    </tr>\n",
       "    <tr>\n",
       "      <th>...</th>\n",
       "      <td>...</td>\n",
       "    </tr>\n",
       "    <tr>\n",
       "      <th>fruit_juice</th>\n",
       "      <td>1</td>\n",
       "    </tr>\n",
       "    <tr>\n",
       "      <th>papaya</th>\n",
       "      <td>1</td>\n",
       "    </tr>\n",
       "    <tr>\n",
       "      <th>butter</th>\n",
       "      <td>1</td>\n",
       "    </tr>\n",
       "    <tr>\n",
       "      <th>marshmallows</th>\n",
       "      <td>1</td>\n",
       "    </tr>\n",
       "    <tr>\n",
       "      <th>advocaat</th>\n",
       "      <td>1</td>\n",
       "    </tr>\n",
       "  </tbody>\n",
       "</table>\n",
       "<p>295 rows × 1 columns</p>\n",
       "</div>"
      ],
      "text/plain": [
       "              freq\n",
       "gin             81\n",
       "vodka           64\n",
       "sugar           51\n",
       "lemon_juice     50\n",
       "orange_juice    43\n",
       "...            ...\n",
       "fruit_juice      1\n",
       "papaya           1\n",
       "butter           1\n",
       "marshmallows     1\n",
       "advocaat         1\n",
       "\n",
       "[295 rows x 1 columns]"
      ]
     },
     "execution_count": 19,
     "metadata": {},
     "output_type": "execute_result"
    }
   ],
   "source": [
    "#Ingredient frequency dataframe\n",
    "ingredients_df=ingredients_df.drop([\"*\",\"\"],axis=0)\n",
    "ingredients_df"
   ]
  },
  {
   "cell_type": "markdown",
   "metadata": {},
   "source": [
    "Gin, Vodka, Sugar, Lemon juice, Orange juice, lemon, ice, lime juice, lime and grenadine are the 10 most common ingredients. The top five are used in approximately 68% of all recipes.\n",
    "The distillates most used in recipes are Gin (19% of all recipes) and Vodka (15%)."
   ]
  },
  {
   "cell_type": "code",
   "execution_count": 20,
   "metadata": {},
   "outputs": [
    {
     "data": {
      "image/png": "[encoded data removed]",
      "text/plain": [
       "<Figure size 432x288 with 1 Axes>"
      ]
     },
     "metadata": {
      "needs_background": "light"
     },
     "output_type": "display_data"
    }
   ],
   "source": [
    "def plot_bar(ingredients_df, top=10):\n",
    "    fig=plt.figure()\n",
    "    ax=fig.add_axes([0,0,2,1])\n",
    "    ax.bar(x=ingredients_df.iloc[:top,:].index, height=ingredients_df.iloc[:top,0].values)\n",
    "    plt.xticks(rotation=90)\n",
    "    plt.title(\"Top 20 most common ingredients\")\n",
    "    plt.show()\n",
    "\n",
    "plot_bar(ingredients_df,10)"
   ]
  },
  {
   "cell_type": "markdown",
   "metadata": {},
   "source": [
    "# Number of ingredients per cocktail"
   ]
  },
  {
   "cell_type": "markdown",
   "metadata": {},
   "source": [
    "To measure the number of ingredients used in each drink, the variable *num_ingredients* is created, which is formed by subtracting the NaN values from the total of *strIngredient* variables.\n",
    "\n",
    "On average, each cocktail requires 4 ingredients for its preparation. 29% of cocktails use 3 ingredients, while only 4% use more than seven ingredients."
   ]
  },
  {
   "cell_type": "code",
   "execution_count": 21,
   "metadata": {},
   "outputs": [
    {
     "data": {
      "text/html": [
       "<div>\n",
       "<style scoped>\n",
       "    .dataframe tbody tr th:only-of-type {\n",
       "        vertical-align: middle;\n",
       "    }\n",
       "\n",
       "    .dataframe tbody tr th {\n",
       "        vertical-align: top;\n",
       "    }\n",
       "\n",
       "    .dataframe thead th {\n",
       "        text-align: right;\n",
       "    }\n",
       "</style>\n",
       "<table border=\"1\" class=\"dataframe\">\n",
       "  <thead>\n",
       "    <tr style=\"text-align: right;\">\n",
       "      <th></th>\n",
       "      <th>idDrink</th>\n",
       "      <th>strDrink</th>\n",
       "      <th>strIngredient1</th>\n",
       "      <th>strIngredient2</th>\n",
       "      <th>strIngredient3</th>\n",
       "      <th>strIngredient4</th>\n",
       "      <th>strIngredient5</th>\n",
       "      <th>strIngredient6</th>\n",
       "      <th>strIngredient7</th>\n",
       "      <th>strIngredient8</th>\n",
       "      <th>strIngredient9</th>\n",
       "      <th>strIngredient10</th>\n",
       "      <th>strIngredient11</th>\n",
       "      <th>num_ingredients</th>\n",
       "    </tr>\n",
       "  </thead>\n",
       "  <tbody>\n",
       "    <tr>\n",
       "      <th>0</th>\n",
       "      <td>11407</td>\n",
       "      <td>Gin Cooler</td>\n",
       "      <td>Gin</td>\n",
       "      <td>Carbonated water</td>\n",
       "      <td>Powdered sugar</td>\n",
       "      <td>Orange spiral</td>\n",
       "      <td>Lemon peel</td>\n",
       "      <td>None</td>\n",
       "      <td>None</td>\n",
       "      <td>None</td>\n",
       "      <td>None</td>\n",
       "      <td>None</td>\n",
       "      <td>None</td>\n",
       "      <td>5</td>\n",
       "    </tr>\n",
       "    <tr>\n",
       "      <th>1</th>\n",
       "      <td>12916</td>\n",
       "      <td>Egg Nog - Healthy</td>\n",
       "      <td>Egg</td>\n",
       "      <td>Sugar</td>\n",
       "      <td>Condensed milk</td>\n",
       "      <td>Milk</td>\n",
       "      <td>Vanilla extract</td>\n",
       "      <td>Rum</td>\n",
       "      <td>Nutmeg</td>\n",
       "      <td>None</td>\n",
       "      <td>None</td>\n",
       "      <td>None</td>\n",
       "      <td>None</td>\n",
       "      <td>7</td>\n",
       "    </tr>\n",
       "    <tr>\n",
       "      <th>2</th>\n",
       "      <td>14195</td>\n",
       "      <td>Snowball</td>\n",
       "      <td>Advocaat</td>\n",
       "      <td>Lemonade</td>\n",
       "      <td>Lemon</td>\n",
       "      <td>Ice</td>\n",
       "      <td>None</td>\n",
       "      <td>None</td>\n",
       "      <td>None</td>\n",
       "      <td>None</td>\n",
       "      <td>None</td>\n",
       "      <td>None</td>\n",
       "      <td>None</td>\n",
       "      <td>4</td>\n",
       "    </tr>\n",
       "    <tr>\n",
       "      <th>3</th>\n",
       "      <td>12776</td>\n",
       "      <td>Melya</td>\n",
       "      <td>Espresso</td>\n",
       "      <td>Honey</td>\n",
       "      <td>Cocoa powder</td>\n",
       "      <td>None</td>\n",
       "      <td>None</td>\n",
       "      <td>None</td>\n",
       "      <td>None</td>\n",
       "      <td>None</td>\n",
       "      <td>None</td>\n",
       "      <td>None</td>\n",
       "      <td>None</td>\n",
       "      <td>3</td>\n",
       "    </tr>\n",
       "    <tr>\n",
       "      <th>4</th>\n",
       "      <td>11202</td>\n",
       "      <td>Caipirinha</td>\n",
       "      <td>Sugar</td>\n",
       "      <td>Lime</td>\n",
       "      <td>Cachaca</td>\n",
       "      <td>None</td>\n",
       "      <td>None</td>\n",
       "      <td>None</td>\n",
       "      <td>None</td>\n",
       "      <td>None</td>\n",
       "      <td>None</td>\n",
       "      <td>None</td>\n",
       "      <td>None</td>\n",
       "      <td>3</td>\n",
       "    </tr>\n",
       "  </tbody>\n",
       "</table>\n",
       "</div>"
      ],
      "text/plain": [
       "   idDrink           strDrink strIngredient1    strIngredient2  \\\n",
       "0    11407         Gin Cooler            Gin  Carbonated water   \n",
       "1    12916  Egg Nog - Healthy            Egg             Sugar   \n",
       "2    14195           Snowball       Advocaat          Lemonade   \n",
       "3    12776              Melya       Espresso             Honey   \n",
       "4    11202         Caipirinha          Sugar              Lime   \n",
       "\n",
       "   strIngredient3 strIngredient4   strIngredient5 strIngredient6  \\\n",
       "0  Powdered sugar  Orange spiral       Lemon peel           None   \n",
       "1  Condensed milk           Milk  Vanilla extract            Rum   \n",
       "2           Lemon            Ice             None           None   \n",
       "3    Cocoa powder           None             None           None   \n",
       "4         Cachaca           None             None           None   \n",
       "\n",
       "  strIngredient7 strIngredient8 strIngredient9 strIngredient10  \\\n",
       "0           None           None           None            None   \n",
       "1         Nutmeg           None           None            None   \n",
       "2           None           None           None            None   \n",
       "3           None           None           None            None   \n",
       "4           None           None           None            None   \n",
       "\n",
       "  strIngredient11  num_ingredients  \n",
       "0            None                5  \n",
       "1            None                7  \n",
       "2            None                4  \n",
       "3            None                3  \n",
       "4            None                3  "
      ]
     },
     "execution_count": 21,
     "metadata": {},
     "output_type": "execute_result"
    }
   ],
   "source": [
    "#The variable num_ingredients is generated\n",
    "base0.shape\n",
    "base0['num_ingredients']=11-base0.isnull().sum(axis=1)\n",
    "base0.head(5)\n"
   ]
  },
  {
   "cell_type": "code",
   "execution_count": 22,
   "metadata": {},
   "outputs": [
    {
     "data": {
      "text/html": [
       "<div>\n",
       "<style scoped>\n",
       "    .dataframe tbody tr th:only-of-type {\n",
       "        vertical-align: middle;\n",
       "    }\n",
       "\n",
       "    .dataframe tbody tr th {\n",
       "        vertical-align: top;\n",
       "    }\n",
       "\n",
       "    .dataframe thead th {\n",
       "        text-align: right;\n",
       "    }\n",
       "</style>\n",
       "<table border=\"1\" class=\"dataframe\">\n",
       "  <thead>\n",
       "    <tr style=\"text-align: right;\">\n",
       "      <th></th>\n",
       "      <th>index</th>\n",
       "      <th>num_ingredients</th>\n",
       "      <th>number_ingr</th>\n",
       "    </tr>\n",
       "  </thead>\n",
       "  <tbody>\n",
       "    <tr>\n",
       "      <th>7</th>\n",
       "      <td>9</td>\n",
       "      <td>1</td>\n",
       "      <td>eleven</td>\n",
       "    </tr>\n",
       "    <tr>\n",
       "      <th>8</th>\n",
       "      <td>11</td>\n",
       "      <td>1</td>\n",
       "      <td>nine</td>\n",
       "    </tr>\n",
       "    <tr>\n",
       "      <th>6</th>\n",
       "      <td>8</td>\n",
       "      <td>2</td>\n",
       "      <td>eight</td>\n",
       "    </tr>\n",
       "    <tr>\n",
       "      <th>5</th>\n",
       "      <td>6</td>\n",
       "      <td>38</td>\n",
       "      <td>seven</td>\n",
       "    </tr>\n",
       "    <tr>\n",
       "      <th>4</th>\n",
       "      <td>7</td>\n",
       "      <td>41</td>\n",
       "      <td>six</td>\n",
       "    </tr>\n",
       "    <tr>\n",
       "      <th>3</th>\n",
       "      <td>2</td>\n",
       "      <td>64</td>\n",
       "      <td>two</td>\n",
       "    </tr>\n",
       "    <tr>\n",
       "      <th>2</th>\n",
       "      <td>5</td>\n",
       "      <td>71</td>\n",
       "      <td>five</td>\n",
       "    </tr>\n",
       "    <tr>\n",
       "      <th>1</th>\n",
       "      <td>4</td>\n",
       "      <td>83</td>\n",
       "      <td>four</td>\n",
       "    </tr>\n",
       "    <tr>\n",
       "      <th>0</th>\n",
       "      <td>3</td>\n",
       "      <td>124</td>\n",
       "      <td>three</td>\n",
       "    </tr>\n",
       "  </tbody>\n",
       "</table>\n",
       "</div>"
      ],
      "text/plain": [
       "   index  num_ingredients number_ingr\n",
       "7      9                1      eleven\n",
       "8     11                1        nine\n",
       "6      8                2       eight\n",
       "5      6               38       seven\n",
       "4      7               41         six\n",
       "3      2               64         two\n",
       "2      5               71        five\n",
       "1      4               83        four\n",
       "0      3              124       three"
      ]
     },
     "execution_count": 22,
     "metadata": {},
     "output_type": "execute_result"
    }
   ],
   "source": [
    "#Ingredients per cocktail dataframe\n",
    "ing_per_cocktail=pd.DataFrame(base0['num_ingredients'].value_counts(),columns=['num_ingredients']).reset_index().sort_values(by=['num_ingredients'])\n",
    "ing_per_cocktail['number_ingr']=['eleven','nine','eight','seven','six','two','five','four','three']\n",
    "ing_per_cocktail"
   ]
  },
  {
   "cell_type": "code",
   "execution_count": 23,
   "metadata": {},
   "outputs": [
    {
     "data": {
      "image/png": "[encoded data removed]",
      "text/plain": [
       "<Figure size 648x648 with 1 Axes>"
      ]
     },
     "metadata": {
      "needs_background": "light"
     },
     "output_type": "display_data"
    }
   ],
   "source": [
    "fig, ax = plt.subplots()\n",
    "fig.set_size_inches(9,9)\n",
    "ax.barh(y=ing_per_cocktail['number_ingr'], width=ing_per_cocktail['num_ingredients'],color='green');\n",
    "ax.set_title(\"Number of ingredients per cocktail\");\n",
    "plt.xlabel('cocktails');"
   ]
  },
  {
   "cell_type": "markdown",
   "metadata": {},
   "source": [
    "## Cocktails with more Ingredients"
   ]
  },
  {
   "cell_type": "code",
   "execution_count": 24,
   "metadata": {},
   "outputs": [],
   "source": [
    "MaxIngredient = base0[[\"strDrink\",\"num_ingredients\"]]"
   ]
  },
  {
   "cell_type": "code",
   "execution_count": 25,
   "metadata": {},
   "outputs": [],
   "source": [
    "Top5= MaxIngredient.sort_values(by = \"num_ingredients\", ascending=False).head()"
   ]
  },
  {
   "cell_type": "code",
   "execution_count": 35,
   "metadata": {},
   "outputs": [
    {
     "data": {
      "image/png": "[encoded data removed]",
      "text/plain": [
       "<Figure size 648x648 with 1 Axes>"
      ]
     },
     "metadata": {
      "needs_background": "light"
     },
     "output_type": "display_data"
    }
   ],
   "source": [
    "fig, ax = plt.subplots()\n",
    "fig.set_size_inches(9,9)\n",
    "ax.barh(y=Top5['strDrink'], width=Top5['num_ingredients'],color='purple');\n",
    "ax.set_title(\"Cocktails with more Ingredients\");\n",
    "plt.xlabel('cocktails');"
   ]
  },
  {
   "cell_type": "markdown",
   "metadata": {},
   "source": [
    "The 5 cocktails with more ingredients are: Egg Nog 4, Masala Chai, Sweet Sangria, Radioactiva Long Island Tea and Zombie."
   ]
  }
 ],
 "metadata": {
  "environment": {
   "kernel": "python3",
   "name": "common-cpu.m90",
   "type": "gcloud",
   "uri": "gcr.io/deeplearning-platform-release/base-cpu:m90"
  },
  "interpreter": {
   "hash": "40d3a090f54c6569ab1632332b64b2c03c39dcf918b08424e98f38b5ae0af88f"
  },
  "kernelspec": {
   "display_name": "Python 3",
   "language": "python",
   "name": "python3"
  },
  "language_info": {
   "codemirror_mode": {
    "name": "ipython",
    "version": 3
   },
   "file_extension": ".py",
   "mimetype": "text/x-python",
   "name": "python",
   "nbconvert_exporter": "python",
   "pygments_lexer": "ipython3",
   "version": "3.7.12"
  }
 },
 "nbformat": 4,
 "nbformat_minor": 4
}
