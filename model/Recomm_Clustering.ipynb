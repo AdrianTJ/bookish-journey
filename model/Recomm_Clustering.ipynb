{
 "cells": [
  {
   "cell_type": "markdown",
   "metadata": {},
   "source": [
    "# Recommendation System"
   ]
  },
  {
   "cell_type": "markdown",
   "metadata": {},
   "source": [
    "This python notebook contains a recommendation system that recommends related cocktails among 425 unique cocktails.\n",
    "\n",
    "There are hundreds of cocktails yet most people know only the famous ones. Additionally, it can be difficult for many people to try new cocktails they think they will love. Most of the people might hesitate to try something new when it comes to the cocktails, because there are many options with different ingredients. Our cocktail recommender system encourages people to try new flavours by utilizing data science and various cocktails in the database"
   ]
  },
  {
   "cell_type": "markdown",
   "metadata": {},
   "source": [
    "## Setup"
   ]
  },
  {
   "cell_type": "code",
   "execution_count": 136,
   "metadata": {
    "id": "JSSIS6_C8Vp7"
   },
   "outputs": [],
   "source": [
    "# Importing Libraries\n",
    "\n",
    "import pandas as pd\n",
    "import numpy as np\n",
    "import matplotlib.pyplot as plt\n",
    "import seaborn as sns"
   ]
  },
  {
   "cell_type": "code",
   "execution_count": 137,
   "metadata": {
    "id": "oRO46mZL-Nog"
   },
   "outputs": [],
   "source": [
    "# From sklearn importing DictVectorizer: Transforms lists of feature-value mappings to vectors.\n",
    "# Importing KernelPCA: Kernel Principal component analysis (KPCA).\n",
    "# Importing itertools provides various functions that work on iterators. \n",
    "\n",
    "from sklearn.feature_extraction import DictVectorizer\n",
    "from sklearn.decomposition import KernelPCA\n",
    "import itertools"
   ]
  },
  {
   "cell_type": "markdown",
   "metadata": {},
   "source": [
    "## Data Load & Feature Engineering "
   ]
  },
  {
   "cell_type": "markdown",
   "metadata": {},
   "source": [
    "Using **Bigquery** we select the ingredients from de database, the id (idDrink) and the name of the Drink (srtDrink)"
   ]
  },
  {
   "cell_type": "code",
   "execution_count": 138,
   "metadata": {},
   "outputs": [
    {
     "name": "stderr",
     "output_type": "stream",
     "text": [
      "Query complete after 0.00s: 100%|██████████| 1/1 [00:00<00:00, 444.08query/s] \n",
      "Downloading: 100%|██████████| 425/425 [00:01<00:00, 386.69rows/s]\n"
     ]
    }
   ],
   "source": [
    "%%bigquery base\n",
    "\n",
    "SELECT \n",
    "    idDrink,\n",
    "    strDrink,\n",
    "    strIngredient1,\n",
    "    strIngredient2,\n",
    "    strIngredient3,\n",
    "    strIngredient4,\n",
    "    strIngredient5,\n",
    "    strIngredient6,\n",
    "    strIngredient7,\n",
    "    strIngredient8,\n",
    "    strIngredient9,\n",
    "    strIngredient10,\n",
    "    strIngredient11,\n",
    "    strIngredient12,\n",
    "    strIngredient13,\n",
    "    strIngredient14,\n",
    "    strIngredient15\n",
    "FROM `bookish-journey-343419.cocktails_dataset.cocktails-table`"
   ]
  },
  {
   "cell_type": "code",
   "execution_count": 139,
   "metadata": {
    "colab": {
     "base_uri": "https://localhost:8080/",
     "height": 514
    },
    "id": "7oDv5n5e8csg",
    "outputId": "11473004-bc82-4d5d-b040-a421813b622f"
   },
   "outputs": [
    {
     "name": "stdout",
     "output_type": "stream",
     "text": [
      "(425, 17)\n"
     ]
    },
    {
     "data": {
      "text/html": [
       "<div>\n",
       "<style scoped>\n",
       "    .dataframe tbody tr th:only-of-type {\n",
       "        vertical-align: middle;\n",
       "    }\n",
       "\n",
       "    .dataframe tbody tr th {\n",
       "        vertical-align: top;\n",
       "    }\n",
       "\n",
       "    .dataframe thead th {\n",
       "        text-align: right;\n",
       "    }\n",
       "</style>\n",
       "<table border=\"1\" class=\"dataframe\">\n",
       "  <thead>\n",
       "    <tr style=\"text-align: right;\">\n",
       "      <th></th>\n",
       "      <th>idDrink</th>\n",
       "      <th>strDrink</th>\n",
       "      <th>strIngredient1</th>\n",
       "      <th>strIngredient2</th>\n",
       "      <th>strIngredient3</th>\n",
       "      <th>strIngredient4</th>\n",
       "      <th>strIngredient5</th>\n",
       "      <th>strIngredient6</th>\n",
       "      <th>strIngredient7</th>\n",
       "      <th>strIngredient8</th>\n",
       "      <th>strIngredient9</th>\n",
       "      <th>strIngredient10</th>\n",
       "      <th>strIngredient11</th>\n",
       "      <th>strIngredient12</th>\n",
       "      <th>strIngredient13</th>\n",
       "      <th>strIngredient14</th>\n",
       "      <th>strIngredient15</th>\n",
       "    </tr>\n",
       "  </thead>\n",
       "  <tbody>\n",
       "    <tr>\n",
       "      <th>0</th>\n",
       "      <td>11004</td>\n",
       "      <td>Whiskey Sour</td>\n",
       "      <td>Blended whiskey</td>\n",
       "      <td>Lemon</td>\n",
       "      <td>Powdered sugar</td>\n",
       "      <td>Cherry</td>\n",
       "      <td>Lemon</td>\n",
       "      <td>None</td>\n",
       "      <td>None</td>\n",
       "      <td>None</td>\n",
       "      <td>None</td>\n",
       "      <td>None</td>\n",
       "      <td>None</td>\n",
       "      <td>None</td>\n",
       "      <td>None</td>\n",
       "      <td>None</td>\n",
       "      <td>None</td>\n",
       "    </tr>\n",
       "    <tr>\n",
       "      <th>1</th>\n",
       "      <td>11009</td>\n",
       "      <td>Moscow Mule</td>\n",
       "      <td>Vodka</td>\n",
       "      <td>Lime juice</td>\n",
       "      <td>Ginger ale</td>\n",
       "      <td>None</td>\n",
       "      <td>None</td>\n",
       "      <td>None</td>\n",
       "      <td>None</td>\n",
       "      <td>None</td>\n",
       "      <td>None</td>\n",
       "      <td>None</td>\n",
       "      <td>None</td>\n",
       "      <td>None</td>\n",
       "      <td>None</td>\n",
       "      <td>None</td>\n",
       "      <td>None</td>\n",
       "    </tr>\n",
       "    <tr>\n",
       "      <th>2</th>\n",
       "      <td>11000</td>\n",
       "      <td>Mojito</td>\n",
       "      <td>Light rum</td>\n",
       "      <td>Lime</td>\n",
       "      <td>Sugar</td>\n",
       "      <td>Mint</td>\n",
       "      <td>Soda water</td>\n",
       "      <td>None</td>\n",
       "      <td>None</td>\n",
       "      <td>None</td>\n",
       "      <td>None</td>\n",
       "      <td>None</td>\n",
       "      <td>None</td>\n",
       "      <td>None</td>\n",
       "      <td>None</td>\n",
       "      <td>None</td>\n",
       "      <td>None</td>\n",
       "    </tr>\n",
       "    <tr>\n",
       "      <th>3</th>\n",
       "      <td>11008</td>\n",
       "      <td>Manhattan</td>\n",
       "      <td>Sweet Vermouth</td>\n",
       "      <td>Bourbon</td>\n",
       "      <td>Angostura bitters</td>\n",
       "      <td>Ice</td>\n",
       "      <td>Maraschino cherry</td>\n",
       "      <td>Orange peel</td>\n",
       "      <td>None</td>\n",
       "      <td>None</td>\n",
       "      <td>None</td>\n",
       "      <td>None</td>\n",
       "      <td>None</td>\n",
       "      <td>None</td>\n",
       "      <td>None</td>\n",
       "      <td>None</td>\n",
       "      <td>None</td>\n",
       "    </tr>\n",
       "    <tr>\n",
       "      <th>4</th>\n",
       "      <td>11003</td>\n",
       "      <td>Negroni</td>\n",
       "      <td>Gin</td>\n",
       "      <td>Campari</td>\n",
       "      <td>Sweet Vermouth</td>\n",
       "      <td>None</td>\n",
       "      <td>None</td>\n",
       "      <td>None</td>\n",
       "      <td>None</td>\n",
       "      <td>None</td>\n",
       "      <td>None</td>\n",
       "      <td>None</td>\n",
       "      <td>None</td>\n",
       "      <td>None</td>\n",
       "      <td>None</td>\n",
       "      <td>None</td>\n",
       "      <td>None</td>\n",
       "    </tr>\n",
       "    <tr>\n",
       "      <th>5</th>\n",
       "      <td>11014</td>\n",
       "      <td>Alexander</td>\n",
       "      <td>Gin</td>\n",
       "      <td>Creme de Cacao</td>\n",
       "      <td>Light cream</td>\n",
       "      <td>Nutmeg</td>\n",
       "      <td>None</td>\n",
       "      <td>None</td>\n",
       "      <td>None</td>\n",
       "      <td>None</td>\n",
       "      <td>None</td>\n",
       "      <td>None</td>\n",
       "      <td>None</td>\n",
       "      <td>None</td>\n",
       "      <td>None</td>\n",
       "      <td>None</td>\n",
       "      <td>None</td>\n",
       "    </tr>\n",
       "    <tr>\n",
       "      <th>6</th>\n",
       "      <td>11021</td>\n",
       "      <td>Allegheny</td>\n",
       "      <td>Dry Vermouth</td>\n",
       "      <td>Bourbon</td>\n",
       "      <td>Blackberry brandy</td>\n",
       "      <td>Lemon juice</td>\n",
       "      <td>Lemon peel</td>\n",
       "      <td>None</td>\n",
       "      <td>None</td>\n",
       "      <td>None</td>\n",
       "      <td>None</td>\n",
       "      <td>None</td>\n",
       "      <td>None</td>\n",
       "      <td>None</td>\n",
       "      <td>None</td>\n",
       "      <td>None</td>\n",
       "      <td>None</td>\n",
       "    </tr>\n",
       "    <tr>\n",
       "      <th>7</th>\n",
       "      <td>11020</td>\n",
       "      <td>Algonquin</td>\n",
       "      <td>Blended whiskey</td>\n",
       "      <td>Dry Vermouth</td>\n",
       "      <td>Pineapple juice</td>\n",
       "      <td>None</td>\n",
       "      <td>None</td>\n",
       "      <td>None</td>\n",
       "      <td>None</td>\n",
       "      <td>None</td>\n",
       "      <td>None</td>\n",
       "      <td>None</td>\n",
       "      <td>None</td>\n",
       "      <td>None</td>\n",
       "      <td>None</td>\n",
       "      <td>None</td>\n",
       "      <td>None</td>\n",
       "    </tr>\n",
       "    <tr>\n",
       "      <th>8</th>\n",
       "      <td>11005</td>\n",
       "      <td>Dry Martini</td>\n",
       "      <td>Gin</td>\n",
       "      <td>Dry Vermouth</td>\n",
       "      <td>Olive</td>\n",
       "      <td>None</td>\n",
       "      <td>None</td>\n",
       "      <td>None</td>\n",
       "      <td>None</td>\n",
       "      <td>None</td>\n",
       "      <td>None</td>\n",
       "      <td>None</td>\n",
       "      <td>None</td>\n",
       "      <td>None</td>\n",
       "      <td>None</td>\n",
       "      <td>None</td>\n",
       "      <td>None</td>\n",
       "    </tr>\n",
       "    <tr>\n",
       "      <th>9</th>\n",
       "      <td>11007</td>\n",
       "      <td>Margarita</td>\n",
       "      <td>Tequila</td>\n",
       "      <td>Triple sec</td>\n",
       "      <td>Lime juice</td>\n",
       "      <td>Salt</td>\n",
       "      <td>None</td>\n",
       "      <td>None</td>\n",
       "      <td>None</td>\n",
       "      <td>None</td>\n",
       "      <td>None</td>\n",
       "      <td>None</td>\n",
       "      <td>None</td>\n",
       "      <td>None</td>\n",
       "      <td>None</td>\n",
       "      <td>None</td>\n",
       "      <td>None</td>\n",
       "    </tr>\n",
       "  </tbody>\n",
       "</table>\n",
       "</div>"
      ],
      "text/plain": [
       "   idDrink      strDrink   strIngredient1  strIngredient2     strIngredient3  \\\n",
       "0    11004  Whiskey Sour  Blended whiskey           Lemon     Powdered sugar   \n",
       "1    11009   Moscow Mule            Vodka      Lime juice         Ginger ale   \n",
       "2    11000        Mojito        Light rum            Lime              Sugar   \n",
       "3    11008     Manhattan   Sweet Vermouth         Bourbon  Angostura bitters   \n",
       "4    11003       Negroni              Gin         Campari     Sweet Vermouth   \n",
       "5    11014     Alexander              Gin  Creme de Cacao        Light cream   \n",
       "6    11021     Allegheny     Dry Vermouth         Bourbon  Blackberry brandy   \n",
       "7    11020     Algonquin  Blended whiskey    Dry Vermouth    Pineapple juice   \n",
       "8    11005   Dry Martini              Gin    Dry Vermouth              Olive   \n",
       "9    11007     Margarita          Tequila      Triple sec         Lime juice   \n",
       "\n",
       "  strIngredient4     strIngredient5 strIngredient6 strIngredient7  \\\n",
       "0         Cherry              Lemon           None           None   \n",
       "1           None               None           None           None   \n",
       "2           Mint         Soda water           None           None   \n",
       "3            Ice  Maraschino cherry    Orange peel           None   \n",
       "4           None               None           None           None   \n",
       "5         Nutmeg               None           None           None   \n",
       "6    Lemon juice         Lemon peel           None           None   \n",
       "7           None               None           None           None   \n",
       "8           None               None           None           None   \n",
       "9           Salt               None           None           None   \n",
       "\n",
       "  strIngredient8 strIngredient9 strIngredient10 strIngredient11  \\\n",
       "0           None           None            None            None   \n",
       "1           None           None            None            None   \n",
       "2           None           None            None            None   \n",
       "3           None           None            None            None   \n",
       "4           None           None            None            None   \n",
       "5           None           None            None            None   \n",
       "6           None           None            None            None   \n",
       "7           None           None            None            None   \n",
       "8           None           None            None            None   \n",
       "9           None           None            None            None   \n",
       "\n",
       "  strIngredient12 strIngredient13 strIngredient14 strIngredient15  \n",
       "0            None            None            None            None  \n",
       "1            None            None            None            None  \n",
       "2            None            None            None            None  \n",
       "3            None            None            None            None  \n",
       "4            None            None            None            None  \n",
       "5            None            None            None            None  \n",
       "6            None            None            None            None  \n",
       "7            None            None            None            None  \n",
       "8            None            None            None            None  \n",
       "9            None            None            None            None  "
      ]
     },
     "execution_count": 139,
     "metadata": {},
     "output_type": "execute_result"
    }
   ],
   "source": [
    "# Print the first 10 rows of the database\n",
    "print(base.shape)\n",
    "base.head(10)"
   ]
  },
  {
   "cell_type": "code",
   "execution_count": 140,
   "metadata": {
    "colab": {
     "base_uri": "https://localhost:8080/"
    },
    "id": "2s2YbKo8831F",
    "outputId": "febe3b08-046d-4a36-e66d-0af4c7d9ce52"
   },
   "outputs": [
    {
     "name": "stdout",
     "output_type": "stream",
     "text": [
      "<class 'pandas.core.frame.DataFrame'>\n",
      "RangeIndex: 425 entries, 0 to 424\n",
      "Data columns (total 17 columns):\n",
      " #   Column           Non-Null Count  Dtype \n",
      "---  ------           --------------  ----- \n",
      " 0   idDrink          425 non-null    int64 \n",
      " 1   strDrink         425 non-null    object\n",
      " 2   strIngredient1   425 non-null    object\n",
      " 3   strIngredient2   425 non-null    object\n",
      " 4   strIngredient3   361 non-null    object\n",
      " 5   strIngredient4   237 non-null    object\n",
      " 6   strIngredient5   154 non-null    object\n",
      " 7   strIngredient6   83 non-null     object\n",
      " 8   strIngredient7   45 non-null     object\n",
      " 9   strIngredient8   4 non-null      object\n",
      " 10  strIngredient9   2 non-null      object\n",
      " 11  strIngredient10  1 non-null      object\n",
      " 12  strIngredient11  1 non-null      object\n",
      " 13  strIngredient12  0 non-null      object\n",
      " 14  strIngredient13  0 non-null      object\n",
      " 15  strIngredient14  0 non-null      object\n",
      " 16  strIngredient15  0 non-null      object\n",
      "dtypes: int64(1), object(16)\n",
      "memory usage: 56.6+ KB\n"
     ]
    }
   ],
   "source": [
    "# Show the type of every column, you can see that from strIngredient12 to strIngredient15 are empty columns.\n",
    "base.info()"
   ]
  },
  {
   "cell_type": "code",
   "execution_count": 141,
   "metadata": {
    "id": "vk2KTMaD849S"
   },
   "outputs": [],
   "source": [
    "# Drop empty columns\n",
    "base = base.drop(['strIngredient12','strIngredient13','strIngredient14','strIngredient15'],axis=1)"
   ]
  },
  {
   "cell_type": "code",
   "execution_count": 142,
   "metadata": {
    "id": "xVJnt2tF9Gta"
   },
   "outputs": [],
   "source": [
    "# Replace NaN with \"\"\n",
    "\n",
    "base = base.replace(np.nan,\"\")"
   ]
  },
  {
   "cell_type": "code",
   "execution_count": 143,
   "metadata": {
    "colab": {
     "base_uri": "https://localhost:8080/"
    },
    "id": "MrbI8X198-04",
    "outputId": "42660c47-fb3e-4255-f89d-71e92ec43e3d"
   },
   "outputs": [
    {
     "data": {
      "text/plain": [
       "0      Blended whiskey,Lemon,Powdered sugar,Cherry,Le...\n",
       "1                    Vodka,Lime juice,Ginger ale,,,,,,,,\n",
       "2             Light rum,Lime,Sugar,Mint,Soda water,,,,,,\n",
       "3      Sweet Vermouth,Bourbon,Angostura bitters,Ice,M...\n",
       "4                     Gin,Campari,Sweet Vermouth,,,,,,,,\n",
       "                             ...                        \n",
       "420                Spiced rum,Ginger ale,Lime,Ice,,,,,,,\n",
       "421    Rum,Grapefruit Juice,Maraschino Liqueur,Lime J...\n",
       "422                 Red wine,Lemon-lime soda,Ice,,,,,,,,\n",
       "423                            Coffee,Milk,Sugar,,,,,,,,\n",
       "424    Tequila,Campari,Lime Juice,Orange Juice,Rosema...\n",
       "Name: ingredients, Length: 425, dtype: object"
      ]
     },
     "execution_count": 143,
     "metadata": {},
     "output_type": "execute_result"
    }
   ],
   "source": [
    "# Create a ner variable, ingredients, that has all the previous ingredients together. \n",
    "base['ingredients'] = base[['strIngredient1','strIngredient2','strIngredient3','strIngredient4','strIngredient5',\n",
    "        'strIngredient6','strIngredient7','strIngredient8','strIngredient9','strIngredient10','strIngredient11']].agg(','.join, axis=1)\n",
    "base.ingredients"
   ]
  },
  {
   "cell_type": "code",
   "execution_count": 144,
   "metadata": {
    "colab": {
     "base_uri": "https://localhost:8080/"
    },
    "id": "lPVrYJs29u6V",
    "outputId": "22e9df46-e3f1-43a7-a665-da0edb8b8846"
   },
   "outputs": [
    {
     "data": {
      "text/plain": [
       "0      blended whiskey,lemon,powdered sugar,cherry,le...\n",
       "1                    vodka,lime juice,ginger ale,,,,,,,,\n",
       "2             light rum,lime,sugar,mint,soda water,,,,,,\n",
       "3      sweet vermouth,bourbon,angostura bitters,ice,m...\n",
       "4                     gin,campari,sweet vermouth,,,,,,,,\n",
       "                             ...                        \n",
       "420                spiced rum,ginger ale,lime,ice,,,,,,,\n",
       "421    rum,grapefruit juice,maraschino liqueur,lime j...\n",
       "422                 red wine,lemon-lime soda,ice,,,,,,,,\n",
       "423                            coffee,milk,sugar,,,,,,,,\n",
       "424    tequila,campari,lime juice,orange juice,rosema...\n",
       "Name: ingredients, Length: 425, dtype: object"
      ]
     },
     "execution_count": 144,
     "metadata": {},
     "output_type": "execute_result"
    }
   ],
   "source": [
    "# Function to transform letters to lowercase.\n",
    "\n",
    "def lower(text):\n",
    "    text=text.lower()\n",
    "    return text\n",
    "\n",
    "# Pass all words throw the funtion and append them\n",
    "ingredients_low=[]\n",
    "for i in base.ingredients:\n",
    "    il=lower(i)\n",
    "    ingredients_low.append(il)\n",
    "\n",
    "base['ingredients']=ingredients_low\n",
    "base.ingredients"
   ]
  },
  {
   "cell_type": "code",
   "execution_count": 145,
   "metadata": {
    "id": "9GsiXBo29XwT"
   },
   "outputs": [],
   "source": [
    "# This function convert a list of ingredients into a dictionary, note: every ingredient gets a 1.\n",
    "# this mean that the value of every key is 1. key:value\n",
    "\n",
    "def convert_to_dict(lst):\n",
    "    d = {} #empty dict\n",
    "    for ingre in lst:\n",
    "        d[ingre] = 1\n",
    "    return d"
   ]
  },
  {
   "cell_type": "code",
   "execution_count": 146,
   "metadata": {
    "colab": {
     "base_uri": "https://localhost:8080/"
    },
    "id": "4npcbvhw9ZFu",
    "outputId": "b0b26419-2fbc-4d13-ceba-d1fb5ae14ea1"
   },
   "outputs": [
    {
     "name": "stdout",
     "output_type": "stream",
     "text": [
      "0      {'blended whiskey': 1, 'lemon': 1, 'powdered s...\n",
      "1      {'vodka': 1, 'lime juice': 1, 'ginger ale': 1,...\n",
      "2      {'light rum': 1, 'lime': 1, 'sugar': 1, 'mint'...\n",
      "3      {'sweet vermouth': 1, 'bourbon': 1, 'angostura...\n",
      "4      {'gin': 1, 'campari': 1, 'sweet vermouth': 1, ...\n",
      "                             ...                        \n",
      "420    {'spiced rum': 1, 'ginger ale': 1, 'lime': 1, ...\n",
      "421    {'rum': 1, 'grapefruit juice': 1, 'maraschino ...\n",
      "422    {'red wine': 1, 'lemon-lime soda': 1, 'ice': 1...\n",
      "423          {'coffee': 1, 'milk': 1, 'sugar': 1, '': 1}\n",
      "424    {'tequila': 1, 'campari': 1, 'lime juice': 1, ...\n",
      "Name: bagofwords, Length: 425, dtype: object\n"
     ]
    }
   ],
   "source": [
    "# We use the function to convert every row into a dictionary. \n",
    "# 'vodka': 1, 'lime juice': 1... this will help us later to create a one hot encoding.\n",
    "base['bagofwords'] = base.ingredients.str.split(',').apply(convert_to_dict)\n",
    "print(base.bagofwords)"
   ]
  },
  {
   "cell_type": "code",
   "execution_count": 147,
   "metadata": {
    "id": "T3wG2Xz0-FZw"
   },
   "outputs": [],
   "source": [
    "# One Hot Encoding\n",
    "# To find similarities between dishes and cluster cocktails using their ingredients, we will represent a recipe by a one-hot encoded vector \n",
    "# of its ingredients. We will be establishing a vocabulary of ingredients using a method ‘DictVectorizer’ provided in the sklearn library\n",
    "\n",
    "# DictVectorizer:This transformer turns lists of mappings (dict-like objects) of feature names to feature values into Numpy arrays or scipy.sparse matrices for use with scikit-learn estimators.\n",
    "# sparse, default=True. Whether transform should produce scipy.sparse matrices. In this case we set it as False.\n",
    "\n",
    "vector_dict = DictVectorizer(sparse = False)\n",
    "\n",
    "# fit_transform() is used on the training data so that we can scale the training data and also learn the scaling parameters of that data. \n",
    "#The fit method is calculating the mean and variance of each of the features present in our data. \n",
    "#The transform method is transforming all the features using the respective mean and variance.\n",
    "# We past every dictionary into a list.\n",
    "X = vector_dict.fit_transform(base[\"bagofwords\"].tolist())\n",
    "\n",
    "# We select the column strDrink(name of the drink) from de dataset\n",
    "y = base.strDrink"
   ]
  },
  {
   "cell_type": "markdown",
   "metadata": {},
   "source": [
    "## KPCA Method"
   ]
  },
  {
   "cell_type": "markdown",
   "metadata": {},
   "source": [
    "Kernel Principal Component Analysis (KPCA) is a non-linear dimensionality reduction technique. It is an extension of Principal Component Analysis (PCA) - which is a linear dimensionality reduction technique - using kernel methods."
   ]
  },
  {
   "cell_type": "code",
   "execution_count": 155,
   "metadata": {
    "colab": {
     "base_uri": "https://localhost:8080/"
    },
    "id": "N4Xbesu3-h_x",
    "outputId": "61207332-2f54-4a42-9b6b-a53b07093001"
   },
   "outputs": [
    {
     "data": {
      "text/plain": [
       "(425, 2)"
      ]
     },
     "execution_count": 155,
     "metadata": {},
     "output_type": "execute_result"
    }
   ],
   "source": [
    "# Using Kernel PCA\n",
    "# kernel = \"cosine\": This is called cosine similarity, because Euclidean (L2) normalization projects the vectors onto the unit sphere, and their dot product is then the cosine of the angle between the points denoted by the vectors.\n",
    "\n",
    "kpca = KernelPCA(n_components=2,kernel=\"cosine\", n_jobs=2)\n",
    "\n",
    "# Using the transform method we can use the same mean and variance as it is calculated from our training data to transform our test data. \n",
    "#Thus, the parameters learned by our model using the training data will help us to transform our test data.\n",
    "x_pca = kpca.fit_transform(X)\n",
    "x_pca.shape"
   ]
  },
  {
   "cell_type": "code",
   "execution_count": 156,
   "metadata": {},
   "outputs": [
    {
     "name": "stderr",
     "output_type": "stream",
     "text": [
      "/opt/conda/lib/python3.7/site-packages/seaborn/_decorators.py:43: FutureWarning: Pass the following variables as keyword args: x, y. From version 0.12, the only valid positional argument will be `data`, and passing other arguments without an explicit keyword will result in an error or misinterpretation.\n",
      "  FutureWarning\n"
     ]
    },
    {
     "data": {
      "text/plain": [
       "<seaborn.axisgrid.FacetGrid at 0x7f2fcafb2590>"
      ]
     },
     "execution_count": 156,
     "metadata": {},
     "output_type": "execute_result"
    },
    {
     "data": {
      "image/png": "[encoded data removed]",
      "text/plain": [
       "<Figure size 360x360 with 1 Axes>"
      ]
     },
     "metadata": {
      "needs_background": "light"
     },
     "output_type": "display_data"
    }
   ],
   "source": [
    "# Plotting the PCA decomposition\n",
    "plot_pca = pd.DataFrame(data = x_pca[:,:2], columns = [\"PC1\",\"PC2\"])\n",
    "sns.lmplot(\"PC1\", \"PC2\", data = plot_pca, palette = \"Paired\",legend=True, fit_reg = False)"
   ]
  },
  {
   "cell_type": "markdown",
   "metadata": {
    "tags": []
   },
   "source": [
    "## Mean Shift Clustering"
   ]
  },
  {
   "cell_type": "code",
   "execution_count": 157,
   "metadata": {},
   "outputs": [],
   "source": [
    "from sklearn.cluster import MeanShift\n",
    "ms = MeanShift().fit(x_pca)"
   ]
  },
  {
   "cell_type": "code",
   "execution_count": 158,
   "metadata": {},
   "outputs": [
    {
     "data": {
      "text/plain": [
       "array([0, 1, 0, 0, 2, 2, 0, 0, 2, 0, 0, 0, 0, 0, 2, 2, 1, 2, 0, 0, 0, 2,\n",
       "       0, 2, 2, 0, 0, 0, 0, 0, 2, 0, 2, 2, 0, 0, 2, 0, 0, 2, 2, 1, 0, 0,\n",
       "       2, 2, 2, 2, 2, 2, 1, 0, 2, 2, 0, 0, 0, 1, 0, 2, 0, 2, 0, 0, 0, 2,\n",
       "       0, 1, 0, 0, 0, 2, 1, 2, 0, 0, 2, 2, 0, 1, 0, 2, 0, 0, 2, 2, 2, 0,\n",
       "       0, 0, 2, 0, 0, 2, 2, 0, 2, 0, 0, 0, 0, 0, 0, 2, 0, 0, 0, 0, 0, 0,\n",
       "       0, 0, 1, 0, 1, 1, 0, 2, 2, 0, 0, 1, 0, 2, 0, 0, 0, 1, 1, 1, 0, 0,\n",
       "       0, 0, 0, 1, 0, 0, 0, 2, 2, 0, 1, 1, 0, 1, 2, 0, 0, 2, 0, 0, 0, 1,\n",
       "       0, 0, 0, 0, 0, 0, 0, 0, 2, 0, 0, 0, 0, 0, 0, 0, 0, 0, 2, 1, 0, 0,\n",
       "       0, 0, 0, 0, 0, 0, 0, 0, 0, 0, 0, 0, 0, 0, 0, 0, 0, 1, 1, 0, 0, 2,\n",
       "       1, 0, 0, 0, 2, 0, 0, 1, 0, 1, 2, 1, 0, 0, 0, 1, 1, 0, 0, 0, 0, 0,\n",
       "       0, 0, 0, 0, 0, 0, 1, 0, 0, 0, 1, 0, 0, 1, 0, 0, 0, 1, 0, 0, 2, 0,\n",
       "       0, 0, 2, 0, 2, 0, 1, 0, 2, 2, 0, 0, 1, 0, 1, 0, 0, 0, 0, 0, 0, 0,\n",
       "       0, 0, 1, 0, 0, 0, 0, 1, 2, 1, 0, 1, 0, 2, 2, 1, 0, 1, 2, 0, 2, 0,\n",
       "       0, 0, 0, 0, 1, 1, 1, 2, 0, 0, 0, 0, 0, 1, 0, 0, 0, 2, 0, 0, 0, 0,\n",
       "       0, 0, 0, 0, 0, 0, 0, 0, 0, 1, 0, 2, 0, 0, 0, 0, 0, 1, 1, 0, 0, 0,\n",
       "       1, 2, 0, 0, 0, 1, 2, 0, 0, 0, 0, 1, 2, 2, 1, 0, 0, 0, 1, 1, 0, 0,\n",
       "       0, 0, 0, 0, 2, 0, 0, 0, 0, 1, 2, 0, 1, 0, 1, 0, 0, 0, 2, 1, 2, 1,\n",
       "       1, 1, 0, 0, 0, 2, 0, 0, 2, 0, 0, 0, 0, 0, 1, 0, 1, 0, 2, 1, 0, 1,\n",
       "       0, 0, 0, 1, 0, 0, 0, 1, 1, 2, 1, 0, 2, 0, 2, 1, 0, 1, 1, 1, 0, 0,\n",
       "       0, 0, 0, 0, 0, 0, 0])"
      ]
     },
     "execution_count": 158,
     "metadata": {},
     "output_type": "execute_result"
    }
   ],
   "source": [
    "ms.labels_"
   ]
  },
  {
   "cell_type": "code",
   "execution_count": 159,
   "metadata": {},
   "outputs": [],
   "source": [
    "# Fit.predict compute cluster centers and predict cluster index for each sample.\n",
    "label = ms.fit_predict(x_pca)"
   ]
  },
  {
   "cell_type": "code",
   "execution_count": 160,
   "metadata": {},
   "outputs": [
    {
     "data": {
      "image/png": "[encoded data removed]",
      "text/plain": [
       "<Figure size 432x288 with 1 Axes>"
      ]
     },
     "metadata": {
      "needs_background": "light"
     },
     "output_type": "display_data"
    }
   ],
   "source": [
    "# Getting unique labels\n",
    "u_labels = np.unique(label)\n",
    " \n",
    "# Plotting the results:\n",
    "for i in u_labels:\n",
    "    plt.scatter(x_pca[label == i , 0] , x_pca[label == i , 1] , label = i)\n",
    "plt.legend()\n",
    "plt.show()"
   ]
  },
  {
   "cell_type": "code",
   "execution_count": 165,
   "metadata": {
    "colab": {
     "base_uri": "https://localhost:8080/",
     "height": 441
    },
    "id": "2X3APRmb_ECd",
    "outputId": "65a637db-d28e-4aef-ff6d-8000104dbde8"
   },
   "outputs": [],
   "source": [
    "# Recommendations\n",
    "def cluster_recomm(index,algorithm = kmeans,n_return = 5):\n",
    "    cluster = algorithm.predict(x_pca[index].reshape(1, -1))[0]\n",
    "    cluster_map = pd.DataFrame()\n",
    "    cluster_map['cluster'] = algorithm.labels_\n",
    "    in_cluster = cluster_map[cluster_map.cluster == cluster].sample(n=n_return, random_state = 42)\n",
    "    return y[in_cluster.index]"
   ]
  },
  {
   "cell_type": "code",
   "execution_count": 166,
   "metadata": {},
   "outputs": [
    {
     "data": {
      "text/plain": [
       "58      John Collins\n",
       "186    Midnight Manx\n",
       "137        Downshift\n",
       "323      Mocha-Berry\n",
       "324      Masala Chai\n",
       "Name: strDrink, dtype: object"
      ]
     },
     "execution_count": 166,
     "metadata": {},
     "output_type": "execute_result"
    }
   ],
   "source": [
    "cluster_recomm(index = 6,algorithm = ms,n_return = 5)"
   ]
  },
  {
   "cell_type": "markdown",
   "metadata": {},
   "source": [
    "## K-means"
   ]
  },
  {
   "cell_type": "markdown",
   "metadata": {},
   "source": [
    "The KMeans algorithm clusters data by trying to separate samples in n groups of equal variance, minimizing a criterion known as the inertia or within-cluster sum-of-squares. This algorithm requires the number of clusters to be specified. It scales well to large number of samples and has been used across a large range of application areas in many different fields."
   ]
  },
  {
   "cell_type": "code",
   "execution_count": 169,
   "metadata": {
    "colab": {
     "base_uri": "https://localhost:8080/"
    },
    "id": "3PdnwHAv_xau",
    "outputId": "450ba138-6621-4211-a4fd-309cf29bfa61"
   },
   "outputs": [],
   "source": [
    "# Import KMeans library\n",
    "from sklearn.cluster import KMeans\n",
    "import numpy as np"
   ]
  },
  {
   "cell_type": "code",
   "execution_count": 170,
   "metadata": {},
   "outputs": [
    {
     "data": {
      "text/plain": [
       "(425, 6)"
      ]
     },
     "execution_count": 170,
     "metadata": {},
     "output_type": "execute_result"
    }
   ],
   "source": [
    "# Using Kernel PCA\n",
    "# kernel = \"cosine\": This is called cosine similarity, because Euclidean (L2) normalization projects the vectors onto the unit sphere, and their dot product is then the cosine of the angle between the points denoted by the vectors.\n",
    "\n",
    "kpca = KernelPCA(n_components=6,kernel=\"cosine\", n_jobs=2)\n",
    "\n",
    "# Using the transform method we can use the same mean and variance as it is calculated from our training data to transform our test data. \n",
    "#Thus, the parameters learned by our model using the training data will help us to transform our test data.\n",
    "x_pca = kpca.fit_transform(X)\n",
    "x_pca.shape"
   ]
  },
  {
   "cell_type": "code",
   "execution_count": 171,
   "metadata": {},
   "outputs": [
    {
     "data": {
      "text/plain": [
       "array([13,  4, 12, 14,  2,  2,  6,  3,  2,  3,  0,  3,  6,  3, 15,  2,  9,\n",
       "       11,  3, 13, 13,  2, 12,  2, 11, 14,  6, 14,  1,  3,  2, 13,  2, 11,\n",
       "        3, 13,  2,  3,  3,  2, 15,  4, 12, 12, 15, 10, 15, 15,  2, 15,  4,\n",
       "       12, 15,  2,  7, 14, 13,  4, 10,  2, 13,  2,  5,  6,  3,  2,  3,  4,\n",
       "        3,  3,  3, 15,  8,  2, 14, 14, 15,  2,  1,  4,  1,  2,  3, 12,  2,\n",
       "        2,  2,  3,  3,  3,  2,  1,  7,  2, 10,  1, 15,  3, 10,  1,  0,  1,\n",
       "        7,  2,  1, 13,  1, 13,  6,  5,  3,  1,  8, 12,  5,  5,  6, 10,  2,\n",
       "       13,  6,  5,  3,  2,  3,  3,  0,  9,  4,  5,  3,  3,  7, 12,  3,  6,\n",
       "        3,  3,  3,  2, 11, 14,  4,  4,  3,  4,  2,  0,  5,  4,  3, 12,  3,\n",
       "        8,  3, 10,  3,  3,  7,  5,  1,  7,  2,  6,  7,  0,  3,  0,  7,  3,\n",
       "        0, 12,  2,  4,  3,  6,  3,  3,  5,  3, 14,  3,  7,  3, 12,  5,  7,\n",
       "        3,  3,  3,  6, 10,  1,  4,  5,  3,  7, 15,  5,  3,  7, 14, 11,  3,\n",
       "        0,  4, 14,  5, 11,  5,  7,  3,  7,  4,  4, 14,  3,  3,  0,  7,  3,\n",
       "        7, 14,  7,  7,  3,  4, 14,  3,  3,  4,  0, 12,  8,  7,  1,  6,  4,\n",
       "       12,  5, 15,  3,  3,  3, 15,  3,  2,  3,  4,  6, 11, 15,  3,  3,  4,\n",
       "        7,  4,  0,  3,  1, 12, 14,  1, 14,  7,  6,  4,  3,  7, 14,  0,  4,\n",
       "        2,  8,  3,  5,  6, 11, 10,  9, 14,  4, 11,  7,  2,  0, 12,  7,  5,\n",
       "        3,  4,  4,  4,  2,  3,  1, 14,  3,  6,  4,  3,  3,  5,  2,  0,  6,\n",
       "        3,  3,  0,  3,  0,  7,  3,  7,  7,  0, 14,  5,  3,  2,  3,  0,  3,\n",
       "        7,  0,  4,  4,  3,  1,  3,  5,  4, 14,  7,  3,  9, 11,  3, 10,  6,\n",
       "       14,  4,  2,  2,  4, 14,  3, 12,  8,  4,  3,  3, 14,  0,  3,  3,  2,\n",
       "       14, 14, 10,  3,  5,  2,  0,  8,  3,  5,  3,  5,  6, 11,  9, 11,  4,\n",
       "        4,  4, 14,  3,  3,  2, 14,  7,  2,  3,  3,  7,  3,  3,  9,  3,  4,\n",
       "        3,  2,  4,  3,  8,  1,  5,  3,  4,  0,  0,  3,  5,  8, 11,  5,  7,\n",
       "       11,  3,  2,  8,  3,  9,  4,  4,  3,  0,  7,  0, 14,  3, 14,  0,  5],\n",
       "      dtype=int32)"
      ]
     },
     "execution_count": 171,
     "metadata": {},
     "output_type": "execute_result"
    }
   ],
   "source": [
    "# n_cluster: The number of clusters to form as well as the number of centroids to generate\n",
    "# random_state: Determines random number generation for centroid initialization. Use an int to make the randomness deterministic.\n",
    "# labels_: ndarray of shape (n_samples,)\n",
    "#Labels of each point\n",
    "kmeans = KMeans(n_clusters=16, random_state=42).fit(x_pca)\n",
    "kmeans.labels_"
   ]
  },
  {
   "cell_type": "code",
   "execution_count": 172,
   "metadata": {
    "id": "ZV1FbSCyCUPR"
   },
   "outputs": [],
   "source": [
    "# Fit.predict compute cluster centers and predict cluster index for each sample.\n",
    "label = kmeans.fit_predict(x_pca)"
   ]
  },
  {
   "cell_type": "code",
   "execution_count": 173,
   "metadata": {
    "colab": {
     "base_uri": "https://localhost:8080/",
     "height": 265
    },
    "id": "SQ7pUlP6h-Ri",
    "outputId": "faadb0bc-e7a1-4016-f66c-f343ee67d23e"
   },
   "outputs": [
    {
     "data": {
      "image/png": "[encoded data removed]",
      "text/plain": [
       "<Figure size 432x288 with 1 Axes>"
      ]
     },
     "metadata": {
      "needs_background": "light"
     },
     "output_type": "display_data"
    }
   ],
   "source": [
    "# Getting unique labels\n",
    "u_labels = np.unique(label)\n",
    " \n",
    "# Plotting the results:\n",
    "for i in u_labels:\n",
    "    plt.scatter(x_pca[label == i , 0] , x_pca[label == i , 1] , label = i)\n",
    "plt.legend()\n",
    "plt.show()"
   ]
  },
  {
   "cell_type": "code",
   "execution_count": 174,
   "metadata": {},
   "outputs": [],
   "source": [
    "# Recommendations\n",
    "def cluster_recomm(index,algorithm = kmeans,n_return = 5):\n",
    "    cluster = algorithm.predict(x_pca[index].reshape(1, -1))[0]\n",
    "    cluster_map = pd.DataFrame()\n",
    "    cluster_map['cluster'] = algorithm.labels_\n",
    "    in_cluster = cluster_map[cluster_map.cluster == cluster].sample(n=n_return, random_state = 42)\n",
    "    return y[in_cluster.index]"
   ]
  },
  {
   "cell_type": "code",
   "execution_count": 175,
   "metadata": {},
   "outputs": [
    {
     "data": {
      "text/plain": [
       "6           Allegheny\n",
       "116      Tequila Fizz\n",
       "236         Gagliardo\n",
       "12           Applecar\n",
       "163    Coke and Drops\n",
       "Name: strDrink, dtype: object"
      ]
     },
     "execution_count": 175,
     "metadata": {},
     "output_type": "execute_result"
    }
   ],
   "source": [
    "cluster_recomm(index = 6,algorithm = kmeans,n_return = 5)"
   ]
  },
  {
   "cell_type": "markdown",
   "metadata": {},
   "source": [
    "## Cosine Distance"
   ]
  },
  {
   "cell_type": "code",
   "execution_count": 22,
   "metadata": {
    "id": "MZQdi54xkS9s"
   },
   "outputs": [],
   "source": [
    "# Import library spatial\n",
    "from scipy import spatial\n",
    "\n",
    "# This function return the \"n_return\" similar cocktails, based in theri ingredients.\n",
    "\n",
    "def get_cosine_distance(objective,n_return = 5):\n",
    "  values = []\n",
    "  for i in range(len(X)):\n",
    "    values.append(1 - spatial.distance.cosine(objective, X[i]))\n",
    "  ind = np.argpartition(values, -1 * n_return)[-1 * n_return:]\n",
    "  top_n = y[ind]\n",
    "  return top_n"
   ]
  },
  {
   "cell_type": "code",
   "execution_count": 23,
   "metadata": {
    "colab": {
     "base_uri": "https://localhost:8080/"
    },
    "id": "3uWQV6Mgkoql",
    "outputId": "bb790b77-32f2-4ff2-a726-72adebe0018d"
   },
   "outputs": [
    {
     "data": {
      "text/plain": [
       "293        French Negroni\n",
       "15              Artillery\n",
       "343                Victor\n",
       "73     Lone Tree Cocktail\n",
       "4                 Negroni\n",
       "Name: strDrink, dtype: object"
      ]
     },
     "execution_count": 23,
     "metadata": {},
     "output_type": "execute_result"
    }
   ],
   "source": [
    "# Example run of the above function.\n",
    "get_cosine_distance(X[4])"
   ]
  },
  {
   "cell_type": "markdown",
   "metadata": {
    "id": "dlSdscMOiIeg"
   },
   "source": [
    "# References\n",
    "\n",
    "https://plotly.com/python/pca-visualization/\n",
    "\n",
    "https://programminghistorian.org/en/lessons/clustering-with-scikit-learn-in-python\n",
    "\n",
    "https://medium.com/web-mining-is688-spring-2021/how-dishes-are-clustered-together-based-on-the-ingredients-3b357ac02b26\n",
    "\n",
    "https://scikit-learn.org/stable/modules/generated/sklearn.cluster.KMeans.html\n",
    "\n",
    "https://www.askpython.com/python/examples/plot-k-means-clusters-python\n",
    "\n",
    "https://numpy.org/doc/stable/reference/generated/numpy.argpartition.html"
   ]
  }
 ],
 "metadata": {
  "colab": {
   "collapsed_sections": [],
   "name": "Recomm_Clustering.ipynb",
   "provenance": [],
   "toc_visible": true
  },
  "environment": {
   "kernel": "python3",
   "name": "common-cpu.m90",
   "type": "gcloud",
   "uri": "gcr.io/deeplearning-platform-release/base-cpu:m90"
  },
  "kernelspec": {
   "display_name": "Python 3",
   "language": "python",
   "name": "python3"
  },
  "language_info": {
   "codemirror_mode": {
    "name": "ipython",
    "version": 3
   },
   "file_extension": ".py",
   "mimetype": "text/x-python",
   "name": "python",
   "nbconvert_exporter": "python",
   "pygments_lexer": "ipython3",
   "version": "3.7.12"
  }
 },
 "nbformat": 4,
 "nbformat_minor": 4
}
