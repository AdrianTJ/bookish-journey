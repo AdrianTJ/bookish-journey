{
 "cells": [
  {
   "cell_type": "markdown",
   "id": "3194522c-f049-4673-966d-43bed099d62d",
   "metadata": {},
   "source": [
    "# Imports and GCP Setup"
   ]
  },
  {
   "cell_type": "code",
   "execution_count": 1,
   "id": "1c55eaf5-9859-442b-b573-823523e2de92",
   "metadata": {},
   "outputs": [],
   "source": [
    "# Import libraries \n",
    "import yaml\n",
    "import string\n",
    "import requests\n",
    "\n",
    "# Recall from the APIs for Data lab that including passwords in code is a terrible practice. \n",
    "# So we include a yaml file.\n",
    "config_file = open('GCP_model_details.yaml', 'r')\n",
    "config = yaml.safe_load(config_file)"
   ]
  },
  {
   "cell_type": "code",
   "execution_count": 2,
   "id": "602d5c95-3e1a-45f5-9fb2-186ca6269141",
   "metadata": {},
   "outputs": [
    {
     "name": "stdout",
     "output_type": "stream",
     "text": [
      "Setting up envirement variables\n",
      "Done\n",
      "\n",
      "Setting project up\n",
      "Updated property [core/project].\n",
      "Done\n",
      "\n",
      "Enabling APIs\n",
      "Operation \"operations/acat.p2-679997314711-12b1cd78-79a6-4572-a7d2-2b1cce9d2ac1\" finished successfully.\n",
      "Done\n",
      "\n",
      "Making a bucket, if it exists, returns error\n",
      "Creating gs://bookish-journey-clustering/...\n",
      "ServiceException: 409 A Cloud Storage bucket named 'bookish-journey-clustering' already exists. Try another name. Bucket names must be globally unique across all Google Cloud projects, including those outside of your organization.\n",
      "Done\n",
      "\n"
     ]
    }
   ],
   "source": [
    "!source GCP_modeling_setup.sh"
   ]
  },
  {
   "cell_type": "markdown",
   "id": "228f8a19-4b90-4bc4-9059-f86ac50ca36f",
   "metadata": {},
   "source": [
    "## Modeling"
   ]
  },
  {
   "cell_type": "code",
   "execution_count": 3,
   "id": "1afc9e16-32c9-470d-bac5-c2c4cbae229e",
   "metadata": {},
   "outputs": [],
   "source": [
    "import numpy as np\n",
    "import pandas as pd\n",
    "import pathlib"
   ]
  },
  {
   "cell_type": "code",
   "execution_count": 4,
   "id": "cb6bbf90-9a7f-4613-b178-c823709d2e66",
   "metadata": {},
   "outputs": [],
   "source": [
    "# From sklearn importing DictVectorizer: Transforms lists of feature-value mappings to vectors.\n",
    "# Importing KernelPCA: Kernel Principal component analysis (KPCA).\n",
    "# Importing itertools provides various functions that work on iterators. \n",
    "\n",
    "from sklearn.feature_extraction import DictVectorizer\n",
    "from sklearn.decomposition import KernelPCA\n",
    "import itertools"
   ]
  },
  {
   "cell_type": "code",
   "execution_count": 5,
   "id": "811ced97-a8ff-42c4-8257-ba23aa80bd84",
   "metadata": {},
   "outputs": [
    {
     "name": "stderr",
     "output_type": "stream",
     "text": [
      "Query complete after 0.00s: 100%|██████████| 1/1 [00:00<00:00, 1014.10query/s]\n",
      "Downloading: 100%|██████████| 425/425 [00:00<00:00, 494.24rows/s]\n"
     ]
    }
   ],
   "source": [
    "%%bigquery base\n",
    "\n",
    "SELECT \n",
    "    idDrink,\n",
    "    strDrink,\n",
    "    strIngredient1,\n",
    "    strIngredient2,\n",
    "    strIngredient3,\n",
    "    strIngredient4,\n",
    "    strIngredient5,\n",
    "    strIngredient6,\n",
    "    strIngredient7,\n",
    "    strIngredient8,\n",
    "    strIngredient9,\n",
    "    strIngredient10,\n",
    "    strIngredient11,\n",
    "    strIngredient12,\n",
    "    strIngredient13,\n",
    "    strIngredient14,\n",
    "    strIngredient15\n",
    "FROM `#########.cocktails_dataset.cocktails-table`"
   ]
  },
  {
   "cell_type": "code",
   "execution_count": 6,
   "id": "1f88df97-6ebf-4765-b403-357f7477b15f",
   "metadata": {},
   "outputs": [
    {
     "data": {
      "text/html": [
       "<div>\n",
       "<style scoped>\n",
       "    .dataframe tbody tr th:only-of-type {\n",
       "        vertical-align: middle;\n",
       "    }\n",
       "\n",
       "    .dataframe tbody tr th {\n",
       "        vertical-align: top;\n",
       "    }\n",
       "\n",
       "    .dataframe thead th {\n",
       "        text-align: right;\n",
       "    }\n",
       "</style>\n",
       "<table border=\"1\" class=\"dataframe\">\n",
       "  <thead>\n",
       "    <tr style=\"text-align: right;\">\n",
       "      <th></th>\n",
       "      <th>idDrink</th>\n",
       "      <th>strDrink</th>\n",
       "      <th>strIngredient1</th>\n",
       "      <th>strIngredient2</th>\n",
       "      <th>strIngredient3</th>\n",
       "      <th>strIngredient4</th>\n",
       "      <th>strIngredient5</th>\n",
       "      <th>strIngredient6</th>\n",
       "      <th>strIngredient7</th>\n",
       "      <th>strIngredient8</th>\n",
       "      <th>strIngredient9</th>\n",
       "      <th>strIngredient10</th>\n",
       "      <th>strIngredient11</th>\n",
       "      <th>strIngredient12</th>\n",
       "      <th>strIngredient13</th>\n",
       "      <th>strIngredient14</th>\n",
       "      <th>strIngredient15</th>\n",
       "    </tr>\n",
       "  </thead>\n",
       "  <tbody>\n",
       "    <tr>\n",
       "      <th>420</th>\n",
       "      <td>11991</td>\n",
       "      <td>Queen Elizabeth</td>\n",
       "      <td>Dry Vermouth</td>\n",
       "      <td>Gin</td>\n",
       "      <td>Benedictine</td>\n",
       "      <td>None</td>\n",
       "      <td>None</td>\n",
       "      <td>None</td>\n",
       "      <td>None</td>\n",
       "      <td>None</td>\n",
       "      <td>None</td>\n",
       "      <td>None</td>\n",
       "      <td>None</td>\n",
       "      <td>None</td>\n",
       "      <td>None</td>\n",
       "      <td>None</td>\n",
       "      <td>None</td>\n",
       "    </tr>\n",
       "    <tr>\n",
       "      <th>421</th>\n",
       "      <td>12910</td>\n",
       "      <td>Egg Nog #4</td>\n",
       "      <td>Egg yolk</td>\n",
       "      <td>Sugar</td>\n",
       "      <td>Milk</td>\n",
       "      <td>Light rum</td>\n",
       "      <td>Bourbon</td>\n",
       "      <td>Vanilla extract</td>\n",
       "      <td>Salt</td>\n",
       "      <td>Whipping cream</td>\n",
       "      <td>Egg white</td>\n",
       "      <td>Sugar</td>\n",
       "      <td>Nutmeg</td>\n",
       "      <td>None</td>\n",
       "      <td>None</td>\n",
       "      <td>None</td>\n",
       "      <td>None</td>\n",
       "    </tr>\n",
       "    <tr>\n",
       "      <th>422</th>\n",
       "      <td>12768</td>\n",
       "      <td>Frappé</td>\n",
       "      <td>Coffee</td>\n",
       "      <td>Milk</td>\n",
       "      <td>Sugar</td>\n",
       "      <td>None</td>\n",
       "      <td>None</td>\n",
       "      <td>None</td>\n",
       "      <td>None</td>\n",
       "      <td>None</td>\n",
       "      <td>None</td>\n",
       "      <td>None</td>\n",
       "      <td>None</td>\n",
       "      <td>None</td>\n",
       "      <td>None</td>\n",
       "      <td>None</td>\n",
       "      <td>None</td>\n",
       "    </tr>\n",
       "    <tr>\n",
       "      <th>423</th>\n",
       "      <td>17225</td>\n",
       "      <td>Ace</td>\n",
       "      <td>Gin</td>\n",
       "      <td>Grenadine</td>\n",
       "      <td>Heavy cream</td>\n",
       "      <td>Milk</td>\n",
       "      <td>Egg White</td>\n",
       "      <td>None</td>\n",
       "      <td>None</td>\n",
       "      <td>None</td>\n",
       "      <td>None</td>\n",
       "      <td>None</td>\n",
       "      <td>None</td>\n",
       "      <td>None</td>\n",
       "      <td>None</td>\n",
       "      <td>None</td>\n",
       "      <td>None</td>\n",
       "    </tr>\n",
       "    <tr>\n",
       "      <th>424</th>\n",
       "      <td>17241</td>\n",
       "      <td>Zombie</td>\n",
       "      <td>Rum</td>\n",
       "      <td>Gold rum</td>\n",
       "      <td>151 proof rum</td>\n",
       "      <td>Pernod</td>\n",
       "      <td>Grenadine</td>\n",
       "      <td>Lime Juice</td>\n",
       "      <td>Angostura Bitters</td>\n",
       "      <td>None</td>\n",
       "      <td>None</td>\n",
       "      <td>None</td>\n",
       "      <td>None</td>\n",
       "      <td>None</td>\n",
       "      <td>None</td>\n",
       "      <td>None</td>\n",
       "      <td>None</td>\n",
       "    </tr>\n",
       "  </tbody>\n",
       "</table>\n",
       "</div>"
      ],
      "text/plain": [
       "     idDrink         strDrink strIngredient1 strIngredient2 strIngredient3  \\\n",
       "420    11991  Queen Elizabeth   Dry Vermouth            Gin    Benedictine   \n",
       "421    12910       Egg Nog #4       Egg yolk          Sugar           Milk   \n",
       "422    12768           Frappé         Coffee           Milk          Sugar   \n",
       "423    17225              Ace            Gin      Grenadine    Heavy cream   \n",
       "424    17241           Zombie            Rum       Gold rum  151 proof rum   \n",
       "\n",
       "    strIngredient4 strIngredient5   strIngredient6     strIngredient7  \\\n",
       "420           None           None             None               None   \n",
       "421      Light rum        Bourbon  Vanilla extract               Salt   \n",
       "422           None           None             None               None   \n",
       "423           Milk      Egg White             None               None   \n",
       "424         Pernod      Grenadine       Lime Juice  Angostura Bitters   \n",
       "\n",
       "     strIngredient8 strIngredient9 strIngredient10 strIngredient11  \\\n",
       "420            None           None            None            None   \n",
       "421  Whipping cream      Egg white           Sugar          Nutmeg   \n",
       "422            None           None            None            None   \n",
       "423            None           None            None            None   \n",
       "424            None           None            None            None   \n",
       "\n",
       "    strIngredient12 strIngredient13 strIngredient14 strIngredient15  \n",
       "420            None            None            None            None  \n",
       "421            None            None            None            None  \n",
       "422            None            None            None            None  \n",
       "423            None            None            None            None  \n",
       "424            None            None            None            None  "
      ]
     },
     "execution_count": 6,
     "metadata": {},
     "output_type": "execute_result"
    }
   ],
   "source": [
    "base.tail()"
   ]
  },
  {
   "cell_type": "code",
   "execution_count": 7,
   "id": "adebc2d5-7c8b-4603-a24b-ef42f71e1a35",
   "metadata": {},
   "outputs": [],
   "source": [
    "# Drop empty columns\n",
    "base = base.drop(['strIngredient12','strIngredient13','strIngredient14','strIngredient15'],axis=1)"
   ]
  },
  {
   "cell_type": "markdown",
   "id": "392ea97b-cfcc-411c-a3ee-a23279ed3dc1",
   "metadata": {},
   "source": [
    "## Feature Engineering"
   ]
  },
  {
   "cell_type": "code",
   "execution_count": 8,
   "id": "187db25e-0de3-4f90-ae51-99bbeb0ec2fe",
   "metadata": {},
   "outputs": [],
   "source": [
    "# Replace NaN with \"\"\n",
    "base = base.replace(np.nan,\"\")"
   ]
  },
  {
   "cell_type": "code",
   "execution_count": 9,
   "id": "450ef627-2d14-48a4-8b43-d84f51846973",
   "metadata": {},
   "outputs": [
    {
     "data": {
      "text/plain": [
       "0    Gin,Carbonated water,Powdered sugar,Orange spi...\n",
       "1    Egg,Sugar,Condensed milk,Milk,Vanilla extract,...\n",
       "2                   Advocaat,Lemonade,Lemon,Ice,,,,,,,\n",
       "3                  Espresso,Honey,Cocoa powder,,,,,,,,\n",
       "4                           Sugar,Lime,Cachaca,,,,,,,,\n",
       "Name: ingredients, dtype: object"
      ]
     },
     "execution_count": 9,
     "metadata": {},
     "output_type": "execute_result"
    }
   ],
   "source": [
    "# Create a ner variable, ingredients, that has all the previous ingredients together. \n",
    "base['ingredients'] = base[['strIngredient1','strIngredient2','strIngredient3','strIngredient4','strIngredient5',\n",
    "        'strIngredient6','strIngredient7','strIngredient8','strIngredient9','strIngredient10','strIngredient11']].agg(','.join, axis=1)\n",
    "base.ingredients.head()"
   ]
  },
  {
   "cell_type": "code",
   "execution_count": 10,
   "id": "bd8b5a6a-bec2-4fbb-8274-1db52188665c",
   "metadata": {},
   "outputs": [
    {
     "data": {
      "text/plain": [
       "0      gin,carbonated water,powdered sugar,orange spi...\n",
       "1      egg,sugar,condensed milk,milk,vanilla extract,...\n",
       "2                     advocaat,lemonade,lemon,ice,,,,,,,\n",
       "3                    espresso,honey,cocoa powder,,,,,,,,\n",
       "4                             sugar,lime,cachaca,,,,,,,,\n",
       "                             ...                        \n",
       "420                 dry vermouth,gin,benedictine,,,,,,,,\n",
       "421    egg yolk,sugar,milk,light rum,bourbon,vanilla ...\n",
       "422                            coffee,milk,sugar,,,,,,,,\n",
       "423       gin,grenadine,heavy cream,milk,egg white,,,,,,\n",
       "424    rum,gold rum,151 proof rum,pernod,grenadine,li...\n",
       "Name: ingredients, Length: 425, dtype: object"
      ]
     },
     "execution_count": 10,
     "metadata": {},
     "output_type": "execute_result"
    }
   ],
   "source": [
    "# Function to transform letters to lowercase.\n",
    "\n",
    "def lower(text):\n",
    "    text=text.lower()\n",
    "    return text\n",
    "\n",
    "# Pass all words throw the funtion and append them\n",
    "ingredients_low=[]\n",
    "for i in base.ingredients:\n",
    "    il=lower(i)\n",
    "    ingredients_low.append(il)\n",
    "\n",
    "base['ingredients']=ingredients_low\n",
    "base.ingredients"
   ]
  },
  {
   "cell_type": "code",
   "execution_count": 11,
   "id": "531aa5c9-f1d7-4f90-a7d2-0a7fd99cfc7b",
   "metadata": {},
   "outputs": [
    {
     "name": "stdout",
     "output_type": "stream",
     "text": [
      "0      {'gin': 1, 'carbonated water': 1, 'powdered su...\n",
      "1      {'egg': 1, 'sugar': 1, 'condensed milk': 1, 'm...\n",
      "2      {'advocaat': 1, 'lemonade': 1, 'lemon': 1, 'ic...\n",
      "3      {'espresso': 1, 'honey': 1, 'cocoa powder': 1,...\n",
      "4           {'sugar': 1, 'lime': 1, 'cachaca': 1, '': 1}\n",
      "                             ...                        \n",
      "420    {'dry vermouth': 1, 'gin': 1, 'benedictine': 1...\n",
      "421    {'egg yolk': 1, 'sugar': 1, 'milk': 1, 'light ...\n",
      "422          {'coffee': 1, 'milk': 1, 'sugar': 1, '': 1}\n",
      "423    {'gin': 1, 'grenadine': 1, 'heavy cream': 1, '...\n",
      "424    {'rum': 1, 'gold rum': 1, '151 proof rum': 1, ...\n",
      "Name: bagofwords, Length: 425, dtype: object\n"
     ]
    }
   ],
   "source": [
    "# This function convert a list of ingredients into a dictionary, note: every ingredient gets a 1.\n",
    "# this mean that the value of every key is 1. key:value\n",
    "\n",
    "def convert_to_dict(lst):\n",
    "    d = {} #empty dict\n",
    "    for ingre in lst:\n",
    "        d[ingre] = 1\n",
    "    return d\n",
    "\n",
    "# We use the function to convert every row into a dictionary. \n",
    "# 'vodka': 1, 'lime juice': 1... this will help us later to create a one hot encoding.\n",
    "base['bagofwords'] = base.ingredients.str.split(',').apply(convert_to_dict)\n",
    "print(base.bagofwords)"
   ]
  },
  {
   "cell_type": "code",
   "execution_count": 12,
   "id": "93d17d69-3f9a-42f7-9e8b-ac9142fd2a19",
   "metadata": {},
   "outputs": [],
   "source": [
    "# One Hot Encoding\n",
    "# To find similarities between dishes and cluster cocktails using their ingredients, we will represent a recipe by a one-hot encoded vector \n",
    "# of its ingredients. We will be establishing a vocabulary of ingredients using a method ‘DictVectorizer’ provided in the sklearn library\n",
    "\n",
    "# DictVectorizer:This transformer turns lists of mappings (dict-like objects) of feature names to feature values into Numpy arrays or scipy.sparse matrices for use with scikit-learn estimators.\n",
    "# sparse, default=True. Whether transform should produce scipy.sparse matrices. In this case we set it as False.\n",
    "\n",
    "vector_dict = DictVectorizer(sparse = False)\n",
    "\n",
    "# fit_transform() is used on the training data so that we can scale the training data and also learn the scaling parameters of that data. \n",
    "#The fit method is calculating the mean and variance of each of the features present in our data. \n",
    "#The transform method is transforming all the features using the respective mean and variance.\n",
    "# We past every dictionary into a list.\n",
    "X = vector_dict.fit_transform(base[\"bagofwords\"].tolist())\n",
    "\n",
    "# We select the column strDrink(name of the drink) from the dataset\n",
    "y = base.strDrink"
   ]
  },
  {
   "cell_type": "markdown",
   "id": "b21f7b50-b063-44ec-9e4f-6a666a6f0fd9",
   "metadata": {},
   "source": [
    "## Training a Model: Mean Shift Clustering"
   ]
  },
  {
   "cell_type": "code",
   "execution_count": 13,
   "id": "5501062e-19b2-485c-9d10-e30e4370515a",
   "metadata": {},
   "outputs": [],
   "source": [
    "# Using Kernel PCA\n",
    "# kernel = \"cosine\": This is called cosine similarity, because Euclidean (L2) normalization projects the vectors onto the unit sphere, and their dot product is then the cosine of the angle between the points denoted by the vectors.\n",
    "\n",
    "kpca = KernelPCA(n_components=2,kernel=\"cosine\", n_jobs=2)\n",
    "\n",
    "# Using the transform method we can use the same mean and variance as it is calculated from our training data to transform our test data. \n",
    "#Thus, the parameters learned by our model using the training data will help us to transform our test data.\n",
    "x_pca = kpca.fit_transform(X)"
   ]
  },
  {
   "cell_type": "code",
   "execution_count": 14,
   "id": "23a054d9-724e-45b0-9008-050539ba0345",
   "metadata": {},
   "outputs": [],
   "source": [
    "from sklearn.cluster import MeanShift\n",
    "ms = MeanShift().fit(x_pca)"
   ]
  },
  {
   "cell_type": "code",
   "execution_count": 15,
   "id": "f7e4428d-55c1-43c7-b56f-92da8672fd24",
   "metadata": {},
   "outputs": [],
   "source": [
    "# Recommendations\n",
    "def cluster_recomm(index,algorithm = ms,n_return = 5):\n",
    "    cluster = algorithm.predict(x_pca[index].reshape(1, -1))[0]\n",
    "    cluster_map = pd.DataFrame()\n",
    "    cluster_map['cluster'] = algorithm.labels_\n",
    "    in_cluster = cluster_map[cluster_map.cluster == cluster].sample(n=n_return, random_state = 42)\n",
    "    return y[in_cluster.index]"
   ]
  },
  {
   "cell_type": "code",
   "execution_count": 16,
   "id": "7d903e0f-8f7d-4dcc-956b-7ee561fb9aca",
   "metadata": {},
   "outputs": [
    {
     "data": {
      "text/plain": [
       "226    Orange Oasis\n",
       "0        Gin Cooler\n",
       "227       Boomerang\n",
       "Name: strDrink, dtype: object"
      ]
     },
     "execution_count": 16,
     "metadata": {},
     "output_type": "execute_result"
    }
   ],
   "source": [
    "cluster_recomm(index = 6,algorithm = ms,n_return = 3)"
   ]
  },
  {
   "cell_type": "markdown",
   "id": "d7ebf6ad-3a17-4373-8692-f5340963d5d2",
   "metadata": {},
   "source": [
    "## Saving Model"
   ]
  },
  {
   "cell_type": "code",
   "execution_count": 17,
   "id": "52b1da3f-4896-4b51-9442-f19a21d85a8f",
   "metadata": {},
   "outputs": [],
   "source": [
    "import joblib\n",
    "from google.cloud import storage\n",
    "import datetime"
   ]
  },
  {
   "cell_type": "code",
   "execution_count": 18,
   "id": "1e0e3317-f2c9-4fba-ab84-4d22aeb1b5a3",
   "metadata": {},
   "outputs": [
    {
     "data": {
      "text/plain": [
       "['model.joblib']"
      ]
     },
     "execution_count": 18,
     "metadata": {},
     "output_type": "execute_result"
    }
   ],
   "source": [
    "# Export the model to a file\n",
    "model = 'model.joblib'\n",
    "joblib.dump(ms, model)"
   ]
  },
  {
   "cell_type": "code",
   "execution_count": 19,
   "id": "06545748-71b3-4fa2-96c5-d1863e68ffc2",
   "metadata": {},
   "outputs": [],
   "source": [
    "# Public bucket holding the census data\n",
    "bucket = storage.Client().bucket(config['bucket_name'])\n",
    "\n",
    "# Upload the model to GCS\n",
    "bucket = storage.Client().get_bucket(bucket)\n",
    "blob = bucket.blob(\"MeanShift/\" + model)\n",
    "blob.upload_from_filename(model)"
   ]
  },
  {
   "cell_type": "markdown",
   "id": "45e63ad2-37cd-4129-979b-e81358e5d8da",
   "metadata": {},
   "source": [
    "# Sending Model to Vertex AI"
   ]
  },
  {
   "cell_type": "code",
   "execution_count": 21,
   "id": "d17ad6bf-895f-4051-a897-4448e97a5c64",
   "metadata": {},
   "outputs": [
    {
     "name": "stdout",
     "output_type": "stream",
     "text": [
      "Setting up envirement variables\n",
      "Done\n",
      "\n",
      "Uploading Model\n",
      "Using endpoint [https://us-central1-aiplatform.googleapis.com/]\n",
      "Waiting for operation [7800210983825178624]...done.                            \n",
      "Done\n",
      "\n",
      "Creating endpoint\n",
      "Using endpoint [https://us-central1-aiplatform.googleapis.com/]\n",
      "Waiting for operation [6737361471765741568]...done.                            \n",
      "Created Vertex AI endpoint: projects/679997314711/locations/us-central1/endpoints/7561095173610930176.\n",
      "Done\n",
      "\n",
      "Deploying Model\n",
      "Using endpoint [https://us-central1-aiplatform.googleapis.com/]\n",
      "Waiting for operation [6647289479218331648]...done.                            \n",
      "Deployed a model to the endpoint 2331290106326941696. Id of the deployed model: 2348125828371447808.\n",
      "Done\n",
      "\n"
     ]
    }
   ],
   "source": [
    "!source GCP_Deploying_MeanShift.sh"
   ]
  },
  {
   "cell_type": "code",
   "execution_count": null,
   "id": "7fec115d-83d1-4b35-b6ef-ad913ae14ed7",
   "metadata": {},
   "outputs": [],
   "source": []
  }
 ],
 "metadata": {
  "environment": {
   "kernel": "python3",
   "name": "common-cpu.m90",
   "type": "gcloud",
   "uri": "gcr.io/deeplearning-platform-release/base-cpu:m90"
  },
  "kernelspec": {
   "display_name": "Python 3",
   "language": "python",
   "name": "python3"
  },
  "language_info": {
   "codemirror_mode": {
    "name": "ipython",
    "version": 3
   },
   "file_extension": ".py",
   "mimetype": "text/x-python",
   "name": "python",
   "nbconvert_exporter": "python",
   "pygments_lexer": "ipython3",
   "version": "3.7.12"
  }
 },
 "nbformat": 4,
 "nbformat_minor": 5
}
